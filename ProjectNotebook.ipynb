{
 "cells": [
  {
   "cell_type": "raw",
   "metadata": {},
   "source": [
    "# Step 1: data pre-process steps and initial feature extraction\n",
    "\n",
    "# Step 2: Data insights and visualization including drop outliers\n",
    "# Basic stats, dividends per year, abnormal return hist given div direction\n",
    "\n",
    "# Step 3: Base line model\n",
    "Should we split train/test in the research linear regression? same for the regular one\n",
    "Which columns should I drop?\n",
    "\n",
    "# Step 4: Analysis of error + conclusions (years 2008-2009)\n",
    "\n",
    "# Step 5: Sensitivity analysis (size of window)\n",
    "\n",
    "# Step 6: Run new model (Regression) (naive + feature handler)\n",
    "\n",
    "# Step 7: Run different Regression models and compare\n",
    "\n",
    "# Step 8: Discrete Models\n",
    "\n",
    "# Step 9: Cross Validation, results and conclusions\n"
   ]
  },
  {
   "cell_type": "code",
   "execution_count": 87,
   "metadata": {},
   "outputs": [
    {
     "data": {
      "text/plain": [
       "<module 'run_model.regression_models' from 'C:\\\\Users\\\\Owner\\\\GIT\\\\DataSci\\\\run_model\\\\regression_models.py'>"
      ]
     },
     "execution_count": 87,
     "metadata": {},
     "output_type": "execute_result"
    }
   ],
   "source": [
    "import imp\n",
    "imp.reload(main)\n",
    "imp.reload(regression_models)"
   ]
  },
  {
   "cell_type": "code",
   "execution_count": 88,
   "metadata": {},
   "outputs": [],
   "source": [
    "from aggregate import aggregate\n",
    "from aggregate import capm_params\n",
    "from feature_handler import feature_handler\n",
    "from run_model import regression_models\n",
    "import pandas as pd\n",
    "import numpy as np\n",
    "import main\n",
    "import random\n",
    "import matplotlib.pyplot as plt\n",
    "import seaborn as sb\n",
    "import warnings\n",
    "warnings.filterwarnings('ignore')\n",
    "%matplotlib inline\n",
    "sb.set()"
   ]
  },
  {
   "cell_type": "markdown",
   "metadata": {},
   "source": [
    "### Step 0: Notebook intialization\n",
    "seed: \n",
    ">We ran the notebook using seed = 10\n",
    "\n",
    "run_speed:\n",
    ">3 - fastest (immediate)\\\n",
    "    2 - avrage\\\n",
    "    1 - slowest"
   ]
  },
  {
   "cell_type": "code",
   "execution_count": 89,
   "metadata": {},
   "outputs": [],
   "source": [
    "seed = 10\n",
    "random.seed(seed)\n",
    "np.random.seed(seed)\n",
    "run_speed = 3"
   ]
  },
  {
   "cell_type": "markdown",
   "metadata": {},
   "source": [
    "### Step 1: data pre-process steps and initial feature extraction\n",
    "This step include very intial data pre-processing:\n",
    "1. Drop NaNs\n",
    "2. Take care of data types\n",
    "3. Add dividend change and dividend change direction\n",
    "4. Add the abnormal return feature (which is the value we will try to predict and explain)\n"
   ]
  },
  {
   "cell_type": "code",
   "execution_count": 90,
   "metadata": {
    "scrolled": true
   },
   "outputs": [
    {
     "name": "stdout",
     "output_type": "stream",
     "text": [
      "Dropped 86 rows with NaN values\n",
      "################# Creating div_amount_num #################\n",
      "Found 77 samples were dividend_amount did not start with $ - drop\n",
      "Found 4 divdends that were eqaul to 0 - drop\n",
      ">>> Finished. Total dropped rows due to invalid dividend info: 81\n",
      "################# Creating div_direction and div_change ###\n",
      ">>> Finished\n",
      "################# Creating abnormal return related features ###\n",
      "\tfeature type = expected_t\t\t11 features\n",
      "\tfeature type = ar_t\t\t11 features\n",
      "\tfeature type = aar_t\t\t6 features\n",
      "\tfeature type = aar_t%\t\t6 features\n",
      ">>> Finished. Created 34 features\n"
     ]
    }
   ],
   "source": [
    "df = pd.read_csv(\"aggregated_data.csv\")\n",
    "\n",
    "rows_before = df.shape[0]\n",
    "df.dropna(inplace=True)\n",
    "rows_after = df.shape[0]\n",
    "print(\"Dropped {} rows with NaN values\".format(rows_before-rows_after))\n",
    "\n",
    "# dividend_amount to integer\n",
    "df = feature_handler.create_div_amount_num(df)\n",
    "df.drop(df[df[\"div_amount_num\"] == 0].index, inplace=True)\n",
    "df.drop(\"dividend_amount\", axis = 1, inplace = True)\n",
    "\n",
    "# Add dividend direction and dividend change\n",
    "df = feature_handler.gen_div_direction_and_change(df)\n",
    "\n",
    "# Add abnormal return data\n",
    "df = feature_handler.create_abnormal_return(df)\n",
    "df.reset_index()\n",
    "if run_speed <= 1: df.to_csv(\"data_with_ar.csv\", index=False)"
   ]
  },
  {
   "cell_type": "code",
   "execution_count": 91,
   "metadata": {},
   "outputs": [
    {
     "data": {
      "text/html": [
       "<div>\n",
       "<style scoped>\n",
       "    .dataframe tbody tr th:only-of-type {\n",
       "        vertical-align: middle;\n",
       "    }\n",
       "\n",
       "    .dataframe tbody tr th {\n",
       "        vertical-align: top;\n",
       "    }\n",
       "\n",
       "    .dataframe thead th {\n",
       "        text-align: right;\n",
       "    }\n",
       "</style>\n",
       "<table border=\"1\" class=\"dataframe\">\n",
       "  <thead>\n",
       "    <tr style=\"text-align: right;\">\n",
       "      <th></th>\n",
       "      <th>company_name</th>\n",
       "      <th>symbol</th>\n",
       "      <th>industry</th>\n",
       "      <th>sector</th>\n",
       "      <th>dividend_date</th>\n",
       "      <th>alpha</th>\n",
       "      <th>beta</th>\n",
       "      <th>price_t-5</th>\n",
       "      <th>vol_t-5</th>\n",
       "      <th>sp_price_t-5</th>\n",
       "      <th>...</th>\n",
       "      <th>aar_2</th>\n",
       "      <th>aar_3</th>\n",
       "      <th>aar_4</th>\n",
       "      <th>aar_5</th>\n",
       "      <th>aar_0%</th>\n",
       "      <th>aar_1%</th>\n",
       "      <th>aar_2%</th>\n",
       "      <th>aar_3%</th>\n",
       "      <th>aar_4%</th>\n",
       "      <th>aar_5%</th>\n",
       "    </tr>\n",
       "  </thead>\n",
       "  <tbody>\n",
       "    <tr>\n",
       "      <th>0</th>\n",
       "      <td>American Airlines Group, Inc.</td>\n",
       "      <td>AAL</td>\n",
       "      <td>Air Freight/Delivery Services</td>\n",
       "      <td>Transportation</td>\n",
       "      <td>2019-10-22</td>\n",
       "      <td>-33.847291</td>\n",
       "      <td>0.020567</td>\n",
       "      <td>27.930000</td>\n",
       "      <td>6709600.0</td>\n",
       "      <td>2997.949951</td>\n",
       "      <td>...</td>\n",
       "      <td>1.724005</td>\n",
       "      <td>2.212617</td>\n",
       "      <td>2.456924</td>\n",
       "      <td>2.497174</td>\n",
       "      <td>0.017549</td>\n",
       "      <td>0.017393</td>\n",
       "      <td>0.024743</td>\n",
       "      <td>0.033998</td>\n",
       "      <td>0.039134</td>\n",
       "      <td>0.040636</td>\n",
       "    </tr>\n",
       "    <tr>\n",
       "      <th>1</th>\n",
       "      <td>American Airlines Group, Inc.</td>\n",
       "      <td>AAL</td>\n",
       "      <td>Air Freight/Delivery Services</td>\n",
       "      <td>Transportation</td>\n",
       "      <td>2019-07-24</td>\n",
       "      <td>-29.842482</td>\n",
       "      <td>0.021049</td>\n",
       "      <td>33.080002</td>\n",
       "      <td>4249000.0</td>\n",
       "      <td>2976.610107</td>\n",
       "      <td>...</td>\n",
       "      <td>-1.616090</td>\n",
       "      <td>-1.858569</td>\n",
       "      <td>-1.979809</td>\n",
       "      <td>-2.131966</td>\n",
       "      <td>0.025877</td>\n",
       "      <td>-0.005287</td>\n",
       "      <td>-0.019312</td>\n",
       "      <td>-0.023825</td>\n",
       "      <td>-0.026337</td>\n",
       "      <td>-0.029026</td>\n",
       "    </tr>\n",
       "    <tr>\n",
       "      <th>2</th>\n",
       "      <td>American Airlines Group, Inc.</td>\n",
       "      <td>AAL</td>\n",
       "      <td>Air Freight/Delivery Services</td>\n",
       "      <td>Transportation</td>\n",
       "      <td>2019-04-24</td>\n",
       "      <td>-80.607557</td>\n",
       "      <td>0.039610</td>\n",
       "      <td>33.480000</td>\n",
       "      <td>3884200.0</td>\n",
       "      <td>2907.969971</td>\n",
       "      <td>...</td>\n",
       "      <td>-4.369771</td>\n",
       "      <td>-4.205517</td>\n",
       "      <td>-4.123390</td>\n",
       "      <td>-3.957069</td>\n",
       "      <td>-0.038206</td>\n",
       "      <td>-0.045773</td>\n",
       "      <td>-0.049474</td>\n",
       "      <td>-0.051065</td>\n",
       "      <td>-0.051951</td>\n",
       "      <td>-0.050990</td>\n",
       "    </tr>\n",
       "  </tbody>\n",
       "</table>\n",
       "<p>3 rows × 98 columns</p>\n",
       "</div>"
      ],
      "text/plain": [
       "                    company_name symbol                       industry  \\\n",
       "0  American Airlines Group, Inc.    AAL  Air Freight/Delivery Services   \n",
       "1  American Airlines Group, Inc.    AAL  Air Freight/Delivery Services   \n",
       "2  American Airlines Group, Inc.    AAL  Air Freight/Delivery Services   \n",
       "\n",
       "           sector dividend_date      alpha      beta  price_t-5    vol_t-5  \\\n",
       "0  Transportation    2019-10-22 -33.847291  0.020567  27.930000  6709600.0   \n",
       "1  Transportation    2019-07-24 -29.842482  0.021049  33.080002  4249000.0   \n",
       "2  Transportation    2019-04-24 -80.607557  0.039610  33.480000  3884200.0   \n",
       "\n",
       "   sp_price_t-5  ...     aar_2     aar_3     aar_4     aar_5    aar_0%  \\\n",
       "0   2997.949951  ...  1.724005  2.212617  2.456924  2.497174  0.017549   \n",
       "1   2976.610107  ... -1.616090 -1.858569 -1.979809 -2.131966  0.025877   \n",
       "2   2907.969971  ... -4.369771 -4.205517 -4.123390 -3.957069 -0.038206   \n",
       "\n",
       "     aar_1%    aar_2%    aar_3%    aar_4%    aar_5%  \n",
       "0  0.017393  0.024743  0.033998  0.039134  0.040636  \n",
       "1 -0.005287 -0.019312 -0.023825 -0.026337 -0.029026  \n",
       "2 -0.045773 -0.049474 -0.051065 -0.051951 -0.050990  \n",
       "\n",
       "[3 rows x 98 columns]"
      ]
     },
     "metadata": {},
     "output_type": "display_data"
    }
   ],
   "source": [
    "display(df.head(3))"
   ]
  },
  {
   "cell_type": "markdown",
   "metadata": {},
   "source": [
    "### Step 2: Data insights and visualization including drop outliers"
   ]
  },
  {
   "cell_type": "code",
   "execution_count": 92,
   "metadata": {},
   "outputs": [
    {
     "name": "stdout",
     "output_type": "stream",
     "text": [
      "Data Stats:\n",
      "\t#Samples: 39746\n",
      "\t#Features: 98\n",
      "\t#Samples with NaNs: 0\n"
     ]
    }
   ],
   "source": [
    "_ = main.print_basic_stats(df)"
   ]
  },
  {
   "cell_type": "code",
   "execution_count": 93,
   "metadata": {},
   "outputs": [
    {
     "name": "stdout",
     "output_type": "stream",
     "text": [
      "Removed 36 outliers\n"
     ]
    }
   ],
   "source": [
    "df = main.remove_outliers(df, range_min = -100 , range_max = 100)"
   ]
  },
  {
   "cell_type": "markdown",
   "metadata": {},
   "source": [
    "# Step 3: Base line model\n",
    "Now we will try to fit a linear regression model to our data, to use it as a baseline.\\\n",
    "We will consider two setups:\n",
    "1. Follow the research and look only at the samples where $div\\_change \\neq 0$, our goal it to try replicate the result found in earlier research\n",
    "2. Use all of our sampels\n",
    "\n",
    "Remeber we are trying to predict \"aar5\", hence we will not use any related features, that leaves us only with"
   ]
  },
  {
   "cell_type": "code",
   "execution_count": 97,
   "metadata": {},
   "outputs": [],
   "source": [
    "baseline_models_data = regression_models.generate_bl_model_data(df, print_ = False)"
   ]
  },
  {
   "cell_type": "code",
   "execution_count": 98,
   "metadata": {
    "scrolled": true
   },
   "outputs": [
    {
     "name": "stdout",
     "output_type": "stream",
     "text": [
      "                            OLS Regression Results                            \n",
      "==============================================================================\n",
      "Dep. Variable:                  aar_5   R-squared:                       0.018\n",
      "Model:                            OLS   Adj. R-squared:                  0.017\n",
      "Method:                 Least Squares   F-statistic:                     14.84\n",
      "Date:                Mon, 24 Feb 2020   Prob (F-statistic):           5.23e-41\n",
      "Time:                        13:53:39   Log-Likelihood:                -35794.\n",
      "No. Observations:               12784   AIC:                         7.162e+04\n",
      "Df Residuals:                   12767   BIC:                         7.175e+04\n",
      "Df Model:                          16                                         \n",
      "Covariance Type:            nonrobust                                         \n",
      "==================================================================================================\n",
      "                                     coef    std err          t      P>|t|      [0.025      0.975]\n",
      "--------------------------------------------------------------------------------------------------\n",
      "index                           3.909e-06   3.07e-06      1.273      0.203   -2.11e-06    9.93e-06\n",
      "alpha                             -0.0113      0.001    -11.617      0.000      -0.013      -0.009\n",
      "beta                              -9.8254      1.572     -6.249      0.000     -12.907      -6.743\n",
      "year                               0.0052      0.009      0.604      0.546      -0.012       0.022\n",
      "month                             -0.1018      0.044     -2.339      0.019      -0.187      -0.016\n",
      "quarter                            0.3373      0.136      2.483      0.013       0.071       0.604\n",
      "MV Debt Ratio                     -0.3994      0.535     -0.747      0.455      -1.448       0.649\n",
      "BV Debt Ratio                      0.1048      0.795      0.132      0.895      -1.454       1.663\n",
      "Effective Tax Rate                -1.2357      0.523     -2.363      0.018      -2.261      -0.211\n",
      "Std Deviation In Prices           -0.1942      0.259     -0.751      0.453      -0.701       0.313\n",
      "EBITDA/Value                       0.6262      0.895      0.700      0.484      -1.128       2.380\n",
      "Fixed Assets/BV of Capital        -0.0489      0.436     -0.112      0.911      -0.903       0.805\n",
      "Capital Spending/BV of Capital    -0.4917      2.679     -0.184      0.854      -5.743       4.759\n",
      "div_amount_num                     0.2214      0.044      5.009      0.000       0.135       0.308\n",
      "div_direction                      0.1237      0.040      3.076      0.002       0.045       0.203\n",
      "div_change                     -3.315e-05      0.000     -0.305      0.761      -0.000       0.000\n",
      "const                            -10.2018     17.473     -0.584      0.559     -44.452      24.049\n",
      "==============================================================================\n",
      "Omnibus:                     4847.680   Durbin-Watson:                   1.966\n",
      "Prob(Omnibus):                  0.000   Jarque-Bera (JB):          3505310.312\n",
      "Skew:                          -0.171   Prob(JB):                         0.00\n",
      "Kurtosis:                      84.121   Cond. No.                     1.18e+07\n",
      "==============================================================================\n",
      "\n",
      "Warnings:\n",
      "[1] Standard Errors assume that the covariance matrix of the errors is correctly specified.\n",
      "[2] The condition number is large, 1.18e+07. This might indicate that there are\n",
      "strong multicollinearity or other numerical problems.\n"
     ]
    }
   ],
   "source": [
    "#Regression model 1\n",
    "_ = regression_models.run_linear_reg_research(baseline_models_data)"
   ]
  },
  {
   "cell_type": "code",
   "execution_count": 99,
   "metadata": {
    "scrolled": true
   },
   "outputs": [
    {
     "name": "stdout",
     "output_type": "stream",
     "text": [
      "                            OLS Regression Results                            \n",
      "==============================================================================\n",
      "Dep. Variable:                  aar_5   R-squared:                       0.004\n",
      "Model:                            OLS   Adj. R-squared:                  0.004\n",
      "Method:                 Least Squares   F-statistic:                     10.81\n",
      "Date:                Mon, 24 Feb 2020   Prob (F-statistic):           2.50e-28\n",
      "Time:                        13:53:46   Log-Likelihood:            -1.1092e+05\n",
      "No. Observations:               39710   AIC:                         2.219e+05\n",
      "Df Residuals:                   39693   BIC:                         2.220e+05\n",
      "Df Model:                          16                                         \n",
      "Covariance Type:            nonrobust                                         \n",
      "==================================================================================================\n",
      "                                     coef    std err          t      P>|t|      [0.025      0.975]\n",
      "--------------------------------------------------------------------------------------------------\n",
      "index                          -5.615e-07   1.73e-06     -0.324      0.746   -3.96e-06    2.83e-06\n",
      "alpha                             -0.0013      0.001     -2.583      0.010      -0.002      -0.000\n",
      "beta                               2.8175      0.831      3.392      0.001       1.190       4.445\n",
      "year                              -0.0016      0.005     -0.342      0.733      -0.011       0.007\n",
      "month                             -0.0457      0.025     -1.847      0.065      -0.094       0.003\n",
      "quarter                            0.1357      0.076      1.785      0.074      -0.013       0.285\n",
      "MV Debt Ratio                     -0.2280      0.283     -0.807      0.420      -0.782       0.326\n",
      "BV Debt Ratio                      0.1888      0.427      0.442      0.658      -0.648       1.026\n",
      "Effective Tax Rate                -0.6132      0.288     -2.132      0.033      -1.177      -0.050\n",
      "Std Deviation In Prices           -0.0801      0.146     -0.550      0.583      -0.366       0.206\n",
      "EBITDA/Value                       0.0395      0.497      0.079      0.937      -0.935       1.014\n",
      "Fixed Assets/BV of Capital         0.0580      0.242      0.240      0.811      -0.417       0.533\n",
      "Capital Spending/BV of Capital    -0.4689      1.509     -0.311      0.756      -3.426       2.488\n",
      "div_amount_num                     0.2231      0.041      5.396      0.000       0.142       0.304\n",
      "div_direction                      0.1390      0.036      3.811      0.000       0.067       0.210\n",
      "div_change                     -4.007e-05      0.000     -0.371      0.711      -0.000       0.000\n",
      "const                              3.1209      9.264      0.337      0.736     -15.037      21.279\n",
      "==============================================================================\n",
      "Omnibus:                    17757.025   Durbin-Watson:                   1.970\n",
      "Prob(Omnibus):                  0.000   Jarque-Bera (JB):         10044828.361\n",
      "Skew:                           0.765   Prob(JB):                         0.00\n",
      "Kurtosis:                      80.901   Cond. No.                     1.08e+07\n",
      "==============================================================================\n",
      "\n",
      "Warnings:\n",
      "[1] Standard Errors assume that the covariance matrix of the errors is correctly specified.\n",
      "[2] The condition number is large, 1.08e+07. This might indicate that there are\n",
      "strong multicollinearity or other numerical problems.\n"
     ]
    }
   ],
   "source": [
    "#Regression model 2\n",
    "_ = regression_models.run_linear_reg_baseline(baseline_models_data)"
   ]
  },
  {
   "cell_type": "markdown",
   "metadata": {},
   "source": [
    "TODO: Discuss the results"
   ]
  },
  {
   "cell_type": "markdown",
   "metadata": {},
   "source": [
    "### Step 4: Analysis of error for the base line model+ conclusions (years 2008-2009)\n",
    "TODO: visualize and discuss"
   ]
  },
  {
   "cell_type": "markdown",
   "metadata": {},
   "source": [
    "### Step 5: Sensitivity analysis (size of window)"
   ]
  },
  {
   "cell_type": "markdown",
   "metadata": {},
   "source": [
    "### Step 6: Run new model (Regression) (naive + feature handler)"
   ]
  },
  {
   "cell_type": "markdown",
   "metadata": {},
   "source": [
    "### Step 7: Run different Regression models and compare"
   ]
  },
  {
   "cell_type": "markdown",
   "metadata": {},
   "source": [
    "### Step 8: Discrete Models"
   ]
  },
  {
   "cell_type": "markdown",
   "metadata": {},
   "source": [
    "### Step 9: Cross Validation, results and conclusions"
   ]
  }
 ],
 "metadata": {
  "kernelspec": {
   "display_name": "Python 3",
   "language": "python",
   "name": "python3"
  },
  "language_info": {
   "codemirror_mode": {
    "name": "ipython",
    "version": 3
   },
   "file_extension": ".py",
   "mimetype": "text/x-python",
   "name": "python",
   "nbconvert_exporter": "python",
   "pygments_lexer": "ipython3",
   "version": "3.7.5"
  }
 },
 "nbformat": 4,
 "nbformat_minor": 4
}
