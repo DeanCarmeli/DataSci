{
 "cells": [
  {
   "cell_type": "code",
   "execution_count": 1,
   "metadata": {},
   "outputs": [],
   "source": [
    "from aggregate import aggregate\n",
    "from aggregate import capm_params\n",
    "from feature_handler import feature_handler\n",
    "from run_model import regression_models\n",
    "from run_model import discrete_models\n",
    "from visualize import visualize\n",
    "import pandas as pd\n",
    "import numpy as np\n",
    "import utils\n",
    "import random\n",
    "import matplotlib.pyplot as plt\n",
    "import seaborn as sns\n",
    "import warnings\n",
    "import json\n",
    "import pickle\n",
    "warnings.filterwarnings('ignore')\n",
    "%matplotlib inline\n",
    "sns.set()"
   ]
  },
  {
   "cell_type": "markdown",
   "metadata": {},
   "source": [
    "# Data Science Workshop - Project notebook\n",
    "### Predicting Abnormal Return of Stocks Around Dividend Announcements\n",
    "\n",
    "**Anat Luckach, Dean Carmeli, Matan Carmon, Elad Ben Avraham**"
   ]
  },
  {
   "cell_type": "markdown",
   "metadata": {},
   "source": [
    "## Introduction\n"
   ]
  },
  {
   "cell_type": "markdown",
   "metadata": {},
   "source": [
    "Abnormal return (AR) is defined as the difference between the actual stock price and the expected stock price. To measure it, one needs a notion of how to evaluate the expected stock price of a given firm at a given day. A well published, commonly used model is the Capital Asset Pricing Model (CAPM) which determines linearity between the expected stock price and market portfolio. <br/>\n",
    "We decided to implement the event study method, which is a commonly used method in evaluation theory and was also used in previous studies  . By this method, we need to create a time window around the announcement during which we would measure the AR. <br/>\n",
    "Previous studies were mainly focused on the informative value of dividend announcements and hypothesis testing relating to that. Therefore, while their estimated parameters are statistically significant, they normally show rather low R^2 results (7.5% in Kothari, Shu, Wysocki).  \n",
    "We aim to predict the abnormal return while reassuring or contradicting the underlying financial theory. To increase the predictive power of our model, we would need to re-visit the measurement assumptions. On top we would need to analyze our results considering relevant financial theory.\n",
    "Our focal point therefore is a complex problem setting. We would also like to note we didn’t use a given data set from Kaggle, and therefore a lot of effort was dedicated to the integration process.\n",
    "Since we believe the more interesting part is the analysis and results, our Notebook doesn’t reflect the complexity behind it.\n"
   ]
  },
  {
   "cell_type": "markdown",
   "metadata": {},
   "source": [
    "## Step 0: Notebook Intialization\n",
    "seed: \n",
    ">We ran the notebook using seed = 10\n",
    "\n",
    "run_speed: The speed that the notebook will run\n",
    ">3 - fastest (immediate, skip all non-immediate parts)<br/>\n",
    "    2 - average (skip just the really long parts)<br/>\n",
    "    1 - slowest (run all code)"
   ]
  },
  {
   "cell_type": "code",
   "execution_count": 3,
   "metadata": {},
   "outputs": [],
   "source": [
    "seed = 10\n",
    "run_speed = 2\n",
    "random.seed(seed)\n",
    "np.random.seed(seed)"
   ]
  },
  {
   "cell_type": "markdown",
   "metadata": {},
   "source": [
    "## Step 1: data pre-process steps and initial feature extraction"
   ]
  },
  {
   "cell_type": "markdown",
   "metadata": {},
   "source": [
    "#### Aggregation"
   ]
  },
  {
   "cell_type": "markdown",
   "metadata": {},
   "source": [
    "We start from the file \"all_prices.json\" -  a json file with all prices and information about the divivdend annucments from NASDAQ and prices from \"YAHOO! FINANCES\".<br/>\n",
    "The block below takes about 5 minutes, will run only when run_speed == 1 (slowest)."
   ]
  },
  {
   "cell_type": "code",
   "execution_count": 4,
   "metadata": {},
   "outputs": [],
   "source": [
    "if run_speed <= 1:\n",
    "    #utils.unzip_data() \n",
    "    all_prices = json.load(open(\"all_prices.json\", \"r\"))\n",
    "\n",
    "    # Step 1: Calculate alpha and beta parameters based on CAPM model\n",
    "    data_with_capm = capm_params.get_data_with_capm_params(all_prices)\n",
    "\n",
    "    # Step 2: Add sector and industry + change format from dict to DataFrame\n",
    "    df = aggregate.aggregate_meta_data(data_with_capm)\n",
    "    df = aggregate.fill_missing_meta_data(df)\n",
    "\n",
    "    # Step 3: Split the date column to have year, month and quarter\n",
    "    df = utils.split_date(df)\n",
    "\n",
    "    # Step 4: Add financial ratios.\n",
    "    # Drop samples from before 1998 (no financial ratios data)\n",
    "    df.drop(df[df[\"year\"] <= 1997].index, inplace=True)\n",
    "    df = aggregate.aggregate_fin_ratios(df)\n",
    "    df.drop(['dividend_date'], axis = 1, inplace = True)\n",
    "else: \n",
    "    df = pd.read_csv(\"aggregated_data.csv\")\n",
    "df.drop(utils.drop_cols, axis = 1, inplace = True) #columns we didn't use in the project at all\n",
    "df.reset_index(drop=True, inplace = True)"
   ]
  },
  {
   "cell_type": "markdown",
   "metadata": {},
   "source": [
    "#### The Data"
   ]
  },
  {
   "cell_type": "code",
   "execution_count": 6,
   "metadata": {},
   "outputs": [
    {
     "data": {
      "text/html": [
       "<div>\n",
       "<style scoped>\n",
       "    .dataframe tbody tr th:only-of-type {\n",
       "        vertical-align: middle;\n",
       "    }\n",
       "\n",
       "    .dataframe tbody tr th {\n",
       "        vertical-align: top;\n",
       "    }\n",
       "\n",
       "    .dataframe thead th {\n",
       "        text-align: right;\n",
       "    }\n",
       "</style>\n",
       "<table border=\"1\" class=\"dataframe\">\n",
       "  <thead>\n",
       "    <tr style=\"text-align: right;\">\n",
       "      <th></th>\n",
       "      <th>company_name</th>\n",
       "      <th>industry</th>\n",
       "      <th>sector</th>\n",
       "      <th>dividend_date</th>\n",
       "      <th>dividend_amount</th>\n",
       "      <th>alpha</th>\n",
       "      <th>beta</th>\n",
       "      <th>price_t-5</th>\n",
       "      <th>sp_price_t-5</th>\n",
       "      <th>price_t-4</th>\n",
       "      <th>...</th>\n",
       "      <th>year</th>\n",
       "      <th>month</th>\n",
       "      <th>quarter</th>\n",
       "      <th>MV Debt Ratio</th>\n",
       "      <th>BV Debt Ratio</th>\n",
       "      <th>Effective Tax Rate</th>\n",
       "      <th>Std Deviation In Prices</th>\n",
       "      <th>EBITDA/Value</th>\n",
       "      <th>Fixed Assets/BV of Capital</th>\n",
       "      <th>Capital Spending/BV of Capital</th>\n",
       "    </tr>\n",
       "  </thead>\n",
       "  <tbody>\n",
       "    <tr>\n",
       "      <th>0</th>\n",
       "      <td>American Airlines Group, Inc.</td>\n",
       "      <td>Air Freight/Delivery Services</td>\n",
       "      <td>Transportation</td>\n",
       "      <td>2019-10-22</td>\n",
       "      <td>$0.10</td>\n",
       "      <td>-33.847291</td>\n",
       "      <td>0.020567</td>\n",
       "      <td>27.93</td>\n",
       "      <td>2997.949951</td>\n",
       "      <td>28.219999</td>\n",
       "      <td>...</td>\n",
       "      <td>2019</td>\n",
       "      <td>10</td>\n",
       "      <td>4</td>\n",
       "      <td>0.229</td>\n",
       "      <td>0.558</td>\n",
       "      <td>0.084</td>\n",
       "      <td>0.385</td>\n",
       "      <td>0.1</td>\n",
       "      <td>0.319</td>\n",
       "      <td>0.047</td>\n",
       "    </tr>\n",
       "  </tbody>\n",
       "</table>\n",
       "<p>1 rows × 39 columns</p>\n",
       "</div>"
      ],
      "text/plain": [
       "                    company_name                       industry  \\\n",
       "0  American Airlines Group, Inc.  Air Freight/Delivery Services   \n",
       "\n",
       "           sector dividend_date dividend_amount      alpha      beta  \\\n",
       "0  Transportation    2019-10-22           $0.10 -33.847291  0.020567   \n",
       "\n",
       "   price_t-5  sp_price_t-5  price_t-4  ...  year  month  quarter  \\\n",
       "0      27.93   2997.949951  28.219999  ...  2019     10        4   \n",
       "\n",
       "   MV Debt Ratio  BV Debt Ratio  Effective Tax Rate  Std Deviation In Prices  \\\n",
       "0          0.229          0.558               0.084                    0.385   \n",
       "\n",
       "   EBITDA/Value  Fixed Assets/BV of Capital  Capital Spending/BV of Capital  \n",
       "0           0.1                       0.319                           0.047  \n",
       "\n",
       "[1 rows x 39 columns]"
      ]
     },
     "metadata": {},
     "output_type": "display_data"
    }
   ],
   "source": [
    "display(df.head(1))"
   ]
  },
  {
   "cell_type": "markdown",
   "metadata": {},
   "source": [
    "In the data each sample is a specific dividend announcment of some company.\n",
    "For each sample we have:\n",
    "* **company_name , symbol**\n",
    "* **sector , industry** - sector is more general, while industry is more specific\n",
    "* **dividend_date** - the declaration date of the dividend.\n",
    "* **dividend_amount** - the amount (in USD) of the dividend per share.\n",
    "* **alpha, beta** - the coefficients of the CAPM (as calculated above) model (more on that in the PDF documentation)<br/>\n",
    "\n",
    "\n",
    "* **price_t-i ,price_t+i** - the actual stock price i days before/after the declaration (for $i\\in\\{0,...,5\\}$)\n",
    "* **expected_t-i ,expected_t+i** - the expected stock price (using CAPM model) i days before/after the declaration: $expected\\_i = \\alpha + \\beta*sp\\_i$ (for $i\\in\\{0,...,5\\}$)\n",
    "* **sp_price_t-i ,sp_price_t+i** - the S&P500 price i days before/after the declaration (for $i\\in\\{0,...,5\\}$)\n",
    "\n",
    "\n",
    "* **MV Debt Ratio,BV Debt Ratio, Effective Tax Rate, Std Deviation In Prices, EBITDA/Value, Fixed Assets/BV of Capital, Capital Spending/BV of Capital** - all those are financial ratios, more on that on the PDF documentation.<br/>\n",
    "\n"
   ]
  },
  {
   "cell_type": "code",
   "execution_count": 7,
   "metadata": {},
   "outputs": [
    {
     "name": "stdout",
     "output_type": "stream",
     "text": [
      "Data Stats:\n",
      "\t#Samples: 39913\n",
      "\t#Features: 39\n",
      "\t#Samples with NaNs: 86\n"
     ]
    }
   ],
   "source": [
    "_ = utils.print_basic_stats(df)"
   ]
  },
  {
   "cell_type": "markdown",
   "metadata": {},
   "source": [
    "Next - intial data pre-processing:\n",
    "1. Drop NaNs - We don't have alot of samples with NaNs, hence droping them seems like the right way to handle them.\n",
    "2. Handle data types - basic conversion from string to float.\n",
    "3. Add additional features (on top of what was previously added by the aggregate procedure function):\n",
    ">**dividend change** - $\\frac{current\\_dividend\\_amount-previous\\_dividend\\_amount}{previous\\_dividend\\_amount}$ -  In case no previous dividend exists - set as 1.<br/> **dividend change direction** - the direction of the change vs. previous announcment (1: increase, -1: decrease, 0: unchanged),  In case no previous dividend exists - set as 1 (increase).<br/>\n",
    "4. Calculate abnormal return related features:\n",
    ">**abnormal return**: $ar\\_ti = expected\\_i - price\\_i$ for $i\\in\\{-5,...,5\\}$<br/> **average abnormal return**: $aar\\_i = \\frac{\\sum_{k=-i}^i{ar_k}}{2i+1}$ for $i\\in\\{0,...,5\\}$<br/>\n",
    "5. Fill missing value prices - for weekends (and other special days) we don't have the stock price, we filled it using the previous day (this is already done in the aggregation step)."
   ]
  },
  {
   "cell_type": "code",
   "execution_count": 8,
   "metadata": {},
   "outputs": [
    {
     "name": "stdout",
     "output_type": "stream",
     "text": [
      "Dropped 86 rows with NaN values\n",
      "Created: div_direction, div_change\n",
      "Created: expected_t, ar_t, aar_t, aar_t%\n",
      "\n",
      "Data Stats:\n",
      "\t#Samples: 39746\n",
      "\t#Features: 75\n",
      "\t#Samples with NaNs: 0\n"
     ]
    }
   ],
   "source": [
    "#run this twice will cause error!\n",
    "utils.step1_wrapper(df, run_speed = run_speed)\n",
    "_ = utils.print_basic_stats(df)"
   ]
  },
  {
   "cell_type": "markdown",
   "metadata": {},
   "source": [
    "We have ~40K samples, 98 columns, and non missing values.<br/>\n",
    "\n",
    "In order to be aligned with previous empirical financial studies, we intially fix our response as \"aar_5\".<br/>\n",
    "(\"aar_i%\" will be discussed later)\n",
    "At this point we want to point out that not all the columns are valid for use in prediction of \"aar_5\", some of them already contains information about it - for example \"aar_4\". We will get back to this point later."
   ]
  },
  {
   "cell_type": "markdown",
   "metadata": {},
   "source": [
    "### Step 2: Data insights and visualization including drop outliers"
   ]
  },
  {
   "cell_type": "markdown",
   "metadata": {},
   "source": [
    "**Remove Outliers**"
   ]
  },
  {
   "cell_type": "code",
   "execution_count": 9,
   "metadata": {},
   "outputs": [
    {
     "data": {
      "image/png": "[encoded data removed]",
      "text/plain": [
       "<Figure size 432x288 with 2 Axes>"
      ]
     },
     "metadata": {
      "needs_background": "light"
     },
     "output_type": "display_data"
    },
    {
     "name": "stdout",
     "output_type": "stream",
     "text": [
      "aar_5 range: [-64863896415.11076, 45761542196.09154]\n"
     ]
    }
   ],
   "source": [
    "visualize.plot_outliers(df)"
   ]
  },
  {
   "cell_type": "code",
   "execution_count": 10,
   "metadata": {},
   "outputs": [
    {
     "name": "stdout",
     "output_type": "stream",
     "text": [
      "Removed 515 outliers\n"
     ]
    }
   ],
   "source": [
    "df = utils.remove_outliers(df, range_min=-50 , range_max = 10)"
   ]
  },
  {
   "cell_type": "markdown",
   "metadata": {},
   "source": [
    "We can think of aar_5 as how well the stock did on average in a day during the time-window.<br/>\n",
    "While it make sense that a stock would drop rapidly, it's unlikely for the opposite to occur, therefore we believe that an assymetrical drop around 0 would make the most sense."
   ]
  },
  {
   "cell_type": "markdown",
   "metadata": {},
   "source": [
    "**Get to know the data**"
   ]
  },
  {
   "cell_type": "markdown",
   "metadata": {},
   "source": [
    "We will go over the features in the data and present it."
   ]
  },
  {
   "cell_type": "code",
   "execution_count": 11,
   "metadata": {},
   "outputs": [
    {
     "data": {
      "text/html": [
       "<style  type=\"text/css\" >\n",
       "    #T_bbfcc514_5ba7_11ea_a491_b91ac1d538f6row0_col1 {\n",
       "            width:  10em;\n",
       "             height:  80%;\n",
       "            background:  linear-gradient(90deg,#5fba7d 1.9%, transparent 1.9%);\n",
       "        }    #T_bbfcc514_5ba7_11ea_a491_b91ac1d538f6row0_col2 {\n",
       "            width:  10em;\n",
       "             height:  80%;\n",
       "            background:  linear-gradient(90deg,#5fba7d 0.5%, transparent 0.5%);\n",
       "        }    #T_bbfcc514_5ba7_11ea_a491_b91ac1d538f6row0_col3 {\n",
       "            width:  10em;\n",
       "             height:  80%;\n",
       "            background:  linear-gradient(90deg,#5fba7d 2.2%, transparent 2.2%);\n",
       "        }    #T_bbfcc514_5ba7_11ea_a491_b91ac1d538f6row0_col4 {\n",
       "            width:  10em;\n",
       "             height:  80%;\n",
       "            background:  linear-gradient(90deg,#5fba7d 1.5%, transparent 1.5%);\n",
       "        }    #T_bbfcc514_5ba7_11ea_a491_b91ac1d538f6row1_col1 {\n",
       "            width:  10em;\n",
       "             height:  80%;\n",
       "            background:  linear-gradient(90deg,#5fba7d 6.4%, transparent 6.4%);\n",
       "        }    #T_bbfcc514_5ba7_11ea_a491_b91ac1d538f6row1_col2 {\n",
       "            width:  10em;\n",
       "             height:  80%;\n",
       "            background:  linear-gradient(90deg,#5fba7d 3.2%, transparent 3.2%);\n",
       "        }    #T_bbfcc514_5ba7_11ea_a491_b91ac1d538f6row1_col3 {\n",
       "            width:  10em;\n",
       "             height:  80%;\n",
       "            background:  linear-gradient(90deg,#5fba7d 7.5%, transparent 7.5%);\n",
       "        }    #T_bbfcc514_5ba7_11ea_a491_b91ac1d538f6row1_col4 {\n",
       "            width:  10em;\n",
       "             height:  80%;\n",
       "            background:  linear-gradient(90deg,#5fba7d 4.3%, transparent 4.3%);\n",
       "        }    #T_bbfcc514_5ba7_11ea_a491_b91ac1d538f6row2_col1 {\n",
       "            width:  10em;\n",
       "             height:  80%;\n",
       "            background:  linear-gradient(90deg,#5fba7d 3.3%, transparent 3.3%);\n",
       "        }    #T_bbfcc514_5ba7_11ea_a491_b91ac1d538f6row2_col2 {\n",
       "            width:  10em;\n",
       "             height:  80%;\n",
       "            background:  linear-gradient(90deg,#5fba7d 1.8%, transparent 1.8%);\n",
       "        }    #T_bbfcc514_5ba7_11ea_a491_b91ac1d538f6row2_col3 {\n",
       "            width:  10em;\n",
       "             height:  80%;\n",
       "            background:  linear-gradient(90deg,#5fba7d 3.8%, transparent 3.8%);\n",
       "        }    #T_bbfcc514_5ba7_11ea_a491_b91ac1d538f6row2_col4 {\n",
       "            width:  10em;\n",
       "             height:  80%;\n",
       "            background:  linear-gradient(90deg,#5fba7d 2.4%, transparent 2.4%);\n",
       "        }    #T_bbfcc514_5ba7_11ea_a491_b91ac1d538f6row3_col1 {\n",
       "            width:  10em;\n",
       "             height:  80%;\n",
       "            background:  linear-gradient(90deg,#5fba7d 5.0%, transparent 5.0%);\n",
       "        }    #T_bbfcc514_5ba7_11ea_a491_b91ac1d538f6row3_col2 {\n",
       "            width:  10em;\n",
       "             height:  80%;\n",
       "            background:  linear-gradient(90deg,#5fba7d 4.2%, transparent 4.2%);\n",
       "        }    #T_bbfcc514_5ba7_11ea_a491_b91ac1d538f6row3_col3 {\n",
       "            width:  10em;\n",
       "             height:  80%;\n",
       "            background:  linear-gradient(90deg,#5fba7d 5.3%, transparent 5.3%);\n",
       "        }    #T_bbfcc514_5ba7_11ea_a491_b91ac1d538f6row3_col4 {\n",
       "            width:  10em;\n",
       "             height:  80%;\n",
       "            background:  linear-gradient(90deg,#5fba7d 4.4%, transparent 4.4%);\n",
       "        }    #T_bbfcc514_5ba7_11ea_a491_b91ac1d538f6row4_col1 {\n",
       "            width:  10em;\n",
       "             height:  80%;\n",
       "            background:  linear-gradient(90deg,#5fba7d 8.2%, transparent 8.2%);\n",
       "        }    #T_bbfcc514_5ba7_11ea_a491_b91ac1d538f6row4_col2 {\n",
       "            width:  10em;\n",
       "             height:  80%;\n",
       "            background:  linear-gradient(90deg,#5fba7d 4.9%, transparent 4.9%);\n",
       "        }    #T_bbfcc514_5ba7_11ea_a491_b91ac1d538f6row4_col3 {\n",
       "            width:  10em;\n",
       "             height:  80%;\n",
       "            background:  linear-gradient(90deg,#5fba7d 8.9%, transparent 8.9%);\n",
       "        }    #T_bbfcc514_5ba7_11ea_a491_b91ac1d538f6row4_col4 {\n",
       "            width:  10em;\n",
       "             height:  80%;\n",
       "            background:  linear-gradient(90deg,#5fba7d 7.4%, transparent 7.4%);\n",
       "        }    #T_bbfcc514_5ba7_11ea_a491_b91ac1d538f6row5_col1 {\n",
       "            width:  10em;\n",
       "             height:  80%;\n",
       "            background:  linear-gradient(90deg,#5fba7d 1.9%, transparent 1.9%);\n",
       "        }    #T_bbfcc514_5ba7_11ea_a491_b91ac1d538f6row5_col2 {\n",
       "            width:  10em;\n",
       "             height:  80%;\n",
       "            background:  linear-gradient(90deg,#5fba7d 2.7%, transparent 2.7%);\n",
       "        }    #T_bbfcc514_5ba7_11ea_a491_b91ac1d538f6row5_col3 {\n",
       "            width:  10em;\n",
       "             height:  80%;\n",
       "            background:  linear-gradient(90deg,#5fba7d 1.4%, transparent 1.4%);\n",
       "        }    #T_bbfcc514_5ba7_11ea_a491_b91ac1d538f6row5_col4 {\n",
       "            width:  10em;\n",
       "             height:  80%;\n",
       "            background:  linear-gradient(90deg,#5fba7d 2.9%, transparent 2.9%);\n",
       "        }    #T_bbfcc514_5ba7_11ea_a491_b91ac1d538f6row6_col1 {\n",
       "            width:  10em;\n",
       "             height:  80%;\n",
       "            background:  linear-gradient(90deg,#5fba7d 58.2%, transparent 58.2%);\n",
       "        }    #T_bbfcc514_5ba7_11ea_a491_b91ac1d538f6row6_col2 {\n",
       "            width:  10em;\n",
       "             height:  80%;\n",
       "            background:  linear-gradient(90deg,#5fba7d 75.4%, transparent 75.4%);\n",
       "        }    #T_bbfcc514_5ba7_11ea_a491_b91ac1d538f6row6_col3 {\n",
       "            width:  10em;\n",
       "             height:  80%;\n",
       "            background:  linear-gradient(90deg,#5fba7d 54.7%, transparent 54.7%);\n",
       "        }    #T_bbfcc514_5ba7_11ea_a491_b91ac1d538f6row6_col4 {\n",
       "            width:  10em;\n",
       "             height:  80%;\n",
       "            background:  linear-gradient(90deg,#5fba7d 61.9%, transparent 61.9%);\n",
       "        }    #T_bbfcc514_5ba7_11ea_a491_b91ac1d538f6row7_col1 {\n",
       "            width:  10em;\n",
       "             height:  80%;\n",
       "            background:  linear-gradient(90deg,#5fba7d 2.1%, transparent 2.1%);\n",
       "        }    #T_bbfcc514_5ba7_11ea_a491_b91ac1d538f6row7_col2 {\n",
       "            width:  10em;\n",
       "             height:  80%;\n",
       "            background:  linear-gradient(90deg,#5fba7d 1.1%, transparent 1.1%);\n",
       "        }    #T_bbfcc514_5ba7_11ea_a491_b91ac1d538f6row7_col3 {\n",
       "            width:  10em;\n",
       "             height:  80%;\n",
       "            background:  linear-gradient(90deg,#5fba7d 2.1%, transparent 2.1%);\n",
       "        }    #T_bbfcc514_5ba7_11ea_a491_b91ac1d538f6row7_col4 {\n",
       "            width:  10em;\n",
       "             height:  80%;\n",
       "            background:  linear-gradient(90deg,#5fba7d 2.5%, transparent 2.5%);\n",
       "        }    #T_bbfcc514_5ba7_11ea_a491_b91ac1d538f6row8_col1 {\n",
       "            width:  10em;\n",
       "             height:  80%;\n",
       "            background:  linear-gradient(90deg,#5fba7d 1.0%, transparent 1.0%);\n",
       "        }    #T_bbfcc514_5ba7_11ea_a491_b91ac1d538f6row8_col2 {\n",
       "            width:  10em;\n",
       "             height:  80%;\n",
       "            background:  linear-gradient(90deg,#5fba7d 0.7%, transparent 0.7%);\n",
       "        }    #T_bbfcc514_5ba7_11ea_a491_b91ac1d538f6row8_col3 {\n",
       "            width:  10em;\n",
       "             height:  80%;\n",
       "            background:  linear-gradient(90deg,#5fba7d 1.1%, transparent 1.1%);\n",
       "        }    #T_bbfcc514_5ba7_11ea_a491_b91ac1d538f6row8_col4 {\n",
       "            width:  10em;\n",
       "             height:  80%;\n",
       "            background:  linear-gradient(90deg,#5fba7d 0.9%, transparent 0.9%);\n",
       "        }    #T_bbfcc514_5ba7_11ea_a491_b91ac1d538f6row9_col1 {\n",
       "            width:  10em;\n",
       "             height:  80%;\n",
       "            background:  linear-gradient(90deg,#5fba7d 2.6%, transparent 2.6%);\n",
       "        }    #T_bbfcc514_5ba7_11ea_a491_b91ac1d538f6row9_col2 {\n",
       "            width:  10em;\n",
       "             height:  80%;\n",
       "            background:  linear-gradient(90deg,#5fba7d 1.1%, transparent 1.1%);\n",
       "        }    #T_bbfcc514_5ba7_11ea_a491_b91ac1d538f6row9_col3 {\n",
       "            width:  10em;\n",
       "             height:  80%;\n",
       "            background:  linear-gradient(90deg,#5fba7d 2.9%, transparent 2.9%);\n",
       "        }    #T_bbfcc514_5ba7_11ea_a491_b91ac1d538f6row9_col4 {\n",
       "            width:  10em;\n",
       "             height:  80%;\n",
       "            background:  linear-gradient(90deg,#5fba7d 2.5%, transparent 2.5%);\n",
       "        }    #T_bbfcc514_5ba7_11ea_a491_b91ac1d538f6row10_col1 {\n",
       "            width:  10em;\n",
       "             height:  80%;\n",
       "            background:  linear-gradient(90deg,#5fba7d 7.6%, transparent 7.6%);\n",
       "        }    #T_bbfcc514_5ba7_11ea_a491_b91ac1d538f6row10_col2 {\n",
       "            width:  10em;\n",
       "             height:  80%;\n",
       "            background:  linear-gradient(90deg,#5fba7d 3.0%, transparent 3.0%);\n",
       "        }    #T_bbfcc514_5ba7_11ea_a491_b91ac1d538f6row10_col3 {\n",
       "            width:  10em;\n",
       "             height:  80%;\n",
       "            background:  linear-gradient(90deg,#5fba7d 8.3%, transparent 8.3%);\n",
       "        }    #T_bbfcc514_5ba7_11ea_a491_b91ac1d538f6row10_col4 {\n",
       "            width:  10em;\n",
       "             height:  80%;\n",
       "            background:  linear-gradient(90deg,#5fba7d 7.5%, transparent 7.5%);\n",
       "        }    #T_bbfcc514_5ba7_11ea_a491_b91ac1d538f6row11_col1 {\n",
       "            width:  10em;\n",
       "             height:  80%;\n",
       "            background:  linear-gradient(90deg,#5fba7d 1.8%, transparent 1.8%);\n",
       "        }    #T_bbfcc514_5ba7_11ea_a491_b91ac1d538f6row11_col2 {\n",
       "            width:  10em;\n",
       "             height:  80%;\n",
       "            background:  linear-gradient(90deg,#5fba7d 1.4%, transparent 1.4%);\n",
       "        }    #T_bbfcc514_5ba7_11ea_a491_b91ac1d538f6row11_col3 {\n",
       "            width:  10em;\n",
       "             height:  80%;\n",
       "            background:  linear-gradient(90deg,#5fba7d 1.9%, transparent 1.9%);\n",
       "        }    #T_bbfcc514_5ba7_11ea_a491_b91ac1d538f6row11_col4 {\n",
       "            width:  10em;\n",
       "             height:  80%;\n",
       "            background:  linear-gradient(90deg,#5fba7d 1.7%, transparent 1.7%);\n",
       "        }</style><table id=\"T_bbfcc514_5ba7_11ea_a491_b91ac1d538f6\" ><thead>    <tr>        <th class=\"blank level0\" ></th>        <th class=\"col_heading level0 col0\" ># of smaples</th>        <th class=\"col_heading level0 col1\" >%</th>        <th class=\"col_heading level0 col2\" >% from decrease</th>        <th class=\"col_heading level0 col3\" >% from flat</th>        <th class=\"col_heading level0 col4\" >% from increase</th>    </tr></thead><tbody>\n",
       "                <tr>\n",
       "                        <th id=\"T_bbfcc514_5ba7_11ea_a491_b91ac1d538f6level0_row0\" class=\"row_heading level0 row0\" >Basic Industries</th>\n",
       "                        <td id=\"T_bbfcc514_5ba7_11ea_a491_b91ac1d538f6row0_col0\" class=\"data row0 col0\" >756</td>\n",
       "                        <td id=\"T_bbfcc514_5ba7_11ea_a491_b91ac1d538f6row0_col1\" class=\"data row0 col1\" >1.9</td>\n",
       "                        <td id=\"T_bbfcc514_5ba7_11ea_a491_b91ac1d538f6row0_col2\" class=\"data row0 col2\" >0.5</td>\n",
       "                        <td id=\"T_bbfcc514_5ba7_11ea_a491_b91ac1d538f6row0_col3\" class=\"data row0 col3\" >2.2</td>\n",
       "                        <td id=\"T_bbfcc514_5ba7_11ea_a491_b91ac1d538f6row0_col4\" class=\"data row0 col4\" >1.5</td>\n",
       "            </tr>\n",
       "            <tr>\n",
       "                        <th id=\"T_bbfcc514_5ba7_11ea_a491_b91ac1d538f6level0_row1\" class=\"row_heading level0 row1\" >Capital Goods</th>\n",
       "                        <td id=\"T_bbfcc514_5ba7_11ea_a491_b91ac1d538f6row1_col0\" class=\"data row1 col0\" >2501</td>\n",
       "                        <td id=\"T_bbfcc514_5ba7_11ea_a491_b91ac1d538f6row1_col1\" class=\"data row1 col1\" >6.4</td>\n",
       "                        <td id=\"T_bbfcc514_5ba7_11ea_a491_b91ac1d538f6row1_col2\" class=\"data row1 col2\" >3.2</td>\n",
       "                        <td id=\"T_bbfcc514_5ba7_11ea_a491_b91ac1d538f6row1_col3\" class=\"data row1 col3\" >7.5</td>\n",
       "                        <td id=\"T_bbfcc514_5ba7_11ea_a491_b91ac1d538f6row1_col4\" class=\"data row1 col4\" >4.3</td>\n",
       "            </tr>\n",
       "            <tr>\n",
       "                        <th id=\"T_bbfcc514_5ba7_11ea_a491_b91ac1d538f6level0_row2\" class=\"row_heading level0 row2\" >Consumer Durables</th>\n",
       "                        <td id=\"T_bbfcc514_5ba7_11ea_a491_b91ac1d538f6row2_col0\" class=\"data row2 col0\" >1293</td>\n",
       "                        <td id=\"T_bbfcc514_5ba7_11ea_a491_b91ac1d538f6row2_col1\" class=\"data row2 col1\" >3.3</td>\n",
       "                        <td id=\"T_bbfcc514_5ba7_11ea_a491_b91ac1d538f6row2_col2\" class=\"data row2 col2\" >1.8</td>\n",
       "                        <td id=\"T_bbfcc514_5ba7_11ea_a491_b91ac1d538f6row2_col3\" class=\"data row2 col3\" >3.8</td>\n",
       "                        <td id=\"T_bbfcc514_5ba7_11ea_a491_b91ac1d538f6row2_col4\" class=\"data row2 col4\" >2.4</td>\n",
       "            </tr>\n",
       "            <tr>\n",
       "                        <th id=\"T_bbfcc514_5ba7_11ea_a491_b91ac1d538f6level0_row3\" class=\"row_heading level0 row3\" >Consumer Non-Durables</th>\n",
       "                        <td id=\"T_bbfcc514_5ba7_11ea_a491_b91ac1d538f6row3_col0\" class=\"data row3 col0\" >1946</td>\n",
       "                        <td id=\"T_bbfcc514_5ba7_11ea_a491_b91ac1d538f6row3_col1\" class=\"data row3 col1\" >5</td>\n",
       "                        <td id=\"T_bbfcc514_5ba7_11ea_a491_b91ac1d538f6row3_col2\" class=\"data row3 col2\" >4.2</td>\n",
       "                        <td id=\"T_bbfcc514_5ba7_11ea_a491_b91ac1d538f6row3_col3\" class=\"data row3 col3\" >5.3</td>\n",
       "                        <td id=\"T_bbfcc514_5ba7_11ea_a491_b91ac1d538f6row3_col4\" class=\"data row3 col4\" >4.4</td>\n",
       "            </tr>\n",
       "            <tr>\n",
       "                        <th id=\"T_bbfcc514_5ba7_11ea_a491_b91ac1d538f6level0_row4\" class=\"row_heading level0 row4\" >Consumer Services</th>\n",
       "                        <td id=\"T_bbfcc514_5ba7_11ea_a491_b91ac1d538f6row4_col0\" class=\"data row4 col0\" >3207</td>\n",
       "                        <td id=\"T_bbfcc514_5ba7_11ea_a491_b91ac1d538f6row4_col1\" class=\"data row4 col1\" >8.2</td>\n",
       "                        <td id=\"T_bbfcc514_5ba7_11ea_a491_b91ac1d538f6row4_col2\" class=\"data row4 col2\" >4.9</td>\n",
       "                        <td id=\"T_bbfcc514_5ba7_11ea_a491_b91ac1d538f6row4_col3\" class=\"data row4 col3\" >8.9</td>\n",
       "                        <td id=\"T_bbfcc514_5ba7_11ea_a491_b91ac1d538f6row4_col4\" class=\"data row4 col4\" >7.4</td>\n",
       "            </tr>\n",
       "            <tr>\n",
       "                        <th id=\"T_bbfcc514_5ba7_11ea_a491_b91ac1d538f6level0_row5\" class=\"row_heading level0 row5\" >Energy</th>\n",
       "                        <td id=\"T_bbfcc514_5ba7_11ea_a491_b91ac1d538f6row5_col0\" class=\"data row5 col0\" >734</td>\n",
       "                        <td id=\"T_bbfcc514_5ba7_11ea_a491_b91ac1d538f6row5_col1\" class=\"data row5 col1\" >1.9</td>\n",
       "                        <td id=\"T_bbfcc514_5ba7_11ea_a491_b91ac1d538f6row5_col2\" class=\"data row5 col2\" >2.7</td>\n",
       "                        <td id=\"T_bbfcc514_5ba7_11ea_a491_b91ac1d538f6row5_col3\" class=\"data row5 col3\" >1.4</td>\n",
       "                        <td id=\"T_bbfcc514_5ba7_11ea_a491_b91ac1d538f6row5_col4\" class=\"data row5 col4\" >2.9</td>\n",
       "            </tr>\n",
       "            <tr>\n",
       "                        <th id=\"T_bbfcc514_5ba7_11ea_a491_b91ac1d538f6level0_row6\" class=\"row_heading level0 row6\" >Finance</th>\n",
       "                        <td id=\"T_bbfcc514_5ba7_11ea_a491_b91ac1d538f6row6_col0\" class=\"data row6 col0\" >22839</td>\n",
       "                        <td id=\"T_bbfcc514_5ba7_11ea_a491_b91ac1d538f6row6_col1\" class=\"data row6 col1\" >58.2</td>\n",
       "                        <td id=\"T_bbfcc514_5ba7_11ea_a491_b91ac1d538f6row6_col2\" class=\"data row6 col2\" >75.4</td>\n",
       "                        <td id=\"T_bbfcc514_5ba7_11ea_a491_b91ac1d538f6row6_col3\" class=\"data row6 col3\" >54.7</td>\n",
       "                        <td id=\"T_bbfcc514_5ba7_11ea_a491_b91ac1d538f6row6_col4\" class=\"data row6 col4\" >61.9</td>\n",
       "            </tr>\n",
       "            <tr>\n",
       "                        <th id=\"T_bbfcc514_5ba7_11ea_a491_b91ac1d538f6level0_row7\" class=\"row_heading level0 row7\" >Health Care</th>\n",
       "                        <td id=\"T_bbfcc514_5ba7_11ea_a491_b91ac1d538f6row7_col0\" class=\"data row7 col0\" >823</td>\n",
       "                        <td id=\"T_bbfcc514_5ba7_11ea_a491_b91ac1d538f6row7_col1\" class=\"data row7 col1\" >2.1</td>\n",
       "                        <td id=\"T_bbfcc514_5ba7_11ea_a491_b91ac1d538f6row7_col2\" class=\"data row7 col2\" >1.1</td>\n",
       "                        <td id=\"T_bbfcc514_5ba7_11ea_a491_b91ac1d538f6row7_col3\" class=\"data row7 col3\" >2.1</td>\n",
       "                        <td id=\"T_bbfcc514_5ba7_11ea_a491_b91ac1d538f6row7_col4\" class=\"data row7 col4\" >2.5</td>\n",
       "            </tr>\n",
       "            <tr>\n",
       "                        <th id=\"T_bbfcc514_5ba7_11ea_a491_b91ac1d538f6level0_row8\" class=\"row_heading level0 row8\" >Miscellaneous</th>\n",
       "                        <td id=\"T_bbfcc514_5ba7_11ea_a491_b91ac1d538f6row8_col0\" class=\"data row8 col0\" >409</td>\n",
       "                        <td id=\"T_bbfcc514_5ba7_11ea_a491_b91ac1d538f6row8_col1\" class=\"data row8 col1\" >1</td>\n",
       "                        <td id=\"T_bbfcc514_5ba7_11ea_a491_b91ac1d538f6row8_col2\" class=\"data row8 col2\" >0.7</td>\n",
       "                        <td id=\"T_bbfcc514_5ba7_11ea_a491_b91ac1d538f6row8_col3\" class=\"data row8 col3\" >1.1</td>\n",
       "                        <td id=\"T_bbfcc514_5ba7_11ea_a491_b91ac1d538f6row8_col4\" class=\"data row8 col4\" >0.9</td>\n",
       "            </tr>\n",
       "            <tr>\n",
       "                        <th id=\"T_bbfcc514_5ba7_11ea_a491_b91ac1d538f6level0_row9\" class=\"row_heading level0 row9\" >Public Utilities</th>\n",
       "                        <td id=\"T_bbfcc514_5ba7_11ea_a491_b91ac1d538f6row9_col0\" class=\"data row9 col0\" >1024</td>\n",
       "                        <td id=\"T_bbfcc514_5ba7_11ea_a491_b91ac1d538f6row9_col1\" class=\"data row9 col1\" >2.6</td>\n",
       "                        <td id=\"T_bbfcc514_5ba7_11ea_a491_b91ac1d538f6row9_col2\" class=\"data row9 col2\" >1.1</td>\n",
       "                        <td id=\"T_bbfcc514_5ba7_11ea_a491_b91ac1d538f6row9_col3\" class=\"data row9 col3\" >2.9</td>\n",
       "                        <td id=\"T_bbfcc514_5ba7_11ea_a491_b91ac1d538f6row9_col4\" class=\"data row9 col4\" >2.5</td>\n",
       "            </tr>\n",
       "            <tr>\n",
       "                        <th id=\"T_bbfcc514_5ba7_11ea_a491_b91ac1d538f6level0_row10\" class=\"row_heading level0 row10\" >Technology</th>\n",
       "                        <td id=\"T_bbfcc514_5ba7_11ea_a491_b91ac1d538f6row10_col0\" class=\"data row10 col0\" >2997</td>\n",
       "                        <td id=\"T_bbfcc514_5ba7_11ea_a491_b91ac1d538f6row10_col1\" class=\"data row10 col1\" >7.6</td>\n",
       "                        <td id=\"T_bbfcc514_5ba7_11ea_a491_b91ac1d538f6row10_col2\" class=\"data row10 col2\" >3</td>\n",
       "                        <td id=\"T_bbfcc514_5ba7_11ea_a491_b91ac1d538f6row10_col3\" class=\"data row10 col3\" >8.3</td>\n",
       "                        <td id=\"T_bbfcc514_5ba7_11ea_a491_b91ac1d538f6row10_col4\" class=\"data row10 col4\" >7.5</td>\n",
       "            </tr>\n",
       "            <tr>\n",
       "                        <th id=\"T_bbfcc514_5ba7_11ea_a491_b91ac1d538f6level0_row11\" class=\"row_heading level0 row11\" >Transportation</th>\n",
       "                        <td id=\"T_bbfcc514_5ba7_11ea_a491_b91ac1d538f6row11_col0\" class=\"data row11 col0\" >702</td>\n",
       "                        <td id=\"T_bbfcc514_5ba7_11ea_a491_b91ac1d538f6row11_col1\" class=\"data row11 col1\" >1.8</td>\n",
       "                        <td id=\"T_bbfcc514_5ba7_11ea_a491_b91ac1d538f6row11_col2\" class=\"data row11 col2\" >1.4</td>\n",
       "                        <td id=\"T_bbfcc514_5ba7_11ea_a491_b91ac1d538f6row11_col3\" class=\"data row11 col3\" >1.9</td>\n",
       "                        <td id=\"T_bbfcc514_5ba7_11ea_a491_b91ac1d538f6row11_col4\" class=\"data row11 col4\" >1.7</td>\n",
       "            </tr>\n",
       "    </tbody></table>"
      ],
      "text/plain": [
       "<pandas.io.formats.style.Styler at 0x232f3e12788>"
      ]
     },
     "metadata": {},
     "output_type": "display_data"
    }
   ],
   "source": [
    "visualize.plot_count(df)"
   ]
  },
  {
   "cell_type": "markdown",
   "metadata": {},
   "source": [
    "As shown below we collected dividend announcements from 1998 to 2019. <br/>\n",
    "An interesting observation is that while the financial sector is 58% of all our samples (table above) it’s 75% of samples with a decrease in dividend – much higher. A reason for that might be that the financial sector is a highly regulated sector. The more regulation, the lower the chance of managers to withhold bad news and since a decrease in dividend is considered as bad news, it might explain why those events are more common in this sector."
   ]
  },
  {
   "cell_type": "code",
   "execution_count": 12,
   "metadata": {},
   "outputs": [
    {
     "data": {
      "image/png": "[encoded data removed]",
      "text/plain": [
       "<Figure size 432x288 with 2 Axes>"
      ]
     },
     "metadata": {
      "needs_background": "light"
     },
     "output_type": "display_data"
    }
   ],
   "source": [
    "if run_speed < 3:\n",
    "    visualize.plot_years_change_hist(df)"
   ]
  },
  {
   "cell_type": "markdown",
   "metadata": {},
   "source": [
    "Another interesting observation is that in 68% of our samples the dividend is flat. This might a raise a challenge – since we try to predict AR and reasoned that a change in the dividend policy is a contributor, it might have less impact when considering the entire sample. In addition, 23% percent of our samples are of increased dividend verses 9% of a decrease. Some of it is explained by about 900 initial announcements (as the number of unique companies) that we classified as an increase. The rest of the gap might be explained by that bad news (decrease) tend to be less common than good new (increase)."
   ]
  },
  {
   "cell_type": "markdown",
   "metadata": {},
   "source": [
    "**Normalizing the abnormal return**"
   ]
  },
  {
   "cell_type": "markdown",
   "metadata": {},
   "source": [
    "One more thing we had in mind is to normalize the abnormal return, that's why we created \"aar_i%\",<br/>\n",
    "which is the same as \"aar_i\" but divided by the mean of the expected values:<br/>\n",
    "$aar\\_i\\% = \\frac{aar\\_i}{(\\sum_{k=-i}^{i}{expected_k})/(2i+1)}$<br/>\n",
    "The logic behind this is that we want to 'scale' the mistake - it makes more sense to look at the abnormal return as a fraction of the expected price rather than as an absolute value.<br/>\n",
    "\n",
    "In the graph below we can see histograms of aar_5% given the direction of the dividend change (increase/decrease/flat). "
   ]
  },
  {
   "cell_type": "code",
   "execution_count": 13,
   "metadata": {},
   "outputs": [
    {
     "data": {
      "image/png": "[encoded data removed]",
      "text/plain": [
       "<Figure size 432x288 with 1 Axes>"
      ]
     },
     "metadata": {
      "needs_background": "light"
     },
     "output_type": "display_data"
    }
   ],
   "source": [
    "visualize.plot_aar5p_given_dir(df)"
   ]
  },
  {
   "cell_type": "markdown",
   "metadata": {},
   "source": [
    "We would like to conclude the initial observation by looking at the distribution of aar_5% given the change in dividend direction (above). As expected, the mean of a decreased dividend is the leftmost with a negative AR, the mean of the increased dividend is the right most with a positive AR and the flat is close to 0. The differences seem small, which might indicate non promising results.\n",
    "\n",
    "We will predict arr_5% instead of aar_5."
   ]
  },
  {
   "cell_type": "markdown",
   "metadata": {},
   "source": [
    "**Train/Test Split**<br/>\n",
    "Before we proceed we will split our data into train and test sets."
   ]
  },
  {
   "cell_type": "code",
   "execution_count": 14,
   "metadata": {},
   "outputs": [],
   "source": [
    "df_train, df_test = utils.my_split_test_train(df, test_size = 0.2)"
   ]
  },
  {
   "cell_type": "markdown",
   "metadata": {},
   "source": [
    "### Step 3: Base line model\n",
    "This step include two parts:\n",
    "1. Research replication\n",
    "2. Run simple linear regression to use as a baseline\n",
    "\n",
    "Recall we are trying to predict \"arr_5\", hence we will not use any related features.<br/>\n",
    "The way the financial ratios were added to the model was based on the 'sector' feature. Therefore is a linear dependency between the 'sector' and 'industry' features to the rest of the financial ratios. In order to avoid avoid instabillity of the model we drop 'sector' and 'industry' features<br/>\n",
    "Below you can see the features we will use for the baseline prediction."
   ]
  },
  {
   "cell_type": "code",
   "execution_count": 15,
   "metadata": {},
   "outputs": [
    {
     "name": "stdout",
     "output_type": "stream",
     "text": [
      "Baseline model features: {'year_2003', 'Std Deviation In Prices', 'Fixed Assets/BV of Capital', 'month_2', 'year_2006', 'year_2013', 'year_2014', 'month_6', 'year_2000', 'year_2009', 'MV Debt Ratio', 'year_2001', 'Effective Tax Rate', 'year_2012', 'year_1999', 'month_3', 'year_2017', 'year_2005', 'month_7', 'month_8', 'year_2016', 'month_5', 'month_10', 'month_12', 'year_2011', 'month_11', 'Capital Spending/BV of Capital', 'year_2015', 'alpha', 'beta', 'div_direction', 'year_2007', 'year_2018', 'year_2004', 'month_4', 'div_change', 'year_2008', 'div_amount_num', 'month_9', 'EBITDA/Value', 'year_2010', 'year_2019', 'year_2002', 'BV Debt Ratio', 'quarter'}\n"
     ]
    }
   ],
   "source": [
    "_ = utils.generate_model_data(df, print_ = True, y_col = 'aar_5%')"
   ]
  },
  {
   "cell_type": "markdown",
   "metadata": {},
   "source": [
    "**Research replication**<br/>\n",
    "In order to validate our data and make sure it 'make sense', we will try to replicate previous research results.<br/>\n",
    "To do so - we would need to drop samples where $div\\_change = 0$. Using linear regression they recieved R^2 of about 7%, we will try to replicate it."
   ]
  },
  {
   "cell_type": "code",
   "execution_count": 16,
   "metadata": {},
   "outputs": [
    {
     "name": "stdout",
     "output_type": "stream",
     "text": [
      "Train data R squared: 0.05810584723270629\n"
     ]
    }
   ],
   "source": [
    "#Regression model - Research\n",
    "research_baseline_model_data = utils.generate_model_data(df, print_ = False, y_col = 'aar_5')\n",
    "research_baseline_model_data = research_baseline_model_data[research_baseline_model_data['div_direction'] != 0]\n",
    "_ = regression_models.run_linear_reg(research_baseline_model_data) "
   ]
  },
  {
   "cell_type": "markdown",
   "metadata": {},
   "source": [
    "First we can see we got close R squared to previous studies.<br/>\n",
    "The gap might be explained by the fact that previous studies implemented a more strict dividend policy assumption - a dividend change was considered as such only after two consecutive years of staying at the same level.<br/>\n",
    "The cost of implementing such a strict dividend policy is losing alot of samples."
   ]
  },
  {
   "cell_type": "markdown",
   "metadata": {},
   "source": [
    "**Linear regression as baseline**<br/>\n",
    "Use simple linear regression on our data:"
   ]
  },
  {
   "cell_type": "code",
   "execution_count": 17,
   "metadata": {},
   "outputs": [
    {
     "name": "stdout",
     "output_type": "stream",
     "text": [
      "Train data R squared: 0.013403887281290605\n",
      "Test R squared: 0.0029011755602990075\n"
     ]
    }
   ],
   "source": [
    "data_train = utils.generate_model_data(df_train, print_ = False, y_col = 'aar_5%')\n",
    "data_test = utils.generate_model_data(df_test, print_ = False, y_col = 'aar_5%')\n",
    "bl_model = regression_models.run_linear_reg(data_train, y_col = 'aar_5%')\n",
    "print(\"Test R squared: {}\".format(regression_models.r_squared(bl_model, data_test, y_col = 'aar_5%')))"
   ]
  },
  {
   "cell_type": "markdown",
   "metadata": {},
   "source": [
    "The above result isn't satisfying, in order to get better result we did the following:\n",
    "1. Where did we do especially bad? (droping 2008 - 2009)\n",
    "2. Feature engineering \n",
    "3. Revisiting the mearsurment assumptions"
   ]
  },
  {
   "cell_type": "markdown",
   "metadata": {},
   "source": [
    "### Step 4: Analysis of error for the base line model + conclusions (years 2008-2009)\n",
    "Below are distributions graphs of the baseline model error (the difference between actual aar_5% and the predicted aar_5%).<br/>\n",
    "The tail is where we did especially bad (marked as red in the right graph)."
   ]
  },
  {
   "cell_type": "code",
   "execution_count": 18,
   "metadata": {},
   "outputs": [
    {
     "data": {
      "image/png": "[encoded data removed]",
      "text/plain": [
       "<Figure size 432x288 with 2 Axes>"
      ]
     },
     "metadata": {
      "needs_background": "light"
     },
     "output_type": "display_data"
    }
   ],
   "source": [
    "preds = regression_models.predict_linear_reg(bl_model, data_train, y_col = 'aar_5%')\n",
    "visualize.plot_errors_dist(data_train, preds)"
   ]
  },
  {
   "cell_type": "markdown",
   "metadata": {},
   "source": [
    "The graph below reveales it was mainly due to the years 2008-2009 "
   ]
  },
  {
   "cell_type": "code",
   "execution_count": 19,
   "metadata": {},
   "outputs": [
    {
     "data": {
      "image/png": "[encoded data removed]",
      "text/plain": [
       "<Figure size 432x288 with 1 Axes>"
      ]
     },
     "metadata": {
      "needs_background": "light"
     },
     "output_type": "display_data"
    },
    {
     "name": "stdout",
     "output_type": "stream",
     "text": [
      "# of samples in year 2008 - 2009: 3170\n"
     ]
    }
   ],
   "source": [
    "visualize.plot_error_by_year(df_train, preds)\n",
    "print(\"# of samples in year 2008 - 2009: {}\".format(df[(df['year']==2008) | (df['year']==2009)].shape[0]))"
   ]
  },
  {
   "cell_type": "markdown",
   "metadata": {},
   "source": [
    "There are 3170 samples from those years, which we decided to drop as a result of the analysis above."
   ]
  },
  {
   "cell_type": "markdown",
   "metadata": {},
   "source": [
    "Run linear regression without 2008 - 2009 samples:"
   ]
  },
  {
   "cell_type": "code",
   "execution_count": 20,
   "metadata": {},
   "outputs": [
    {
     "name": "stdout",
     "output_type": "stream",
     "text": [
      "Train data R squared: 0.015478312003275096\n"
     ]
    }
   ],
   "source": [
    "data_train_no0809, year_col_train = utils.generate_model_data(df_train, drop_08_09=True, return_year = True,print_ = False, y_col = 'aar_5%')\n",
    "data_test_no0809, year_col_test = utils.generate_model_data(df_test, drop_08_09=True, return_year = True,print_ = False, y_col = 'aar_5%')\n",
    "bl_model_no0809 = regression_models.run_linear_reg(data_train_no0809, y_col = \"aar_5%\")"
   ]
  },
  {
   "cell_type": "markdown",
   "metadata": {},
   "source": [
    "One more thing we would like to check is that the ratio between the train and the test sets hasn't changed dramaticlly:"
   ]
  },
  {
   "cell_type": "code",
   "execution_count": 21,
   "metadata": {},
   "outputs": [
    {
     "name": "stdout",
     "output_type": "stream",
     "text": [
      "Test Size / Train Size = 0.24981804318441755\n"
     ]
    }
   ],
   "source": [
    "print(\"Test Size / Train Size = {}\".format(data_test_no0809.shape[0]/data_train_no0809.shape[0]))"
   ]
  },
  {
   "cell_type": "markdown",
   "metadata": {},
   "source": [
    "Above we can see that it stays ~0.25"
   ]
  },
  {
   "cell_type": "markdown",
   "metadata": {},
   "source": [
    "### Step 4.1: Feature engineering financial ratios (AsyScore) "
   ]
  },
  {
   "cell_type": "markdown",
   "metadata": {},
   "source": [
    "In previous research, they claim the higher the asymmetry in information in market (between firms and investors) the more likely it is for managers to withhold bad news. They further claim that if managers indeed withhold bad news, bad news would have a greater negative impact on AR. We divided our features to those which contribute to high asymmetry and low asymmetry based on the arguments from this research:\n",
    "* Low MV and BV ratios $\\Rightarrow$ High assymetri\n",
    "* High std.devation in prices $\\Rightarrow$ High assymetri\n",
    "* Technology sector  $\\Rightarrow$ High assymetri\n",
    "* High MV and BV ratios  $\\Rightarrow$ Low assymetri\n",
    "* Regulated sectors  $\\Rightarrow$ Low assymetri\n",
    "* Low std.deviation in prices  $\\Rightarrow$ Low assymetri\n",
    "\n",
    "Further explanation about those desicions in the PDF document.\n",
    "\n",
    "We will create a single score called AsyScore on a scale of 0 to 1. The higher the asymmetry of a sample, the higher the score. For ech sample we creat `sum` , which is calculated as the summation of (intially `sum = 0`):\n",
    "* For the MV and BV ratios we add -1 if it's above the yearly mean or 1 if it's below.\n",
    "* For the std.devation we add 1 if it's above the yearly mean or -1 if it's below.\n",
    "* For regulated sectors we add -1\n",
    "* For Technology we add 1\n",
    "\n",
    "We took the AsyScore to be the `mean(sum)+1` (the `+1` make it non-negative).<br/>\n",
    "In addition we add `Asy_direction` feature, we is calculated as `AsyScore * div_direction`.<br/>\n",
    "We will drop all the financial ratios - because we hope that this feature will \"catch\" their main information."
   ]
  },
  {
   "cell_type": "code",
   "execution_count": 22,
   "metadata": {},
   "outputs": [
    {
     "name": "stdout",
     "output_type": "stream",
     "text": [
      "Train data R squared: 0.013215130954286947\n"
     ]
    }
   ],
   "source": [
    "#predicting aar_1% including delte_%_t-(4,5)\n",
    "df_asy_train = utils.gen_AsyScore(df_train, drop_fin_ratios = True, add_direction_asy = True)\n",
    "df_asy_test = utils.gen_AsyScore(df_test, drop_fin_ratios = True, add_direction_asy = True)\n",
    "data_asy_train = utils.generate_model_data(df_asy_train, drop_08_09=0, print_ = False, y_col = 'aar_5%')\n",
    "data_asy_test = utils.generate_model_data(df_asy_test, drop_08_09=0,print_ = False, y_col = 'aar_5%')\n",
    "_= regression_models.run_linear_reg(data_asy_train, y_col = 'aar_5%')"
   ]
  },
  {
   "cell_type": "code",
   "execution_count": 53,
   "metadata": {},
   "outputs": [
    {
     "name": "stdout",
     "output_type": "stream",
     "text": [
      "Train data R squared: 0.05734037844224882\n"
     ]
    }
   ],
   "source": [
    "#research  - aar_5\n",
    "df_asy = utils.gen_AsyScore(df[df['div_direction'] != 0])\n",
    "data_asy = utils.generate_model_data(df_asy, drop_08_09=0, print_ = False, y_col = 'aar_5')\n",
    "_ = regression_models.run_linear_reg(data_asy, y_col = 'aar_5')"
   ]
  },
  {
   "cell_type": "markdown",
   "metadata": {},
   "source": [
    "We can see that this isn't give us better results."
   ]
  },
  {
   "cell_type": "markdown",
   "metadata": {},
   "source": [
    "### Step 5: Revisiting measurment assumptions - Sensitivity analysis (size of window)"
   ]
  },
  {
   "cell_type": "markdown",
   "metadata": {},
   "source": [
    "The measurment assumption we would like to revisit is the windows size around the annoucement.<br/>\n",
    "As of now the window size if fixed to five days post and prior to the day of the dividend annoucment. There's a reason to believe that other window size (symmetrical or not) will correspond better with our goal - measuring the abnoraml return (more on that in the PDF documentation).\n",
    "Below, you can see the average normalized abnormal return (\"aar_i%\") gived the dividend change direction, for different window sizes."
   ]
  },
  {
   "cell_type": "code",
   "execution_count": 24,
   "metadata": {},
   "outputs": [
    {
     "data": {
      "text/html": [
       "<style  type=\"text/css\" >\n",
       "    #T_cfd7a09a_5ba7_11ea_8215_b91ac1d538f6row0_col0 {\n",
       "            background-color:  #417ca8;\n",
       "            color:  #000000;\n",
       "        }    #T_cfd7a09a_5ba7_11ea_8215_b91ac1d538f6row0_col1 {\n",
       "            background-color:  #417ca8;\n",
       "            color:  #000000;\n",
       "        }    #T_cfd7a09a_5ba7_11ea_8215_b91ac1d538f6row0_col2 {\n",
       "            background-color:  #417ca8;\n",
       "            color:  #000000;\n",
       "        }    #T_cfd7a09a_5ba7_11ea_8215_b91ac1d538f6row0_col3 {\n",
       "            background-color:  #417ca8;\n",
       "            color:  #000000;\n",
       "        }    #T_cfd7a09a_5ba7_11ea_8215_b91ac1d538f6row0_col4 {\n",
       "            background-color:  #417ca8;\n",
       "            color:  #000000;\n",
       "        }    #T_cfd7a09a_5ba7_11ea_8215_b91ac1d538f6row0_col5 {\n",
       "            background-color:  #417ca8;\n",
       "            color:  #000000;\n",
       "        }    #T_cfd7a09a_5ba7_11ea_8215_b91ac1d538f6row0_col6 {\n",
       "            background-color:  #417ca8;\n",
       "            color:  #000000;\n",
       "        }    #T_cfd7a09a_5ba7_11ea_8215_b91ac1d538f6row1_col0 {\n",
       "            background-color:  #fae3e5;\n",
       "            color:  #000000;\n",
       "        }    #T_cfd7a09a_5ba7_11ea_8215_b91ac1d538f6row1_col1 {\n",
       "            background-color:  #e8f0f6;\n",
       "            color:  #000000;\n",
       "        }    #T_cfd7a09a_5ba7_11ea_8215_b91ac1d538f6row1_col2 {\n",
       "            background-color:  #e8f0f6;\n",
       "            color:  #000000;\n",
       "        }    #T_cfd7a09a_5ba7_11ea_8215_b91ac1d538f6row1_col3 {\n",
       "            background-color:  #d9e6ef;\n",
       "            color:  #000000;\n",
       "        }    #T_cfd7a09a_5ba7_11ea_8215_b91ac1d538f6row1_col4 {\n",
       "            background-color:  #dbe7ef;\n",
       "            color:  #000000;\n",
       "        }    #T_cfd7a09a_5ba7_11ea_8215_b91ac1d538f6row1_col5 {\n",
       "            background-color:  #d8e5ee;\n",
       "            color:  #000000;\n",
       "        }    #T_cfd7a09a_5ba7_11ea_8215_b91ac1d538f6row1_col6 {\n",
       "            background-color:  #d8e5ee;\n",
       "            color:  #000000;\n",
       "        }    #T_cfd7a09a_5ba7_11ea_8215_b91ac1d538f6row2_col0 {\n",
       "            background-color:  #da3b46;\n",
       "            color:  #f1f1f1;\n",
       "        }    #T_cfd7a09a_5ba7_11ea_8215_b91ac1d538f6row2_col1 {\n",
       "            background-color:  #da3b46;\n",
       "            color:  #f1f1f1;\n",
       "        }    #T_cfd7a09a_5ba7_11ea_8215_b91ac1d538f6row2_col2 {\n",
       "            background-color:  #da3b46;\n",
       "            color:  #f1f1f1;\n",
       "        }    #T_cfd7a09a_5ba7_11ea_8215_b91ac1d538f6row2_col3 {\n",
       "            background-color:  #da3b46;\n",
       "            color:  #f1f1f1;\n",
       "        }    #T_cfd7a09a_5ba7_11ea_8215_b91ac1d538f6row2_col4 {\n",
       "            background-color:  #da3b46;\n",
       "            color:  #f1f1f1;\n",
       "        }    #T_cfd7a09a_5ba7_11ea_8215_b91ac1d538f6row2_col5 {\n",
       "            background-color:  #da3b46;\n",
       "            color:  #f1f1f1;\n",
       "        }    #T_cfd7a09a_5ba7_11ea_8215_b91ac1d538f6row2_col6 {\n",
       "            background-color:  #da3b46;\n",
       "            color:  #f1f1f1;\n",
       "        }</style><table id=\"T_cfd7a09a_5ba7_11ea_8215_b91ac1d538f6\" ><thead>    <tr>        <th class=\"blank level0\" ></th>        <th class=\"col_heading level0 col0\" >aar_0%</th>        <th class=\"col_heading level0 col1\" >aar_1%</th>        <th class=\"col_heading level0 col2\" >aar_2%</th>        <th class=\"col_heading level0 col3\" >aar_3%</th>        <th class=\"col_heading level0 col4\" >aar_4%</th>        <th class=\"col_heading level0 col5\" >aar_5%</th>        <th class=\"col_heading level0 col6\" >aar_asy-1_5%</th>    </tr></thead><tbody>\n",
       "                <tr>\n",
       "                        <th id=\"T_cfd7a09a_5ba7_11ea_8215_b91ac1d538f6level0_row0\" class=\"row_heading level0 row0\" >down</th>\n",
       "                        <td id=\"T_cfd7a09a_5ba7_11ea_8215_b91ac1d538f6row0_col0\" class=\"data row0 col0\" >-0.41</td>\n",
       "                        <td id=\"T_cfd7a09a_5ba7_11ea_8215_b91ac1d538f6row0_col1\" class=\"data row0 col1\" >-0.43</td>\n",
       "                        <td id=\"T_cfd7a09a_5ba7_11ea_8215_b91ac1d538f6row0_col2\" class=\"data row0 col2\" >-0.43</td>\n",
       "                        <td id=\"T_cfd7a09a_5ba7_11ea_8215_b91ac1d538f6row0_col3\" class=\"data row0 col3\" >-0.41</td>\n",
       "                        <td id=\"T_cfd7a09a_5ba7_11ea_8215_b91ac1d538f6row0_col4\" class=\"data row0 col4\" >-0.41</td>\n",
       "                        <td id=\"T_cfd7a09a_5ba7_11ea_8215_b91ac1d538f6row0_col5\" class=\"data row0 col5\" >-0.41</td>\n",
       "                        <td id=\"T_cfd7a09a_5ba7_11ea_8215_b91ac1d538f6row0_col6\" class=\"data row0 col6\" >-0.47</td>\n",
       "            </tr>\n",
       "            <tr>\n",
       "                        <th id=\"T_cfd7a09a_5ba7_11ea_8215_b91ac1d538f6level0_row1\" class=\"row_heading level0 row1\" >flat</th>\n",
       "                        <td id=\"T_cfd7a09a_5ba7_11ea_8215_b91ac1d538f6row1_col0\" class=\"data row1 col0\" >-0.16</td>\n",
       "                        <td id=\"T_cfd7a09a_5ba7_11ea_8215_b91ac1d538f6row1_col1\" class=\"data row1 col1\" >-0.16</td>\n",
       "                        <td id=\"T_cfd7a09a_5ba7_11ea_8215_b91ac1d538f6row1_col2\" class=\"data row1 col2\" >-0.15</td>\n",
       "                        <td id=\"T_cfd7a09a_5ba7_11ea_8215_b91ac1d538f6row1_col3\" class=\"data row1 col3\" >-0.15</td>\n",
       "                        <td id=\"T_cfd7a09a_5ba7_11ea_8215_b91ac1d538f6row1_col4\" class=\"data row1 col4\" >-0.14</td>\n",
       "                        <td id=\"T_cfd7a09a_5ba7_11ea_8215_b91ac1d538f6row1_col5\" class=\"data row1 col5\" >-0.14</td>\n",
       "                        <td id=\"T_cfd7a09a_5ba7_11ea_8215_b91ac1d538f6row1_col6\" class=\"data row1 col6\" >-0.13</td>\n",
       "            </tr>\n",
       "            <tr>\n",
       "                        <th id=\"T_cfd7a09a_5ba7_11ea_8215_b91ac1d538f6level0_row2\" class=\"row_heading level0 row2\" >up</th>\n",
       "                        <td id=\"T_cfd7a09a_5ba7_11ea_8215_b91ac1d538f6row2_col0\" class=\"data row2 col0\" >0.07</td>\n",
       "                        <td id=\"T_cfd7a09a_5ba7_11ea_8215_b91ac1d538f6row2_col1\" class=\"data row2 col1\" >0.13</td>\n",
       "                        <td id=\"T_cfd7a09a_5ba7_11ea_8215_b91ac1d538f6row2_col2\" class=\"data row2 col2\" >0.15</td>\n",
       "                        <td id=\"T_cfd7a09a_5ba7_11ea_8215_b91ac1d538f6row2_col3\" class=\"data row2 col3\" >0.18</td>\n",
       "                        <td id=\"T_cfd7a09a_5ba7_11ea_8215_b91ac1d538f6row2_col4\" class=\"data row2 col4\" >0.2</td>\n",
       "                        <td id=\"T_cfd7a09a_5ba7_11ea_8215_b91ac1d538f6row2_col5\" class=\"data row2 col5\" >0.21</td>\n",
       "                        <td id=\"T_cfd7a09a_5ba7_11ea_8215_b91ac1d538f6row2_col6\" class=\"data row2 col6\" >0.31</td>\n",
       "            </tr>\n",
       "    </tbody></table>"
      ],
      "text/plain": [
       "<pandas.io.formats.style.Styler at 0x232802cb048>"
      ]
     },
     "metadata": {},
     "output_type": "display_data"
    }
   ],
   "source": [
    "visualize.window_analysis(feature_handler.create_asymmetric_window(df, -1, 5), 'asy')"
   ]
  },
  {
   "cell_type": "markdown",
   "metadata": {},
   "source": [
    "From the table above we can see that the rightmost column - the asymmetrical window, shows the most consistent trends with our apriori believes. \n",
    "\n",
    "Below we use 5-fold CV to estimate the R^2 in linear regression for each of the window sizes:<br/>\n",
    "(the \"CV mean R squared\" is the mean of the R^2 for each unused fold at each iteration)"
   ]
  },
  {
   "cell_type": "code",
   "execution_count": 25,
   "metadata": {},
   "outputs": [
    {
     "name": "stdout",
     "output_type": "stream",
     "text": [
      "Window: 1, CV mean R squared: 0.10737517441796392\n",
      "Window: (-1, 5), CV mean R squared: 0.10013766421871646\n"
     ]
    }
   ],
   "source": [
    "for ws, y_col in [(1,'aar_1%'),  ((-1,5) ,\"aar_asy{}_{}%\".format(*(-1,5)))]:\n",
    "    data_ws1 = utils.generate_model_data(df_asy_train, window_size=ws,\n",
    "                                                     y_col=y_col,\n",
    "                                                     drop_08_09 = True,\n",
    "                                                     print_ = 0)\n",
    "    print(\"Window: \"+str(ws), end = ', ')\n",
    "    _ = regression_models.evaluate_Rsq_CV(data_ws1, y_col = y_col)"
   ]
  },
  {
   "cell_type": "markdown",
   "metadata": {},
   "source": [
    "Although the results are not promising just yet, them major advantage is that using the new window size let us use more information closer to the announcment time (t-4 and t-5).\n",
    "\n",
    "We will choose symmetric window around 1 (predicting \"aar_1%\").\n",
    "First - in oppose to choosing bigger symmetric window, choosing symmetric windows of size 1 allows us to use the stock price four and five days prior to the dividend announcment date (we need some gap because the way we filled the weekend-empty values might affect the response).\n",
    "Another reason is that most of our samples are without change in dividend, for those samples, taking a window size too large might be costly in terms of background noises (since no event has happened)."
   ]
  },
  {
   "cell_type": "code",
   "execution_count": 26,
   "metadata": {},
   "outputs": [
    {
     "name": "stdout",
     "output_type": "stream",
     "text": [
      "Train data R squared: 0.21007692337928363\n"
     ]
    }
   ],
   "source": [
    "ws, y_col = 1,'aar_1%'\n",
    "data_ws_train = utils.generate_model_data(df_asy_train, window_size=ws, y_col = y_col,drop_08_09 = True, print_ = 0)\n",
    "data_ws_test = utils.generate_model_data(df_asy_test, window_size=ws, drop_08_09 = True, print_ = 0)\n",
    "\n",
    "_ = regression_models.run_linear_reg(data_ws_train, y_col = y_col)"
   ]
  },
  {
   "cell_type": "markdown",
   "metadata": {},
   "source": [
    "### Step 6: Run new model (Regression) (naive + feature handler)"
   ]
  },
  {
   "cell_type": "markdown",
   "metadata": {},
   "source": [
    "We will consider two new features, since we normalized our response, it's make sense to also normalize in the same way the new features that were added from the window size change.<br/>\n",
    "$delta\\_\\%\\_{t-5}=\\frac{price_{t-5} - expected_{t-5}}{expected_{t-5}}$\n",
    "\n",
    "$delta\\_\\%\\_{t-4}=\\frac{price_{t-4} - expected_{t-4}}{expected_{t-4}}$"
   ]
  },
  {
   "cell_type": "code",
   "execution_count": 27,
   "metadata": {},
   "outputs": [
    {
     "name": "stdout",
     "output_type": "stream",
     "text": [
      "Train data R squared: 0.5155179617931628\n"
     ]
    }
   ],
   "source": [
    "ws, y_col = 1,'aar_1%'\n",
    "\n",
    "\n",
    "data_ws_delta_train = utils.generate_model_data(df_asy_train, window_size=ws, y_col = y_col, delta_precentage = True,\n",
    "                                                  drop_08_09 = True, print_ = 0)\n",
    "data_ws_delta_test = utils.generate_model_data(df_asy_test, window_size=ws,y_col = y_col, delta_precentage = True,\n",
    "                                                 drop_08_09 = True, print_ = 0)\n",
    "\n",
    "_ = regression_models.run_linear_reg(data_ws_delta_train, y_col = y_col, print_summary=0)"
   ]
  },
  {
   "cell_type": "markdown",
   "metadata": {},
   "source": [
    "Seems like that gave us a big improvment.<br/>\n",
    "That's raise some thoughts about the importance of the other features, using Recursive Feature Elimination gets $delta\\_\\%\\_{t-4}$ as the highest ranking feature"
   ]
  },
  {
   "cell_type": "code",
   "execution_count": 28,
   "metadata": {},
   "outputs": [
    {
     "data": {
      "text/plain": [
       "{'delta_%_t-4'}"
      ]
     },
     "execution_count": 28,
     "metadata": {},
     "output_type": "execute_result"
    }
   ],
   "source": [
    "regression_models.rfe(data_ws_delta_train, y_col, n_features_to_select=1)"
   ]
  },
  {
   "cell_type": "markdown",
   "metadata": {},
   "source": [
    "Running linear regression using only 'delta_%_t-4' support this decision:"
   ]
  },
  {
   "cell_type": "code",
   "execution_count": 29,
   "metadata": {},
   "outputs": [
    {
     "name": "stdout",
     "output_type": "stream",
     "text": [
      "Train data R squared: 0.5122205904052293\n",
      "Test data R squared: 0.45255701207396115\n"
     ]
    }
   ],
   "source": [
    "_ = regression_models.run_linear_reg(data_ws_delta_train[['delta_%_t-4', y_col]],\n",
    "                                     test_data = data_ws_delta_test[['delta_%_t-4', y_col]], \n",
    "                                     y_col = y_col)"
   ]
  },
  {
   "cell_type": "markdown",
   "metadata": {},
   "source": [
    "We will issue two points:\n",
    "* The finnancial explanation behind it - since for most of our samples $div\\_direction=0$, it means that \n",
    "\n",
    "**#TODO: ANAT**"
   ]
  },
  {
   "cell_type": "markdown",
   "metadata": {},
   "source": [
    "### Step 7: Run different Regression models and compare\n",
    "Now we want to leave the linear regression model, and use more complex models.<br/>\n",
    "First we will split the data into train and test."
   ]
  },
  {
   "cell_type": "code",
   "execution_count": 30,
   "metadata": {},
   "outputs": [],
   "source": [
    "X_train, X_test, y_train, y_test = \\\n",
    "data_ws_delta_train.drop([y_col], axis = 1), data_ws_delta_test.drop([y_col], axis = 1),\\\n",
    "data_ws_delta_train[y_col], data_ws_delta_test[y_col],"
   ]
  },
  {
   "cell_type": "markdown",
   "metadata": {},
   "source": [
    "Next we will introduce new baseline models:<br/>\n",
    "* The First one will be a simple linear regression, using only the variable 'delta_%_t-4'\n",
    "* The second one will be a constant model which always predict the mean value of y_train - this model won't be very helpful here, but during the checking of different regression models, many models (espcially MLPRegressor) converged to it, hence we present it too.<br/>\n",
    "\n",
    "In addition we will now look at the mean squared error instead of the R squared we looked at before. We want to compare models that aren't linear regression. In praticular we will examine the mse*(10^4) because the scale if very small."
   ]
  },
  {
   "cell_type": "code",
   "execution_count": 33,
   "metadata": {},
   "outputs": [
    {
     "name": "stdout",
     "output_type": "stream",
     "text": [
      "Linear Regression model mse*e+4: 10.577994984433456\n",
      "Linear Regression model mse*e+4: 10.577994984433456\n",
      "Constant model mse*e+4: 19.32255953892095\n"
     ]
    }
   ],
   "source": [
    "lr_features = ['delta_%_t-4']\n",
    "bl_model_lg, bl_model_const = regression_models.step7_bl_models(X_train, X_test, y_train, y_test, lr_features = lr_features)"
   ]
  },
  {
   "cell_type": "markdown",
   "metadata": {},
   "source": [
    "We examined few models, such as: MLP Regressor, XGBoost and Random Forest.<br/>\n",
    "We didn't get better results than our baselines, but we could see that the models that got good results 'converged' to one of the baseline models.<br/>\n",
    "We decided to first use our linear regression baseline model and then predict it's error:"
   ]
  },
  {
   "cell_type": "code",
   "execution_count": 34,
   "metadata": {},
   "outputs": [],
   "source": [
    "y_delta_train = y_train - bl_model_lg.predict(X_train[lr_features])\n",
    "y_delta_test = y_test - bl_model_lg.predict(X_test[lr_features])\n",
    "X_delta_train = X_train.drop(lr_features, axis = 1)\n",
    "X_delta_test = X_test.drop(lr_features, axis = 1)"
   ]
  },
  {
   "cell_type": "markdown",
   "metadata": {},
   "source": [
    "After considering few models, Random Forest gave us the best results.\n",
    "\n",
    "We will now tune it's hyperparameters, after some rough tuning we saw that the maximum depth and number of trees has the most influence. We will use grid search CV to choose the best combination.<br/>\n",
    "**Will only run when run_speed == 1, takes more than an hour**"
   ]
  },
  {
   "cell_type": "code",
   "execution_count": 42,
   "metadata": {
    "scrolled": true
   },
   "outputs": [],
   "source": [
    "n_est = [10 , 25, 75, 150, 300, 500, 600,800]\n",
    "depths =  [5, 15, 20, 40, 100]\n",
    "gcv_1 = utils.rf_cv(X_train, y_delta_train, n_est, depths, run_speed = run_speed, idx = 1)\n"
   ]
  },
  {
   "cell_type": "code",
   "execution_count": 43,
   "metadata": {},
   "outputs": [
    {
     "data": {
      "image/png": "[encoded data removed]",
      "text/plain": [
       "<Figure size 1440x720 with 1 Axes>"
      ]
     },
     "metadata": {
      "needs_background": "light"
     },
     "output_type": "display_data"
    }
   ],
   "source": [
    "regression_models.plot_grid_search(gcv_1, n_est, depths, 'n_estimators', 'max_depth')"
   ]
  },
  {
   "cell_type": "code",
   "execution_count": 44,
   "metadata": {
    "scrolled": true
   },
   "outputs": [],
   "source": [
    "n_est = [600,800, 1000]\n",
    "depths = [40, 100, 150]\n",
    "\n",
    "gcv_2 = utils.rf_cv(X_train, y_delta_train, n_est, depths, run_speed = run_speed, idx = 2)"
   ]
  },
  {
   "cell_type": "code",
   "execution_count": 45,
   "metadata": {},
   "outputs": [
    {
     "data": {
      "image/png": "[encoded data removed]",
      "text/plain": [
       "<Figure size 1440x720 with 1 Axes>"
      ]
     },
     "metadata": {
      "needs_background": "light"
     },
     "output_type": "display_data"
    }
   ],
   "source": [
    "regression_models.plot_grid_search(gcv_2, n_est, depths, 'n_estimators', 'max_depth')"
   ]
  },
  {
   "cell_type": "code",
   "execution_count": 46,
   "metadata": {},
   "outputs": [
    {
     "data": {
      "text/plain": [
       "{'max_depth': 150, 'n_estimators': 1000}"
      ]
     },
     "execution_count": 46,
     "metadata": {},
     "output_type": "execute_result"
    }
   ],
   "source": [
    "best_params = gcv_2['mean_test_score'].argmin()\n",
    "gcv_2['params'][best_params]"
   ]
  },
  {
   "cell_type": "markdown",
   "metadata": {},
   "source": [
    "We can see that choosing depth to be 150 and 1000 trees gives the best result.<br/>\n",
    "We will train our model on the whole train set and than evaluate it on the test set.<br/>\n",
    "The train time of the model takes about 15 minutes. If you would like to skip it please change skip to True in the cell below."
   ]
  },
  {
   "cell_type": "code",
   "execution_count": 47,
   "metadata": {},
   "outputs": [],
   "source": [
    "#READ WARNING BELOW\n",
    "skip = False"
   ]
  },
  {
   "cell_type": "markdown",
   "metadata": {},
   "source": [
    "**WARNING: Using `skip = True` will only produce valid score if the notebook was run by it's order and with the default seed (`seed = 10`)**<br/>(we didn't save the model itself because it takes ~2GB memory, instead we saved the predictions)"
   ]
  },
  {
   "cell_type": "code",
   "execution_count": 48,
   "metadata": {},
   "outputs": [
    {
     "name": "stdout",
     "output_type": "stream",
     "text": [
      "Total mse using lr+rf: 10.1854238517866\n"
     ]
    }
   ],
   "source": [
    "if skip:\n",
    "    with open('notebook_files/step7_predictions', 'rb') as file:\n",
    "        predictions = pickle.load(file)\n",
    "else:\n",
    "    rf_model = utils.fit_random_forest(X_train, y_delta_train, n_estimators = 1000, max_depth = 150)\n",
    "    predictions = rf_model.predict(X_test) + bl_model_lg.predict(X_test[['delta_%_t-4']])\n",
    "\n",
    "print(\"Total mse using lr+rf: {}\".format(regression_models.mse(predictions, y_test)))"
   ]
  },
  {
   "cell_type": "markdown",
   "metadata": {},
   "source": [
    "We can see that the mse improved to about 10.2, that's not a big improvment."
   ]
  },
  {
   "cell_type": "markdown",
   "metadata": {},
   "source": [
    "### Step 8: Discrete Models"
   ]
  },
  {
   "cell_type": "markdown",
   "metadata": {},
   "source": [
    "Explain what we did"
   ]
  },
  {
   "cell_type": "code",
   "execution_count": 49,
   "metadata": {},
   "outputs": [],
   "source": [
    "X_bucket_train =  X_train[['delta_%_t-4']]\n",
    "X_bucket_test =  X_test[['delta_%_t-4']]\n",
    "\n",
    "y_bucket_train = y_train.apply(discrete_models.bucket_assignment)\n",
    "y_bucket_test = y_test.apply(discrete_models.bucket_assignment)"
   ]
  },
  {
   "cell_type": "markdown",
   "metadata": {},
   "source": [
    "Choose best K"
   ]
  },
  {
   "cell_type": "code",
   "execution_count": 50,
   "metadata": {},
   "outputs": [
    {
     "data": {
      "image/png": "[encoded data removed]",
      "text/plain": [
       "<Figure size 432x288 with 1 Axes>"
      ]
     },
     "metadata": {
      "needs_background": "light"
     },
     "output_type": "display_data"
    }
   ],
   "source": [
    "knn_gcv = discrete_models.knn_choose_K(X_bucket_train, y_bucket_train, [i for i in range(1, 200)])"
   ]
  },
  {
   "cell_type": "code",
   "execution_count": 51,
   "metadata": {},
   "outputs": [
    {
     "name": "stdout",
     "output_type": "stream",
     "text": [
      "Test Accuracy: 0.49458934517203107\n"
     ]
    }
   ],
   "source": [
    "K = 100\n",
    "knn_model = discrete_models.run_knn(X_bucket_train, X_bucket_test, y_bucket_train, y_bucket_test, K)"
   ]
  },
  {
   "cell_type": "code",
   "execution_count": 52,
   "metadata": {},
   "outputs": [
    {
     "name": "stdout",
     "output_type": "stream",
     "text": [
      "Absolute values:\t\t\tPercentage values:\n"
     ]
    },
    {
     "data": {
      "text/html": [
       "<table style=\"display:inline\" border=\"1\" class=\"dataframe\">\n",
       "  <thead>\n",
       "    <tr>\n",
       "      <th></th>\n",
       "      <th colspan=\"6\" halign=\"left\">Test - Distribution</th>\n",
       "    </tr>\n",
       "    <tr>\n",
       "      <th>pred_bucket</th>\n",
       "      <th>-2</th>\n",
       "      <th>-1</th>\n",
       "      <th>0</th>\n",
       "      <th>1</th>\n",
       "      <th>2</th>\n",
       "      <th>All</th>\n",
       "    </tr>\n",
       "    <tr>\n",
       "      <th>bucket</th>\n",
       "      <th></th>\n",
       "      <th></th>\n",
       "      <th></th>\n",
       "      <th></th>\n",
       "      <th></th>\n",
       "      <th></th>\n",
       "    </tr>\n",
       "  </thead>\n",
       "  <tbody>\n",
       "    <tr>\n",
       "      <th>-2</th>\n",
       "      <td>937</td>\n",
       "      <td>294</td>\n",
       "      <td>141</td>\n",
       "      <td>87</td>\n",
       "      <td>41</td>\n",
       "      <td>1500</td>\n",
       "    </tr>\n",
       "    <tr>\n",
       "      <th>-1</th>\n",
       "      <td>274</td>\n",
       "      <td>551</td>\n",
       "      <td>339</td>\n",
       "      <td>174</td>\n",
       "      <td>70</td>\n",
       "      <td>1408</td>\n",
       "    </tr>\n",
       "    <tr>\n",
       "      <th>0</th>\n",
       "      <td>105</td>\n",
       "      <td>350</td>\n",
       "      <td>755</td>\n",
       "      <td>295</td>\n",
       "      <td>79</td>\n",
       "      <td>1584</td>\n",
       "    </tr>\n",
       "    <tr>\n",
       "      <th>1</th>\n",
       "      <td>71</td>\n",
       "      <td>178</td>\n",
       "      <td>321</td>\n",
       "      <td>570</td>\n",
       "      <td>247</td>\n",
       "      <td>1387</td>\n",
       "    </tr>\n",
       "    <tr>\n",
       "      <th>2</th>\n",
       "      <td>54</td>\n",
       "      <td>65</td>\n",
       "      <td>145</td>\n",
       "      <td>313</td>\n",
       "      <td>752</td>\n",
       "      <td>1329</td>\n",
       "    </tr>\n",
       "    <tr>\n",
       "      <th>All</th>\n",
       "      <td>1441</td>\n",
       "      <td>1438</td>\n",
       "      <td>1701</td>\n",
       "      <td>1439</td>\n",
       "      <td>1189</td>\n",
       "      <td>7208</td>\n",
       "    </tr>\n",
       "  </tbody>\n",
       "</table style=\"display:inline\"><table style=\"display:inline\" border=\"1\" class=\"dataframe\">\n",
       "  <thead>\n",
       "    <tr>\n",
       "      <th></th>\n",
       "      <th colspan=\"6\" halign=\"left\">Test - Distribution</th>\n",
       "    </tr>\n",
       "    <tr>\n",
       "      <th>pred_bucket</th>\n",
       "      <th>-2</th>\n",
       "      <th>-1</th>\n",
       "      <th>0</th>\n",
       "      <th>1</th>\n",
       "      <th>2</th>\n",
       "      <th>All</th>\n",
       "    </tr>\n",
       "    <tr>\n",
       "      <th>bucket</th>\n",
       "      <th></th>\n",
       "      <th></th>\n",
       "      <th></th>\n",
       "      <th></th>\n",
       "      <th></th>\n",
       "      <th></th>\n",
       "    </tr>\n",
       "  </thead>\n",
       "  <tbody>\n",
       "    <tr>\n",
       "      <th>-2</th>\n",
       "      <td>62.47</td>\n",
       "      <td>19.60</td>\n",
       "      <td>9.40</td>\n",
       "      <td>5.80</td>\n",
       "      <td>2.73</td>\n",
       "      <td>100.00</td>\n",
       "    </tr>\n",
       "    <tr>\n",
       "      <th>-1</th>\n",
       "      <td>19.46</td>\n",
       "      <td>39.13</td>\n",
       "      <td>24.08</td>\n",
       "      <td>12.36</td>\n",
       "      <td>4.97</td>\n",
       "      <td>100.00</td>\n",
       "    </tr>\n",
       "    <tr>\n",
       "      <th>0</th>\n",
       "      <td>6.63</td>\n",
       "      <td>22.10</td>\n",
       "      <td>47.66</td>\n",
       "      <td>18.62</td>\n",
       "      <td>4.99</td>\n",
       "      <td>100.00</td>\n",
       "    </tr>\n",
       "    <tr>\n",
       "      <th>1</th>\n",
       "      <td>5.12</td>\n",
       "      <td>12.83</td>\n",
       "      <td>23.14</td>\n",
       "      <td>41.10</td>\n",
       "      <td>17.81</td>\n",
       "      <td>100.00</td>\n",
       "    </tr>\n",
       "    <tr>\n",
       "      <th>2</th>\n",
       "      <td>4.06</td>\n",
       "      <td>4.89</td>\n",
       "      <td>10.91</td>\n",
       "      <td>23.55</td>\n",
       "      <td>56.58</td>\n",
       "      <td>100.00</td>\n",
       "    </tr>\n",
       "    <tr>\n",
       "      <th>All</th>\n",
       "      <td>19.99</td>\n",
       "      <td>19.95</td>\n",
       "      <td>23.60</td>\n",
       "      <td>19.96</td>\n",
       "      <td>16.50</td>\n",
       "      <td>100.00</td>\n",
       "    </tr>\n",
       "  </tbody>\n",
       "</table style=\"display:inline\">"
      ]
     },
     "metadata": {},
     "output_type": "display_data"
    }
   ],
   "source": [
    "discrete_models.knn_tables(knn_model, X_bucket_test, y_bucket_test)"
   ]
  },
  {
   "cell_type": "markdown",
   "metadata": {},
   "source": [
    "### Step 9: Conclusions"
   ]
  },
  {
   "cell_type": "markdown",
   "metadata": {},
   "source": [
    "Our goal in this project was to predict abnormal return as a result of a dividend announcement. Our main finding suggests that when dividends do not change versus previous announcement, changes in the AR are mainly due to inaccuracies in the pricing expectation model. \n",
    "\n",
    "Modeling these inaccuracies helped us achieve R^2 of approximately 50%. In addition, by recognizing it as the main feature we were able to consider other models such as combining linear regression with random forest or turning our problem to a discrete one and using KNN. <br/>\n",
    "Our focal point in this project was a complex problem setting. What made our problem setting complex is the need to integrate financial theory throughout the data science workflow, which we believe we did.\n",
    "\n",
    "\n",
    "The opportunity to predict AR can contribute decision making. Think of a scenario in which a firm is facing a choice of whether it should announce a dividend or re-invest the resources in on-going operations. Assume the firm is maximizing its market value. As we showed, changing the dividend policy impacts the AR and should be a factor to consider when estimating the attractiveness of the re-investment. \n"
   ]
  }
 ],
 "metadata": {
  "kernelspec": {
   "display_name": "Python 3",
   "language": "python",
   "name": "python3"
  },
  "language_info": {
   "codemirror_mode": {
    "name": "ipython",
    "version": 3
   },
   "file_extension": ".py",
   "mimetype": "text/x-python",
   "name": "python",
   "nbconvert_exporter": "python",
   "pygments_lexer": "ipython3",
   "version": "3.7.5"
  }
 },
 "nbformat": 4,
 "nbformat_minor": 4
}
