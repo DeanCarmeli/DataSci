{
 "cells": [
  {
   "cell_type": "markdown",
   "metadata": {},
   "source": [
    "**Step 1: data pre-process steps and initial feature extraction**\n",
    "\n",
    "\n",
    "**Step 2: Data insights and visualization including drop outliers**<br/>\n",
    "* Basic stats, dividends per year, abnormal return hist given div direction<br/>\n",
    "* outliers range?\n",
    "\n",
    "\n",
    "**Step 3: Base line model**<br/>\n",
    "* Should we split train/test in the research linear regression? same for the regular one\n",
    "* Which columns should I drop?\n",
    "\n",
    "\n",
    "**Step 4: Analysis of error + conclusions (years 2008-2009)**\n",
    "\n",
    "\n",
    "**Step 5: Sensitivity analysis (size of window)**\n",
    "\n",
    "\n",
    "**Step 6: Run new model (Regression) (naive + feature handler)**\n",
    "\n",
    "\n",
    "**Step 7: Run different Regression models and compare**\n",
    "\n",
    "\n",
    "**Step 8: Discrete Models**\n",
    "\n",
    "\n",
    "**Step 9: Cross Validation, results and conclusions**\n"
   ]
  },
  {
   "cell_type": "code",
   "execution_count": 61,
   "metadata": {},
   "outputs": [
    {
     "data": {
      "text/plain": [
       "<module 'feature_handler.feature_handler' from 'C:\\\\Users\\\\Owner\\\\GIT\\\\DS2\\\\DataSci\\\\feature_handler\\\\feature_handler.py'>"
      ]
     },
     "execution_count": 61,
     "metadata": {},
     "output_type": "execute_result"
    }
   ],
   "source": [
    "import imp\n",
    "imp.reload(main)\n",
    "imp.reload(regression_models)\n",
    "imp.reload(feature_handler)"
   ]
  },
  {
   "cell_type": "code",
   "execution_count": 62,
   "metadata": {},
   "outputs": [],
   "source": [
    "from aggregate import aggregate\n",
    "from aggregate import capm_params\n",
    "from feature_handler import feature_handler\n",
    "from run_model import regression_models\n",
    "import pandas as pd\n",
    "import numpy as np\n",
    "import main\n",
    "import random\n",
    "import matplotlib.pyplot as plt\n",
    "import seaborn as sns\n",
    "import warnings\n",
    "warnings.filterwarnings('ignore')\n",
    "%matplotlib inline\n",
    "sns.set()"
   ]
  },
  {
   "cell_type": "markdown",
   "metadata": {},
   "source": [
    "# Data Science Workshop - Project notebook"
   ]
  },
  {
   "cell_type": "markdown",
   "metadata": {},
   "source": [
    "TODO: introduction"
   ]
  },
  {
   "cell_type": "markdown",
   "metadata": {},
   "source": [
    "### Step 0: Notebook intialization\n",
    "seed: \n",
    ">We ran the notebook using seed = 10\n",
    "\n",
    "run_speed:\n",
    ">3 - fastest (immediate)<br/>\n",
    "    2 - avrage<br/>\n",
    "    1 - slowest"
   ]
  },
  {
   "cell_type": "code",
   "execution_count": 63,
   "metadata": {},
   "outputs": [],
   "source": [
    "seed = 10\n",
    "random.seed(seed)\n",
    "np.random.seed(seed)\n",
    "run_speed = 3"
   ]
  },
  {
   "cell_type": "markdown",
   "metadata": {},
   "source": [
    "### Step 1: data pre-process steps and initial feature extraction\n",
    "This step include very intial data pre-processing:\n",
    "1. Drop NaNs - droping them is easy decision because there aren't alot samples with NaNs.\n",
    "2. Take care of data types - basic conversion from string to float\n",
    "3. Add dividend change and dividend change direction - infer from the data\n",
    "4. Add the abnormal return feature (which is the value we will try to predict and explain)\n",
    "\n",
    "Step 4 includes not just the abnormal return' but more featuers.<br/>\n",
    "Some of them are used to generate the abnoraml return, some aren't.<br/>\n",
    "Those features meaning is as follows:\n",
    "\n",
    ">$expected\\_i = \\alpha + \\beta*sp\\_i$<br/>\n",
    "$ar\\_i = expected\\_i - actual\\_i$<br/>\n",
    "$aar\\_i = \\frac{\\sum_{k=-i}^i{ar_k}}{2i+1}$<br/>\n",
    "\n",
    "As of now, we will think of \"aar_5\" as our response. <br/>\n",
    "(\"aar_i%\" will be discussed later)"
   ]
  },
  {
   "cell_type": "code",
   "execution_count": 64,
   "metadata": {
    "scrolled": true
   },
   "outputs": [
    {
     "name": "stdout",
     "output_type": "stream",
     "text": [
      "Dropped 86 rows with NaN values\n",
      "################# Creating div_amount_num #################\n",
      "Found 77 samples were dividend_amount did not start with $ - drop\n",
      "Found 4 divdends that were eqaul to 0 - drop\n",
      ">>> Finished. Total dropped rows due to invalid dividend info: 81\n",
      "################# Creating div_direction and div_change ###\n",
      ">>> Finished\n",
      "################# Creating abnormal return related features ###\n",
      "\tfeature type = expected_t\t\t11 features\n",
      "\tfeature type = ar_t\t\t11 features\n",
      "\tfeature type = aar_t\t\t6 features\n",
      "\tfeature type = aar_t%\t\t6 features\n",
      ">>> Finished. Created 34 features\n"
     ]
    }
   ],
   "source": [
    "df = pd.read_csv(\"aggregated_data.csv\")\n",
    "\n",
    "rows_before = df.shape[0]\n",
    "df.dropna(inplace=True)\n",
    "rows_after = df.shape[0]\n",
    "print(\"Dropped {} rows with NaN values\".format(rows_before-rows_after))\n",
    "\n",
    "# dividend_amount to integer\n",
    "df = feature_handler.create_div_amount_num(df)\n",
    "df.drop(df[df[\"div_amount_num\"] == 0].index, inplace=True)\n",
    "df.drop(\"dividend_amount\", axis = 1, inplace = True)\n",
    "\n",
    "# Add dividend direction and dividend change\n",
    "df = feature_handler.gen_div_direction_and_change(df)\n",
    "\n",
    "# Add abnormal return data\n",
    "df = feature_handler.create_abnormal_return(df)\n",
    "df.reset_index(inplace = True, drop = True)\n",
    "if run_speed <= 1: df.to_csv(\"data_with_ar.csv\", index=False)"
   ]
  },
  {
   "cell_type": "code",
   "execution_count": 65,
   "metadata": {},
   "outputs": [
    {
     "data": {
      "text/html": [
       "<div>\n",
       "<style scoped>\n",
       "    .dataframe tbody tr th:only-of-type {\n",
       "        vertical-align: middle;\n",
       "    }\n",
       "\n",
       "    .dataframe tbody tr th {\n",
       "        vertical-align: top;\n",
       "    }\n",
       "\n",
       "    .dataframe thead th {\n",
       "        text-align: right;\n",
       "    }\n",
       "</style>\n",
       "<table border=\"1\" class=\"dataframe\">\n",
       "  <thead>\n",
       "    <tr style=\"text-align: right;\">\n",
       "      <th></th>\n",
       "      <th>company_name</th>\n",
       "      <th>symbol</th>\n",
       "      <th>industry</th>\n",
       "      <th>sector</th>\n",
       "      <th>dividend_date</th>\n",
       "      <th>alpha</th>\n",
       "      <th>beta</th>\n",
       "      <th>price_t-5</th>\n",
       "      <th>vol_t-5</th>\n",
       "      <th>sp_price_t-5</th>\n",
       "      <th>...</th>\n",
       "      <th>aar_2</th>\n",
       "      <th>aar_3</th>\n",
       "      <th>aar_4</th>\n",
       "      <th>aar_5</th>\n",
       "      <th>aar_0%</th>\n",
       "      <th>aar_1%</th>\n",
       "      <th>aar_2%</th>\n",
       "      <th>aar_3%</th>\n",
       "      <th>aar_4%</th>\n",
       "      <th>aar_5%</th>\n",
       "    </tr>\n",
       "  </thead>\n",
       "  <tbody>\n",
       "    <tr>\n",
       "      <th>0</th>\n",
       "      <td>American Airlines Group, Inc.</td>\n",
       "      <td>AAL</td>\n",
       "      <td>Air Freight/Delivery Services</td>\n",
       "      <td>Transportation</td>\n",
       "      <td>2019-10-22</td>\n",
       "      <td>-33.847291</td>\n",
       "      <td>0.020567</td>\n",
       "      <td>27.93</td>\n",
       "      <td>6709600.0</td>\n",
       "      <td>2997.949951</td>\n",
       "      <td>...</td>\n",
       "      <td>1.724005</td>\n",
       "      <td>2.212617</td>\n",
       "      <td>2.456924</td>\n",
       "      <td>2.497174</td>\n",
       "      <td>0.017549</td>\n",
       "      <td>0.017393</td>\n",
       "      <td>0.024743</td>\n",
       "      <td>0.033998</td>\n",
       "      <td>0.039134</td>\n",
       "      <td>0.040636</td>\n",
       "    </tr>\n",
       "  </tbody>\n",
       "</table>\n",
       "<p>1 rows × 98 columns</p>\n",
       "</div>"
      ],
      "text/plain": [
       "                    company_name symbol                       industry  \\\n",
       "0  American Airlines Group, Inc.    AAL  Air Freight/Delivery Services   \n",
       "\n",
       "           sector dividend_date      alpha      beta  price_t-5    vol_t-5  \\\n",
       "0  Transportation    2019-10-22 -33.847291  0.020567      27.93  6709600.0   \n",
       "\n",
       "   sp_price_t-5  ...     aar_2     aar_3     aar_4     aar_5    aar_0%  \\\n",
       "0   2997.949951  ...  1.724005  2.212617  2.456924  2.497174  0.017549   \n",
       "\n",
       "     aar_1%    aar_2%    aar_3%    aar_4%    aar_5%  \n",
       "0  0.017393  0.024743  0.033998  0.039134  0.040636  \n",
       "\n",
       "[1 rows x 98 columns]"
      ]
     },
     "metadata": {},
     "output_type": "display_data"
    },
    {
     "name": "stdout",
     "output_type": "stream",
     "text": [
      "['company_name', 'symbol', 'industry', 'sector', 'dividend_date', 'alpha', 'beta', 'price_t-5', 'vol_t-5', 'sp_price_t-5', 'sp_vol_t-5', 'price_t-4', 'vol_t-4', 'sp_price_t-4', 'sp_vol_t-4', 'price_t-3', 'vol_t-3', 'sp_price_t-3', 'sp_vol_t-3', 'price_t-2', 'vol_t-2', 'sp_price_t-2', 'sp_vol_t-2', 'price_t-1', 'vol_t-1', 'sp_price_t-1', 'sp_vol_t-1', 'price_t0', 'vol_t0', 'sp_price_t0', 'sp_vol_t0', 'price_t1', 'vol_t1', 'sp_price_t1', 'sp_vol_t1', 'price_t2', 'vol_t2', 'sp_price_t2', 'sp_vol_t2', 'price_t3', 'vol_t3', 'sp_price_t3', 'sp_vol_t3', 'price_t4', 'vol_t4', 'sp_price_t4', 'sp_vol_t4', 'price_t5', 'vol_t5', 'sp_price_t5', 'sp_vol_t5', 'year', 'month', 'quarter', 'MV Debt Ratio', 'BV Debt Ratio', 'Effective Tax Rate', 'Std Deviation In Prices', 'EBITDA/Value', 'Fixed Assets/BV of Capital', 'Capital Spending/BV of Capital', 'div_amount_num', 'div_direction', 'div_change', 'expected_t-5', 'expected_t-4', 'expected_t-3', 'expected_t-2', 'expected_t-1', 'expected_t0', 'expected_t1', 'expected_t2', 'expected_t3', 'expected_t4', 'expected_t5', 'ar_t-5', 'ar_t-4', 'ar_t-3', 'ar_t-2', 'ar_t-1', 'ar_t0', 'ar_t1', 'ar_t2', 'ar_t3', 'ar_t4', 'ar_t5', 'aar_0', 'aar_1', 'aar_2', 'aar_3', 'aar_4', 'aar_5', 'aar_0%', 'aar_1%', 'aar_2%', 'aar_3%', 'aar_4%', 'aar_5%']\n"
     ]
    }
   ],
   "source": [
    "display(df.head(1))\n",
    "print(list(df.columns))"
   ]
  },
  {
   "cell_type": "markdown",
   "metadata": {},
   "source": [
    "### Step 2: Data insights and visualization including drop outliers"
   ]
  },
  {
   "cell_type": "code",
   "execution_count": 66,
   "metadata": {},
   "outputs": [
    {
     "name": "stdout",
     "output_type": "stream",
     "text": [
      "Data Stats:\n",
      "\t#Samples: 39746\n",
      "\t#Features: 98\n",
      "\t#Samples with NaNs: 0\n"
     ]
    }
   ],
   "source": [
    "_ = main.print_basic_stats(df)"
   ]
  },
  {
   "cell_type": "code",
   "execution_count": 67,
   "metadata": {},
   "outputs": [
    {
     "name": "stdout",
     "output_type": "stream",
     "text": [
      "Removed 57 outliers\n"
     ]
    }
   ],
   "source": [
    "df_aar_5_no_outliers = main.remove_outliers(df, range_min = -50 , range_max = 50)"
   ]
  },
  {
   "cell_type": "markdown",
   "metadata": {},
   "source": [
    "One more thing we had in mind is to normalize the abnormal return, that's why we created \"aar_i%\",<br/>\n",
    "which is the same as \"aar_i\" but divided by the mean of the expected values:<br/>\n",
    "$aar\\_i\\% = \\frac{aar\\_i}{(\\sum_{k=-i}^{i}{expected_k})/(2i+1)}$<br/>\n",
    "So we will predict arr_5% instead of aar_5"
   ]
  },
  {
   "cell_type": "code",
   "execution_count": 122,
   "metadata": {},
   "outputs": [
    {
     "data": {
      "image/png": "[encoded data removed]",
      "text/plain": [
       "<Figure size 432x288 with 1 Axes>"
      ]
     },
     "metadata": {},
     "output_type": "display_data"
    }
   ],
   "source": [
    "#show dist of aar_5%\n",
    "_ = sns.distplot(df['aar_5%'], hist = False, rug = True)"
   ]
  },
  {
   "cell_type": "code",
   "execution_count": 69,
   "metadata": {},
   "outputs": [
    {
     "name": "stdout",
     "output_type": "stream",
     "text": [
      "Removed 1 outliers\n"
     ]
    }
   ],
   "source": [
    "df_aar_5_precent_no_outliers = main.remove_outliers(df, range_min = -1, range_max = 1, y_col = 'aar_5%')\n"
   ]
  },
  {
   "cell_type": "markdown",
   "metadata": {},
   "source": [
    "### Step 3: Base line model\n",
    "This step include to parts:\n",
    "1. Research replication\n",
    "2. Run simple linear regression to use as a baseline\n",
    "\n",
    "Recall we are trying to predict \"arr_5\", hence we will not use any related features.\n",
    "In addition we still have some categorical features, we will use dummies on the \"sector\" feature and drop the rest. This leaves us with:"
   ]
  },
  {
   "cell_type": "code",
   "execution_count": 70,
   "metadata": {},
   "outputs": [
    {
     "name": "stdout",
     "output_type": "stream",
     "text": [
      "Baseline model features: {'Fixed Assets/BV of Capital', 'div_change', 'alpha', 'div_amount_num', 'Capital Spending/BV of Capital', 'beta', 'Effective Tax Rate', 'BV Debt Ratio', 'EBITDA/Value', 'Std Deviation In Prices', 'year', 'month', 'MV Debt Ratio', 'div_direction', 'quarter'}\n"
     ]
    }
   ],
   "source": [
    "baseline_model_data = main.generate_bl_model_data(df_aar_5_precent_no_outliers, print_ = True, y_col = 'aar_5%')"
   ]
  },
  {
   "cell_type": "markdown",
   "metadata": {},
   "source": [
    "**Research replication**<br/>\n",
    "Previous research, looked only at the samples where $div\\_change \\neq 0$, using linear regression they recieved R^2 of abot 7%, we will try to replicate it."
   ]
  },
  {
   "cell_type": "code",
   "execution_count": 71,
   "metadata": {},
   "outputs": [
    {
     "name": "stdout",
     "output_type": "stream",
     "text": [
      "R^2: 0.012338446092088784\n"
     ]
    }
   ],
   "source": [
    "#Regression model - Research\n",
    "research_baseline_model_data = main.generate_bl_model_data(df_aar_5_no_outliers, print_ = False, y_col = 'aar_5')\n",
    "research_baseline_model_data = research_baseline_model_data[research_baseline_model_data['div_direction'] != 0]\n",
    "_ = regression_models.run_linear_reg(research_baseline_model_data) "
   ]
  },
  {
   "cell_type": "markdown",
   "metadata": {},
   "source": [
    "TODO: discuss the reuslt"
   ]
  },
  {
   "cell_type": "markdown",
   "metadata": {},
   "source": [
    "**Linear regression as baseline**<br/>\n",
    "Use simple linear regression on our data:"
   ]
  },
  {
   "cell_type": "code",
   "execution_count": 72,
   "metadata": {},
   "outputs": [
    {
     "name": "stdout",
     "output_type": "stream",
     "text": [
      "R^2: 0.00376855343080873\n"
     ]
    }
   ],
   "source": [
    "baseline_model_data = main.generate_bl_model_data(df_aar_5_precent_no_outliers, print_ = False, y_col = 'aar_5%')\n",
    "_ = regression_models.run_linear_reg(baseline_model_data, y_col = 'aar_5%')"
   ]
  },
  {
   "cell_type": "markdown",
   "metadata": {},
   "source": [
    "TODO: Discuss the results"
   ]
  },
  {
   "cell_type": "markdown",
   "metadata": {},
   "source": [
    "### Step 4: Analysis of error for the base line model+ conclusions (years 2008-2009)\n",
    "TODO: visualize and discuss"
   ]
  },
  {
   "cell_type": "code",
   "execution_count": 73,
   "metadata": {},
   "outputs": [
    {
     "name": "stdout",
     "output_type": "stream",
     "text": [
      "Removed 3219 samples from years 2008 - 2009\n",
      "R^2: 0.0034791873471685664\n"
     ]
    }
   ],
   "source": [
    "baseline_model_data_no20089 = main.remove_2008_2009(baseline_model_data)\n",
    "_ = regression_models.run_linear_reg(baseline_model_data_no20089, y_col = \"aar_5%\")"
   ]
  },
  {
   "cell_type": "markdown",
   "metadata": {},
   "source": [
    "### Step 5: Sensitivity analysis (size of window)"
   ]
  },
  {
   "cell_type": "markdown",
   "metadata": {},
   "source": [
    "As a result of the disapointing results, we will try to revisit our assumptions, in particular the \"window\" size we chose.<br/>\n",
    "TODO: explain why windows size of -1,5"
   ]
  },
  {
   "cell_type": "code",
   "execution_count": 134,
   "metadata": {},
   "outputs": [
    {
     "name": "stdout",
     "output_type": "stream",
     "text": [
      "R^2: 0.005622530757547817\n"
     ]
    }
   ],
   "source": [
    "start, end = -1 ,5\n",
    "y_col = \"aar_asy{}_{}%\".format(str(start), str(end))\n",
    "baseline_data_ws = main.generate_bl_model_data(df_aar_5_precent_no_outliers,\\\n",
    "                                                             window_size=(start, end),\\\n",
    "                                                             drop_08_09 = True,\n",
    "                                                             print_ = 0)\n",
    "_ = regression_models.run_linear_reg(baseline_data_ws, y_col = y_col)"
   ]
  },
  {
   "cell_type": "markdown",
   "metadata": {},
   "source": [
    "TODO: discuss the results"
   ]
  },
  {
   "cell_type": "markdown",
   "metadata": {},
   "source": [
    "### Step 6: Run new model (Regression) (naive + feature handler)"
   ]
  },
  {
   "cell_type": "markdown",
   "metadata": {},
   "source": [
    "We will consider two new features, since we normalized our response, it's make sense to also normalize in the same way the new features that were added from the window size change.<br/>\n",
    "$delta\\_\\%\\_{t-5}=\\frac{price_{t-5} - expected_{t-5}}{expected_{t-5}}$\n",
    "\n",
    "$delta\\_\\%\\_{t-4}=\\frac{price_{t-4} - expected_{t-4}}{expected_{t-4}}$"
   ]
  },
  {
   "cell_type": "code",
   "execution_count": 106,
   "metadata": {},
   "outputs": [
    {
     "name": "stdout",
     "output_type": "stream",
     "text": [
      "Created delta_%_t-4, delta_%_t-5 features\n",
      "R^2: 0.5097399921639895\n"
     ]
    }
   ],
   "source": [
    "ws, y_col = 1 , 'aar_1%'\n",
    "baseline_data_ws1 = main.generate_bl_model_data(df,\n",
    "                                             window_size=ws,\\\n",
    "                                             y_col=y_col,\\\n",
    "                                             drop_08_09 = True,\n",
    "                                             print_ = 0)\n",
    "\n",
    "baseline_data_ws1 = feature_handler.gen_delta_precent_t(baseline_data_ws1)\n",
    "_ = regression_models.run_linear_reg([['delta_%_t-4', y_col]], y_col = y_col, print_summary= 0)"
   ]
  },
  {
   "cell_type": "markdown",
   "metadata": {},
   "source": [
    "### Step 7: Run different Regression models and compare\n",
    "Now we want to leave the linear regression model, and use more complex models.<br/>\n",
    "First we will split the data into train and test."
   ]
  },
  {
   "cell_type": "code",
   "execution_count": 131,
   "metadata": {},
   "outputs": [],
   "source": [
    "pred_data = baseline_data_ws1\n",
    "X_train, X_test, y_train, y_test = main.split_test_train(pred_data, y_col = 'aar_1%', test_size = 0.33)"
   ]
  },
  {
   "cell_type": "markdown",
   "metadata": {},
   "source": [
    "### Step 8: Discrete Models"
   ]
  },
  {
   "cell_type": "markdown",
   "metadata": {},
   "source": [
    "### Step 9: Cross Validation, results and conclusions"
   ]
  }
 ],
 "metadata": {
  "kernelspec": {
   "display_name": "Python 3",
   "language": "python",
   "name": "python3"
  },
  "language_info": {
   "codemirror_mode": {
    "name": "ipython",
    "version": 3
   },
   "file_extension": ".py",
   "mimetype": "text/x-python",
   "name": "python",
   "nbconvert_exporter": "python",
   "pygments_lexer": "ipython3",
   "version": "3.7.5"
  }
 },
 "nbformat": 4,
 "nbformat_minor": 4
}
