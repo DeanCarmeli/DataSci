{
 "cells": [
  {
   "cell_type": "code",
   "execution_count": null,
   "metadata": {},
   "outputs": [],
   "source": [
    "    # Step 1: data pre-process steps and initial feature extraction\n",
    "\n",
    "    # Step 2: Data insights and visualization including drop outliers\n",
    "    # Basic stats, dividends per year, abnormal return hist given div direction\n",
    "\n",
    "    # Step 3: Base line model\n",
    "\n",
    "    # Step 4: Analysis of error + conclusions (years 2008-2009)\n",
    "\n",
    "    # Step 5: Sensitivity analysis (size of window)\n",
    "\n",
    "    # Step 6: Run new model (Regression) (naive + feature handler)\n",
    "\n",
    "    # Step 7: Run different Regression models and compare\n",
    "\n",
    "    # Step 8: Discrete Models\n",
    "\n",
    "    # Step 9: Cross Validation, results and conclusions\n"
   ]
  },
  {
   "cell_type": "code",
   "execution_count": 37,
   "metadata": {},
   "outputs": [
    {
     "data": {
      "text/plain": [
       "<module 'main' from 'C:\\\\Users\\\\Owner\\\\GIT\\\\DataSci\\\\main.py'>"
      ]
     },
     "execution_count": 37,
     "metadata": {},
     "output_type": "execute_result"
    }
   ],
   "source": [
    "import imp\n",
    "imp.reload(main)"
   ]
  },
  {
   "cell_type": "code",
   "execution_count": 49,
   "metadata": {},
   "outputs": [],
   "source": [
    "from aggregate import aggregate\n",
    "from aggregate import capm_params\n",
    "from feature_handler import feature_handler\n",
    "import pandas as pd\n",
    "import numpy as np\n",
    "import main\n",
    "import random\n"
   ]
  },
  {
   "cell_type": "markdown",
   "metadata": {},
   "source": [
    "### Step 0: Notebook intialization\n",
    "seed: \n",
    ">We ran the notebook using seed = 10\n",
    "\n",
    "run_speed:\n",
    ">3 - fastest (immediate)\\\n",
    "    2 - avrage\\\n",
    "    1 - slowest"
   ]
  },
  {
   "cell_type": "code",
   "execution_count": 55,
   "metadata": {},
   "outputs": [],
   "source": [
    "#intialization value for notebook\n",
    "seed = 10\n",
    "np.random.seed(seed)\n",
    "run_speed = 3"
   ]
  },
  {
   "cell_type": "markdown",
   "metadata": {},
   "source": [
    "### Step 1: data pre-process steps and initial feature extraction\n",
    "This step include very intial data pre-processing:\n",
    "1. Drop NaNs\n",
    "2. Take care of data types\n",
    "3. Add dividend change and dividend change direction\n",
    "4. Add the abnormal return feature (which is the value we will try to predict and explain)\n"
   ]
  },
  {
   "cell_type": "code",
   "execution_count": 56,
   "metadata": {
    "scrolled": true
   },
   "outputs": [
    {
     "name": "stdout",
     "output_type": "stream",
     "text": [
      "Dropped 86 rows with NaN values\n",
      "################# Creating div_amount_num #################\n",
      "Found 77 samples were dividend_amount did not start with $ - drop\n",
      "Found 4 divdends that were eqaul to 0 - drop\n",
      ">>> Finished. Total dropped rows due to invalid dividend info: 81\n",
      "################# Creating div_direction and div_change ###\n",
      ">>> Finished\n",
      "################# Creating abnormal return related features ###\n",
      "\tfeature type = expected_t\t\t11 features\n",
      "\tfeature type = ar_t\t\t11 features\n",
      "\tfeature type = aar_t\t\t6 features\n",
      "\tfeature type = aar_t%\t\t6 features\n",
      ">>> Finished. Created 34 features\n"
     ]
    }
   ],
   "source": [
    "df = pd.read_csv(\"aggregated_data.csv\")\n",
    "\n",
    "rows_before = df.shape[0]\n",
    "df.dropna(inplace=True)\n",
    "rows_after = df.shape[0]\n",
    "print(\"Dropped {} rows with NaN values\".format(rows_before-rows_after))\n",
    "\n",
    "# dividend_amount to integer\n",
    "df = feature_handler.create_div_amount_num(df)\n",
    "df.drop(df[df[\"div_amount_num\"] == 0].index, inplace=True)\n",
    "\n",
    "# Add dividend direction and dividend change\n",
    "df = feature_handler.gen_div_direction_and_change(df)\n",
    "\n",
    "# Add abnormal return data\n",
    "df = feature_handler.create_abnormal_return(df)\n",
    "\n",
    "if run_speed <= 1: df.to_csv(\"data_with_ar.csv\", index=False)"
   ]
  },
  {
   "cell_type": "code",
   "execution_count": 59,
   "metadata": {},
   "outputs": [
    {
     "data": {
      "text/html": [
       "<div>\n",
       "<style scoped>\n",
       "    .dataframe tbody tr th:only-of-type {\n",
       "        vertical-align: middle;\n",
       "    }\n",
       "\n",
       "    .dataframe tbody tr th {\n",
       "        vertical-align: top;\n",
       "    }\n",
       "\n",
       "    .dataframe thead th {\n",
       "        text-align: right;\n",
       "    }\n",
       "</style>\n",
       "<table border=\"1\" class=\"dataframe\">\n",
       "  <thead>\n",
       "    <tr style=\"text-align: right;\">\n",
       "      <th></th>\n",
       "      <th>company_name</th>\n",
       "      <th>symbol</th>\n",
       "      <th>industry</th>\n",
       "      <th>sector</th>\n",
       "      <th>dividend_date</th>\n",
       "      <th>dividend_amount</th>\n",
       "      <th>alpha</th>\n",
       "      <th>beta</th>\n",
       "      <th>price_t-5</th>\n",
       "      <th>vol_t-5</th>\n",
       "      <th>...</th>\n",
       "      <th>aar_2</th>\n",
       "      <th>aar_3</th>\n",
       "      <th>aar_4</th>\n",
       "      <th>aar_5</th>\n",
       "      <th>aar_0%</th>\n",
       "      <th>aar_1%</th>\n",
       "      <th>aar_2%</th>\n",
       "      <th>aar_3%</th>\n",
       "      <th>aar_4%</th>\n",
       "      <th>aar_5%</th>\n",
       "    </tr>\n",
       "  </thead>\n",
       "  <tbody>\n",
       "    <tr>\n",
       "      <th>0</th>\n",
       "      <td>American Airlines Group, Inc.</td>\n",
       "      <td>AAL</td>\n",
       "      <td>Air Freight/Delivery Services</td>\n",
       "      <td>Transportation</td>\n",
       "      <td>2019-10-22</td>\n",
       "      <td>$0.10</td>\n",
       "      <td>-33.847291</td>\n",
       "      <td>0.020567</td>\n",
       "      <td>27.930000</td>\n",
       "      <td>6709600.0</td>\n",
       "      <td>...</td>\n",
       "      <td>1.724005</td>\n",
       "      <td>2.212617</td>\n",
       "      <td>2.456924</td>\n",
       "      <td>2.497174</td>\n",
       "      <td>0.017549</td>\n",
       "      <td>0.017393</td>\n",
       "      <td>0.024743</td>\n",
       "      <td>0.033998</td>\n",
       "      <td>0.039134</td>\n",
       "      <td>0.040636</td>\n",
       "    </tr>\n",
       "    <tr>\n",
       "      <th>1</th>\n",
       "      <td>American Airlines Group, Inc.</td>\n",
       "      <td>AAL</td>\n",
       "      <td>Air Freight/Delivery Services</td>\n",
       "      <td>Transportation</td>\n",
       "      <td>2019-07-24</td>\n",
       "      <td>$0.10</td>\n",
       "      <td>-29.842482</td>\n",
       "      <td>0.021049</td>\n",
       "      <td>33.080002</td>\n",
       "      <td>4249000.0</td>\n",
       "      <td>...</td>\n",
       "      <td>-1.616090</td>\n",
       "      <td>-1.858569</td>\n",
       "      <td>-1.979809</td>\n",
       "      <td>-2.131966</td>\n",
       "      <td>0.025877</td>\n",
       "      <td>-0.005287</td>\n",
       "      <td>-0.019312</td>\n",
       "      <td>-0.023825</td>\n",
       "      <td>-0.026337</td>\n",
       "      <td>-0.029026</td>\n",
       "    </tr>\n",
       "    <tr>\n",
       "      <th>2</th>\n",
       "      <td>American Airlines Group, Inc.</td>\n",
       "      <td>AAL</td>\n",
       "      <td>Air Freight/Delivery Services</td>\n",
       "      <td>Transportation</td>\n",
       "      <td>2019-04-24</td>\n",
       "      <td>$0.10</td>\n",
       "      <td>-80.607557</td>\n",
       "      <td>0.039610</td>\n",
       "      <td>33.480000</td>\n",
       "      <td>3884200.0</td>\n",
       "      <td>...</td>\n",
       "      <td>-4.369771</td>\n",
       "      <td>-4.205517</td>\n",
       "      <td>-4.123390</td>\n",
       "      <td>-3.957069</td>\n",
       "      <td>-0.038206</td>\n",
       "      <td>-0.045773</td>\n",
       "      <td>-0.049474</td>\n",
       "      <td>-0.051065</td>\n",
       "      <td>-0.051951</td>\n",
       "      <td>-0.050990</td>\n",
       "    </tr>\n",
       "  </tbody>\n",
       "</table>\n",
       "<p>3 rows × 99 columns</p>\n",
       "</div>"
      ],
      "text/plain": [
       "                    company_name symbol                       industry  \\\n",
       "0  American Airlines Group, Inc.    AAL  Air Freight/Delivery Services   \n",
       "1  American Airlines Group, Inc.    AAL  Air Freight/Delivery Services   \n",
       "2  American Airlines Group, Inc.    AAL  Air Freight/Delivery Services   \n",
       "\n",
       "           sector dividend_date dividend_amount      alpha      beta  \\\n",
       "0  Transportation    2019-10-22           $0.10 -33.847291  0.020567   \n",
       "1  Transportation    2019-07-24           $0.10 -29.842482  0.021049   \n",
       "2  Transportation    2019-04-24           $0.10 -80.607557  0.039610   \n",
       "\n",
       "   price_t-5    vol_t-5  ...     aar_2     aar_3     aar_4     aar_5  \\\n",
       "0  27.930000  6709600.0  ...  1.724005  2.212617  2.456924  2.497174   \n",
       "1  33.080002  4249000.0  ... -1.616090 -1.858569 -1.979809 -2.131966   \n",
       "2  33.480000  3884200.0  ... -4.369771 -4.205517 -4.123390 -3.957069   \n",
       "\n",
       "     aar_0%    aar_1%    aar_2%    aar_3%    aar_4%    aar_5%  \n",
       "0  0.017549  0.017393  0.024743  0.033998  0.039134  0.040636  \n",
       "1  0.025877 -0.005287 -0.019312 -0.023825 -0.026337 -0.029026  \n",
       "2 -0.038206 -0.045773 -0.049474 -0.051065 -0.051951 -0.050990  \n",
       "\n",
       "[3 rows x 99 columns]"
      ]
     },
     "metadata": {},
     "output_type": "display_data"
    }
   ],
   "source": [
    "display(df.head(3))"
   ]
  },
  {
   "cell_type": "markdown",
   "metadata": {},
   "source": [
    "### Step 2: Data insights and visualization including drop outliers"
   ]
  },
  {
   "cell_type": "code",
   "execution_count": 60,
   "metadata": {},
   "outputs": [
    {
     "name": "stdout",
     "output_type": "stream",
     "text": [
      "Data Stats:\n",
      "\t#Samples: 39746\n",
      "\t#Features: 99\n",
      "\t#Samples with NaNs: 0\n"
     ]
    }
   ],
   "source": [
    "_ = main.print_basic_stats(df)"
   ]
  },
  {
   "cell_type": "markdown",
   "metadata": {},
   "source": [
    "### Step 3: Base line model\n",
    "Now we will try to fit a linear regression model to our data, to use it as a baseline.\\\n",
    "We will consider two setups:\n",
    "1. Follow the research and look only at the samples where $div\\_change \\neq 0$, our goal it to try replicate the result found in earlier research.\n",
    "2. Use all of our sampels"
   ]
  },
  {
   "cell_type": "code",
   "execution_count": null,
   "metadata": {},
   "outputs": [],
   "source": [
    "#Regression model 1"
   ]
  },
  {
   "cell_type": "code",
   "execution_count": null,
   "metadata": {},
   "outputs": [],
   "source": [
    "#Regression model 2"
   ]
  },
  {
   "cell_type": "markdown",
   "metadata": {},
   "source": [
    "TODO: Discuss the results"
   ]
  },
  {
   "cell_type": "markdown",
   "metadata": {},
   "source": [
    "### Step 4: Analysis of error for the base line model+ conclusions (years 2008-2009)\n",
    "TODO: visualize and discuss"
   ]
  },
  {
   "cell_type": "markdown",
   "metadata": {},
   "source": [
    "### Step 5: Sensitivity analysis (size of window)"
   ]
  },
  {
   "cell_type": "markdown",
   "metadata": {},
   "source": [
    "### Step 6: Run new model (Regression) (naive + feature handler)"
   ]
  },
  {
   "cell_type": "markdown",
   "metadata": {},
   "source": [
    "### Step 7: Run different Regression models and compare"
   ]
  },
  {
   "cell_type": "markdown",
   "metadata": {},
   "source": [
    "### Step 8: Discrete Models"
   ]
  },
  {
   "cell_type": "markdown",
   "metadata": {},
   "source": [
    "### Step 9: Cross Validation, results and conclusions"
   ]
  }
 ],
 "metadata": {
  "kernelspec": {
   "display_name": "Python 3",
   "language": "python",
   "name": "python3"
  },
  "language_info": {
   "codemirror_mode": {
    "name": "ipython",
    "version": 3
   },
   "file_extension": ".py",
   "mimetype": "text/x-python",
   "name": "python",
   "nbconvert_exporter": "python",
   "pygments_lexer": "ipython3",
   "version": "3.7.5"
  }
 },
 "nbformat": 4,
 "nbformat_minor": 4
}
