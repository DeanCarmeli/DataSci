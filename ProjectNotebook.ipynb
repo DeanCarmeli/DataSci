{
 "cells": [
  {
   "cell_type": "raw",
   "metadata": {},
   "source": [
    "# Step 1: data pre-process steps and initial feature extraction\n",
    "\n",
    "# Step 2: Data insights and visualization including drop outliers\n",
    "# Basic stats, dividends per year, abnormal return hist given div direction\n",
    "\n",
    "# Step 3: Base line model\n",
    "Should we split train/test in the research linear regression? same for the regular one\n",
    "Which columns should I drop?\n",
    "\n",
    "# Step 4: Analysis of error + conclusions (years 2008-2009)\n",
    "\n",
    "# Step 5: Sensitivity analysis (size of window)\n",
    "\n",
    "# Step 6: Run new model (Regression) (naive + feature handler)\n",
    "\n",
    "# Step 7: Run different Regression models and compare\n",
    "\n",
    "# Step 8: Discrete Models\n",
    "\n",
    "# Step 9: Cross Validation, results and conclusions\n"
   ]
  },
  {
   "cell_type": "code",
   "execution_count": 115,
   "metadata": {},
   "outputs": [
    {
     "data": {
      "text/plain": [
       "<module 'run_model.regression_models' from 'C:\\\\Users\\\\Owner\\\\GIT\\\\DataSci\\\\run_model\\\\regression_models.py'>"
      ]
     },
     "execution_count": 115,
     "metadata": {},
     "output_type": "execute_result"
    }
   ],
   "source": [
    "import imp\n",
    "imp.reload(main)\n",
    "imp.reload(regression_models)"
   ]
  },
  {
   "cell_type": "code",
   "execution_count": 116,
   "metadata": {},
   "outputs": [],
   "source": [
    "from aggregate import aggregate\n",
    "from aggregate import capm_params\n",
    "from feature_handler import feature_handler\n",
    "from run_model import regression_models\n",
    "import pandas as pd\n",
    "import numpy as np\n",
    "import main\n",
    "import random\n",
    "import matplotlib.pyplot as plt\n",
    "import seaborn as sns\n",
    "import warnings\n",
    "warnings.filterwarnings('ignore')\n",
    "%matplotlib inline\n",
    "sns.set()"
   ]
  },
  {
   "cell_type": "markdown",
   "metadata": {},
   "source": [
    "# Data Science Workshop - Project notebook"
   ]
  },
  {
   "cell_type": "markdown",
   "metadata": {},
   "source": [
    "TODO: introduction"
   ]
  },
  {
   "cell_type": "markdown",
   "metadata": {},
   "source": [
    "### Step 0: Notebook intialization\n",
    "seed: \n",
    ">We ran the notebook using seed = 10\n",
    "\n",
    "run_speed:\n",
    ">3 - fastest (immediate)\\\n",
    "    2 - avrage\\\n",
    "    1 - slowest"
   ]
  },
  {
   "cell_type": "code",
   "execution_count": 117,
   "metadata": {},
   "outputs": [],
   "source": [
    "seed = 10\n",
    "random.seed(seed)\n",
    "np.random.seed(seed)\n",
    "run_speed = 3"
   ]
  },
  {
   "cell_type": "markdown",
   "metadata": {},
   "source": [
    "### Step 1: data pre-process steps and initial feature extraction\n",
    "This step include very intial data pre-processing:\n",
    "1. Drop NaNs\n",
    "2. Take care of data types\n",
    "3. Add dividend change and dividend change direction\n",
    "4. Add the abnormal return feature (which is the value we will try to predict and explain)\n"
   ]
  },
  {
   "cell_type": "code",
   "execution_count": 118,
   "metadata": {
    "scrolled": true
   },
   "outputs": [
    {
     "name": "stdout",
     "output_type": "stream",
     "text": [
      "Dropped 86 rows with NaN values\n",
      "################# Creating div_amount_num #################\n",
      "Found 77 samples were dividend_amount did not start with $ - drop\n",
      "Found 4 divdends that were eqaul to 0 - drop\n",
      ">>> Finished. Total dropped rows due to invalid dividend info: 81\n",
      "################# Creating div_direction and div_change ###\n",
      ">>> Finished\n",
      "################# Creating abnormal return related features ###\n",
      "\tfeature type = expected_t\t\t11 features\n",
      "\tfeature type = ar_t\t\t11 features\n",
      "\tfeature type = aar_t\t\t6 features\n",
      "\tfeature type = aar_t%\t\t6 features\n",
      ">>> Finished. Created 34 features\n"
     ]
    }
   ],
   "source": [
    "df = pd.read_csv(\"aggregated_data.csv\")\n",
    "\n",
    "rows_before = df.shape[0]\n",
    "df.dropna(inplace=True)\n",
    "rows_after = df.shape[0]\n",
    "print(\"Dropped {} rows with NaN values\".format(rows_before-rows_after))\n",
    "\n",
    "# dividend_amount to integer\n",
    "df = feature_handler.create_div_amount_num(df)\n",
    "df.drop(df[df[\"div_amount_num\"] == 0].index, inplace=True)\n",
    "df.drop(\"dividend_amount\", axis = 1, inplace = True)\n",
    "\n",
    "# Add dividend direction and dividend change\n",
    "df = feature_handler.gen_div_direction_and_change(df)\n",
    "\n",
    "# Add abnormal return data\n",
    "df = feature_handler.create_abnormal_return(df)\n",
    "df.reset_index(inplace = True, drop = True)\n",
    "if run_speed <= 1: df.to_csv(\"data_with_ar.csv\", index=False)"
   ]
  },
  {
   "cell_type": "code",
   "execution_count": 119,
   "metadata": {},
   "outputs": [
    {
     "data": {
      "text/html": [
       "<div>\n",
       "<style scoped>\n",
       "    .dataframe tbody tr th:only-of-type {\n",
       "        vertical-align: middle;\n",
       "    }\n",
       "\n",
       "    .dataframe tbody tr th {\n",
       "        vertical-align: top;\n",
       "    }\n",
       "\n",
       "    .dataframe thead th {\n",
       "        text-align: right;\n",
       "    }\n",
       "</style>\n",
       "<table border=\"1\" class=\"dataframe\">\n",
       "  <thead>\n",
       "    <tr style=\"text-align: right;\">\n",
       "      <th></th>\n",
       "      <th>company_name</th>\n",
       "      <th>symbol</th>\n",
       "      <th>industry</th>\n",
       "      <th>sector</th>\n",
       "      <th>dividend_date</th>\n",
       "      <th>alpha</th>\n",
       "      <th>beta</th>\n",
       "      <th>price_t-5</th>\n",
       "      <th>vol_t-5</th>\n",
       "      <th>sp_price_t-5</th>\n",
       "      <th>...</th>\n",
       "      <th>aar_2</th>\n",
       "      <th>aar_3</th>\n",
       "      <th>aar_4</th>\n",
       "      <th>aar_5</th>\n",
       "      <th>aar_0%</th>\n",
       "      <th>aar_1%</th>\n",
       "      <th>aar_2%</th>\n",
       "      <th>aar_3%</th>\n",
       "      <th>aar_4%</th>\n",
       "      <th>aar_5%</th>\n",
       "    </tr>\n",
       "  </thead>\n",
       "  <tbody>\n",
       "    <tr>\n",
       "      <th>0</th>\n",
       "      <td>American Airlines Group, Inc.</td>\n",
       "      <td>AAL</td>\n",
       "      <td>Air Freight/Delivery Services</td>\n",
       "      <td>Transportation</td>\n",
       "      <td>2019-10-22</td>\n",
       "      <td>-33.847291</td>\n",
       "      <td>0.020567</td>\n",
       "      <td>27.930000</td>\n",
       "      <td>6709600.0</td>\n",
       "      <td>2997.949951</td>\n",
       "      <td>...</td>\n",
       "      <td>1.724005</td>\n",
       "      <td>2.212617</td>\n",
       "      <td>2.456924</td>\n",
       "      <td>2.497174</td>\n",
       "      <td>0.017549</td>\n",
       "      <td>0.017393</td>\n",
       "      <td>0.024743</td>\n",
       "      <td>0.033998</td>\n",
       "      <td>0.039134</td>\n",
       "      <td>0.040636</td>\n",
       "    </tr>\n",
       "    <tr>\n",
       "      <th>1</th>\n",
       "      <td>American Airlines Group, Inc.</td>\n",
       "      <td>AAL</td>\n",
       "      <td>Air Freight/Delivery Services</td>\n",
       "      <td>Transportation</td>\n",
       "      <td>2019-07-24</td>\n",
       "      <td>-29.842482</td>\n",
       "      <td>0.021049</td>\n",
       "      <td>33.080002</td>\n",
       "      <td>4249000.0</td>\n",
       "      <td>2976.610107</td>\n",
       "      <td>...</td>\n",
       "      <td>-1.616090</td>\n",
       "      <td>-1.858569</td>\n",
       "      <td>-1.979809</td>\n",
       "      <td>-2.131966</td>\n",
       "      <td>0.025877</td>\n",
       "      <td>-0.005287</td>\n",
       "      <td>-0.019312</td>\n",
       "      <td>-0.023825</td>\n",
       "      <td>-0.026337</td>\n",
       "      <td>-0.029026</td>\n",
       "    </tr>\n",
       "    <tr>\n",
       "      <th>2</th>\n",
       "      <td>American Airlines Group, Inc.</td>\n",
       "      <td>AAL</td>\n",
       "      <td>Air Freight/Delivery Services</td>\n",
       "      <td>Transportation</td>\n",
       "      <td>2019-04-24</td>\n",
       "      <td>-80.607557</td>\n",
       "      <td>0.039610</td>\n",
       "      <td>33.480000</td>\n",
       "      <td>3884200.0</td>\n",
       "      <td>2907.969971</td>\n",
       "      <td>...</td>\n",
       "      <td>-4.369771</td>\n",
       "      <td>-4.205517</td>\n",
       "      <td>-4.123390</td>\n",
       "      <td>-3.957069</td>\n",
       "      <td>-0.038206</td>\n",
       "      <td>-0.045773</td>\n",
       "      <td>-0.049474</td>\n",
       "      <td>-0.051065</td>\n",
       "      <td>-0.051951</td>\n",
       "      <td>-0.050990</td>\n",
       "    </tr>\n",
       "  </tbody>\n",
       "</table>\n",
       "<p>3 rows × 98 columns</p>\n",
       "</div>"
      ],
      "text/plain": [
       "                    company_name symbol                       industry  \\\n",
       "0  American Airlines Group, Inc.    AAL  Air Freight/Delivery Services   \n",
       "1  American Airlines Group, Inc.    AAL  Air Freight/Delivery Services   \n",
       "2  American Airlines Group, Inc.    AAL  Air Freight/Delivery Services   \n",
       "\n",
       "           sector dividend_date      alpha      beta  price_t-5    vol_t-5  \\\n",
       "0  Transportation    2019-10-22 -33.847291  0.020567  27.930000  6709600.0   \n",
       "1  Transportation    2019-07-24 -29.842482  0.021049  33.080002  4249000.0   \n",
       "2  Transportation    2019-04-24 -80.607557  0.039610  33.480000  3884200.0   \n",
       "\n",
       "   sp_price_t-5  ...     aar_2     aar_3     aar_4     aar_5    aar_0%  \\\n",
       "0   2997.949951  ...  1.724005  2.212617  2.456924  2.497174  0.017549   \n",
       "1   2976.610107  ... -1.616090 -1.858569 -1.979809 -2.131966  0.025877   \n",
       "2   2907.969971  ... -4.369771 -4.205517 -4.123390 -3.957069 -0.038206   \n",
       "\n",
       "     aar_1%    aar_2%    aar_3%    aar_4%    aar_5%  \n",
       "0  0.017393  0.024743  0.033998  0.039134  0.040636  \n",
       "1 -0.005287 -0.019312 -0.023825 -0.026337 -0.029026  \n",
       "2 -0.045773 -0.049474 -0.051065 -0.051951 -0.050990  \n",
       "\n",
       "[3 rows x 98 columns]"
      ]
     },
     "metadata": {},
     "output_type": "display_data"
    }
   ],
   "source": [
    "display(df.head(3))"
   ]
  },
  {
   "cell_type": "markdown",
   "metadata": {},
   "source": [
    "### Step 2: Data insights and visualization including drop outliers"
   ]
  },
  {
   "cell_type": "code",
   "execution_count": 120,
   "metadata": {},
   "outputs": [
    {
     "name": "stdout",
     "output_type": "stream",
     "text": [
      "Data Stats:\n",
      "\t#Samples: 39746\n",
      "\t#Features: 98\n",
      "\t#Samples with NaNs: 0\n"
     ]
    }
   ],
   "source": [
    "_ = main.print_basic_stats(df)"
   ]
  },
  {
   "cell_type": "code",
   "execution_count": 122,
   "metadata": {},
   "outputs": [
    {
     "name": "stdout",
     "output_type": "stream",
     "text": [
      "Removed 36 outliers\n"
     ]
    }
   ],
   "source": [
    "df = main.remove_outliers(df, range_min = -2 , range_max = 2)"
   ]
  },
  {
   "cell_type": "markdown",
   "metadata": {},
   "source": [
    "### Step 3: Base line model\n",
    "Now we will try to fit a linear regression model to our data, to use it as a baseline.\\\n",
    "We will consider two setups:\n",
    "1. Follow the research and look only at the samples where $div\\_change \\neq 0$, our goal is to try replicate the result found in earlier research\n",
    "2. Use all of our sampels\n",
    "\n",
    "Remeber we are trying to predict \"aar5\", hence we will not use any related features.\n",
    "In addition we still have some categorical features, we will use dummies on the \"sector\" feature and drop the rest. This leaves us with:"
   ]
  },
  {
   "cell_type": "code",
   "execution_count": 129,
   "metadata": {},
   "outputs": [
    {
     "name": "stdout",
     "output_type": "stream",
     "text": [
      "Baseline model features: ['alpha', 'beta', 'year', 'month', 'quarter', 'MV Debt Ratio', 'BV Debt Ratio', 'Effective Tax Rate', 'Std Deviation In Prices', 'EBITDA/Value', 'Fixed Assets/BV of Capital', 'Capital Spending/BV of Capital', 'div_amount_num', 'div_direction', 'div_change', 'aar_5', 'sector_Capital Goods', 'sector_Consumer Durables', 'sector_Consumer Non-Durables', 'sector_Consumer Services', 'sector_Energy', 'sector_Finance', 'sector_Health Care', 'sector_Miscellaneous', 'sector_Public Utilities', 'sector_Technology', 'sector_Transportation']\n"
     ]
    }
   ],
   "source": [
    "baseline_models_data = regression_models.generate_bl_model_data(df, print_ = True)"
   ]
  },
  {
   "cell_type": "code",
   "execution_count": 130,
   "metadata": {
    "scrolled": true
   },
   "outputs": [
    {
     "name": "stdout",
     "output_type": "stream",
     "text": [
      "                            OLS Regression Results                            \n",
      "==============================================================================\n",
      "Dep. Variable:                  aar_5   R-squared:                       0.020\n",
      "Model:                            OLS   Adj. R-squared:                  0.018\n",
      "Method:                 Least Squares   F-statistic:                     9.897\n",
      "Date:                Mon, 24 Feb 2020   Prob (F-statistic):           1.81e-39\n",
      "Time:                        16:21:39   Log-Likelihood:                -35784.\n",
      "No. Observations:               12784   AIC:                         7.162e+04\n",
      "Df Residuals:                   12757   BIC:                         7.182e+04\n",
      "Df Model:                          26                                         \n",
      "Covariance Type:            nonrobust                                         \n",
      "==================================================================================================\n",
      "                                     coef    std err          t      P>|t|      [0.025      0.975]\n",
      "--------------------------------------------------------------------------------------------------\n",
      "alpha                             -0.0111      0.001    -11.415      0.000      -0.013      -0.009\n",
      "beta                              -9.5364      1.581     -6.032      0.000     -12.635      -6.437\n",
      "year                              -0.0064      0.013     -0.511      0.609      -0.031       0.018\n",
      "month                             -0.1009      0.044     -2.313      0.021      -0.186      -0.015\n",
      "quarter                            0.3313      0.136      2.434      0.015       0.064       0.598\n",
      "MV Debt Ratio                      0.2778      0.764      0.364      0.716      -1.219       1.775\n",
      "BV Debt Ratio                      2.5281      1.080      2.341      0.019       0.411       4.645\n",
      "Effective Tax Rate                -0.9911      0.572     -1.732      0.083      -2.113       0.131\n",
      "Std Deviation In Prices           -0.3659      0.295     -1.242      0.214      -0.943       0.212\n",
      "EBITDA/Value                       1.0770      1.014      1.062      0.288      -0.910       3.064\n",
      "Fixed Assets/BV of Capital         1.0869      0.745      1.459      0.145      -0.374       2.548\n",
      "Capital Spending/BV of Capital    -5.8585      3.285     -1.783      0.075     -12.298       0.581\n",
      "div_amount_num                     0.2195      0.044      4.955      0.000       0.133       0.306\n",
      "div_direction                      0.1268      0.040      3.148      0.002       0.048       0.206\n",
      "div_change                      -3.85e-05      0.000     -0.354      0.723      -0.000       0.000\n",
      "sector_Capital Goods              -0.3264      0.395     -0.827      0.408      -1.100       0.447\n",
      "sector_Consumer Durables           0.0428      0.424      0.101      0.920      -0.788       0.873\n",
      "sector_Consumer Non-Durables       0.4378      0.389      1.126      0.260      -0.324       1.200\n",
      "sector_Consumer Services          -0.1893      0.360     -0.526      0.599      -0.895       0.516\n",
      "sector_Energy                     -0.0905      0.442     -0.205      0.838      -0.956       0.775\n",
      "sector_Finance                    -0.3584      0.466     -0.768      0.442      -1.273       0.556\n",
      "sector_Health Care                 0.7075      0.441      1.604      0.109      -0.157       1.572\n",
      "sector_Miscellaneous               0.2404      0.526      0.457      0.647      -0.790       1.271\n",
      "sector_Public Utilities           -0.5704      0.454     -1.256      0.209      -1.461       0.320\n",
      "sector_Technology                  0.7782      0.415      1.875      0.061      -0.036       1.592\n",
      "sector_Transportation             -0.8335      0.437     -1.906      0.057      -1.691       0.024\n",
      "const                             11.9211     25.348      0.470      0.638     -37.765      61.608\n",
      "==============================================================================\n",
      "Omnibus:                     4856.626   Durbin-Watson:                   1.968\n",
      "Prob(Omnibus):                  0.000   Jarque-Bera (JB):          3535465.363\n",
      "Skew:                          -0.177   Prob(JB):                         0.00\n",
      "Kurtosis:                      84.469   Cond. No.                     1.45e+06\n",
      "==============================================================================\n",
      "\n",
      "Warnings:\n",
      "[1] Standard Errors assume that the covariance matrix of the errors is correctly specified.\n",
      "[2] The condition number is large, 1.45e+06. This might indicate that there are\n",
      "strong multicollinearity or other numerical problems.\n"
     ]
    }
   ],
   "source": [
    "#Regression model 1\n",
    "_ = regression_models.run_linear_reg_research(baseline_models_data)"
   ]
  },
  {
   "cell_type": "code",
   "execution_count": 131,
   "metadata": {
    "scrolled": true
   },
   "outputs": [
    {
     "name": "stdout",
     "output_type": "stream",
     "text": [
      "                            OLS Regression Results                            \n",
      "==============================================================================\n",
      "Dep. Variable:                  aar_5   R-squared:                       0.006\n",
      "Model:                            OLS   Adj. R-squared:                  0.005\n",
      "Method:                 Least Squares   F-statistic:                     8.634\n",
      "Date:                Mon, 24 Feb 2020   Prob (F-statistic):           2.16e-33\n",
      "Time:                        16:21:42   Log-Likelihood:            -1.1090e+05\n",
      "No. Observations:               39710   AIC:                         2.219e+05\n",
      "Df Residuals:                   39683   BIC:                         2.221e+05\n",
      "Df Model:                          26                                         \n",
      "Covariance Type:            nonrobust                                         \n",
      "==================================================================================================\n",
      "                                     coef    std err          t      P>|t|      [0.025      0.975]\n",
      "--------------------------------------------------------------------------------------------------\n",
      "alpha                             -0.0013      0.001     -2.605      0.009      -0.002      -0.000\n",
      "beta                               2.7320      0.834      3.276      0.001       1.098       4.367\n",
      "year                              -0.0155      0.007     -2.220      0.026      -0.029      -0.002\n",
      "month                             -0.0442      0.025     -1.780      0.075      -0.093       0.004\n",
      "quarter                            0.1321      0.076      1.732      0.083      -0.017       0.282\n",
      "MV Debt Ratio                      0.5323      0.418      1.274      0.203      -0.287       1.351\n",
      "BV Debt Ratio                      2.0107      0.573      3.511      0.000       0.888       3.133\n",
      "Effective Tax Rate                -0.4323      0.312     -1.385      0.166      -1.044       0.179\n",
      "Std Deviation In Prices           -0.2637      0.165     -1.597      0.110      -0.587       0.060\n",
      "EBITDA/Value                      -0.0375      0.570     -0.066      0.948      -1.155       1.080\n",
      "Fixed Assets/BV of Capital         0.7156      0.404      1.770      0.077      -0.077       1.508\n",
      "Capital Spending/BV of Capital    -4.9879      1.852     -2.693      0.007      -8.618      -1.358\n",
      "div_amount_num                     0.2225      0.041      5.370      0.000       0.141       0.304\n",
      "div_direction                      0.1377      0.036      3.778      0.000       0.066       0.209\n",
      "div_change                     -4.118e-05      0.000     -0.381      0.703      -0.000       0.000\n",
      "sector_Capital Goods              -0.2409      0.186     -1.295      0.195      -0.605       0.124\n",
      "sector_Consumer Durables          -0.1936      0.200     -0.969      0.333      -0.585       0.198\n",
      "sector_Consumer Non-Durables       0.1670      0.189      0.885      0.376      -0.203       0.537\n",
      "sector_Consumer Services          -0.2816      0.171     -1.643      0.100      -0.617       0.054\n",
      "sector_Energy                      0.0534      0.240      0.222      0.824      -0.418       0.525\n",
      "sector_Finance                    -0.5168      0.241     -2.148      0.032      -0.988      -0.045\n",
      "sector_Health Care                 0.4810      0.224      2.143      0.032       0.041       0.921\n",
      "sector_Miscellaneous               0.5786      0.266      2.178      0.029       0.058       1.099\n",
      "sector_Public Utilities           -0.5954      0.219     -2.714      0.007      -1.025      -0.165\n",
      "sector_Technology                  0.4727      0.203      2.334      0.020       0.076       0.870\n",
      "sector_Transportation             -0.3098      0.216     -1.434      0.151      -0.733       0.113\n",
      "const                             30.2595     14.093      2.147      0.032       2.637      57.882\n",
      "==============================================================================\n",
      "Omnibus:                    17494.839   Durbin-Watson:                   1.972\n",
      "Prob(Omnibus):                  0.000   Jarque-Bera (JB):          9980868.991\n",
      "Skew:                           0.726   Prob(JB):                         0.00\n",
      "Kurtosis:                      80.654   Cond. No.                     1.43e+06\n",
      "==============================================================================\n",
      "\n",
      "Warnings:\n",
      "[1] Standard Errors assume that the covariance matrix of the errors is correctly specified.\n",
      "[2] The condition number is large, 1.43e+06. This might indicate that there are\n",
      "strong multicollinearity or other numerical problems.\n"
     ]
    }
   ],
   "source": [
    "#Regression model 2\n",
    "_ = regression_models.run_linear_reg_baseline(baseline_models_data)"
   ]
  },
  {
   "cell_type": "markdown",
   "metadata": {},
   "source": [
    "TODO: Discuss the results"
   ]
  },
  {
   "cell_type": "markdown",
   "metadata": {},
   "source": [
    "### Step 4: Analysis of error for the base line model+ conclusions (years 2008-2009)\n",
    "TODO: visualize and discuss"
   ]
  },
  {
   "cell_type": "code",
   "execution_count": 133,
   "metadata": {},
   "outputs": [
    {
     "name": "stdout",
     "output_type": "stream",
     "text": [
      "Removed 3215 samples from years 2008 - 2009\n"
     ]
    }
   ],
   "source": [
    "df = main.remove_2008_2009(df)"
   ]
  },
  {
   "cell_type": "markdown",
   "metadata": {},
   "source": [
    "### Step 5: Sensitivity analysis (size of window)"
   ]
  },
  {
   "cell_type": "markdown",
   "metadata": {},
   "source": [
    "### Step 6: Run new model (Regression) (naive + feature handler)"
   ]
  },
  {
   "cell_type": "markdown",
   "metadata": {},
   "source": [
    "### Step 7: Run different Regression models and compare"
   ]
  },
  {
   "cell_type": "markdown",
   "metadata": {},
   "source": [
    "### Step 8: Discrete Models"
   ]
  },
  {
   "cell_type": "markdown",
   "metadata": {},
   "source": [
    "### Step 9: Cross Validation, results and conclusions"
   ]
  }
 ],
 "metadata": {
  "kernelspec": {
   "display_name": "Python 3",
   "language": "python",
   "name": "python3"
  },
  "language_info": {
   "codemirror_mode": {
    "name": "ipython",
    "version": 3
   },
   "file_extension": ".py",
   "mimetype": "text/x-python",
   "name": "python",
   "nbconvert_exporter": "python",
   "pygments_lexer": "ipython3",
   "version": "3.7.5"
  }
 },
 "nbformat": 4,
 "nbformat_minor": 4
}
