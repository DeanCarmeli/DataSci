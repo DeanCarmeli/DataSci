{
 "cells": [
  {
   "cell_type": "markdown",
   "metadata": {},
   "source": [
    "**Step 1: data pre-process steps and initial feature extraction**<br/>\n",
    "* add aggregate- copy do_aggregate_steps from main\n",
    "\n",
    "**Step 2: Data insights and visualization including drop outliers**<br/>\n",
    "* Basic stats, dividends per year, abnormal return hist given div direction<br/>\n",
    "* outliers range?\n",
    "\n",
    "\n",
    "**Step 3: Base line model**<br/>\n",
    "* Should we split train/test in the research linear regression? same for the regular one\n",
    "* Which columns should I drop?\n",
    "* Do year, month, quarter dummies\n",
    "\n",
    "\n",
    "**Step 4: Analysis of error + conclusions (years 2008-2009)**\n",
    "\n",
    "\n",
    "**Step 5: Sensitivity analysis (size of window)**\n",
    "\n",
    "\n",
    "**Step 6: Run new model (Regression) (naive + feature handler)**\n",
    "\n",
    "\n",
    "**Step 7: Run different Regression models and compare**\n",
    "\n",
    "\n",
    "**Step 8: Discrete Models**\n",
    "\n",
    "\n",
    "**Step 9: Cross Validation, results and conclusions**\n"
   ]
  },
  {
   "cell_type": "code",
   "execution_count": 98,
   "metadata": {},
   "outputs": [
    {
     "data": {
      "text/plain": [
       "<module 'feature_handler.feature_handler' from 'C:\\\\Users\\\\Owner\\\\GIT\\\\DS2\\\\DataSci\\\\feature_handler\\\\feature_handler.py'>"
      ]
     },
     "execution_count": 98,
     "metadata": {},
     "output_type": "execute_result"
    }
   ],
   "source": [
    "import imp\n",
    "imp.reload(main)\n",
    "imp.reload(regression_models)\n",
    "imp.reload(feature_handler)"
   ]
  },
  {
   "cell_type": "code",
   "execution_count": 99,
   "metadata": {},
   "outputs": [],
   "source": [
    "from aggregate import aggregate\n",
    "from aggregate import capm_params\n",
    "from feature_handler import feature_handler\n",
    "from run_model import regression_models\n",
    "from visualize import visualize\n",
    "import pandas as pd\n",
    "import numpy as np\n",
    "import main\n",
    "import random\n",
    "import matplotlib.pyplot as plt\n",
    "import seaborn as sns\n",
    "import warnings\n",
    "warnings.filterwarnings('ignore')\n",
    "%matplotlib inline\n",
    "sns.set()"
   ]
  },
  {
   "cell_type": "markdown",
   "metadata": {},
   "source": [
    "# Data Science Workshop - Project notebook"
   ]
  },
  {
   "cell_type": "markdown",
   "metadata": {},
   "source": [
    "**TODO: introduction**"
   ]
  },
  {
   "cell_type": "markdown",
   "metadata": {},
   "source": [
    "### Step 0: Notebook Intialization\n",
    "seed: \n",
    ">We ran the notebook using seed = 10\n",
    "\n",
    "run_speed:\n",
    ">3 - fastest (immediate)<br/>\n",
    "    2 - avrage<br/>\n",
    "    1 - slowest"
   ]
  },
  {
   "cell_type": "code",
   "execution_count": 100,
   "metadata": {},
   "outputs": [],
   "source": [
    "seed = 10\n",
    "random.seed(seed)\n",
    "np.random.seed(seed)\n",
    "run_speed = 3"
   ]
  },
  {
   "cell_type": "markdown",
   "metadata": {},
   "source": [
    "### Step 1: data pre-process steps and initial feature extraction"
   ]
  },
  {
   "cell_type": "code",
   "execution_count": 101,
   "metadata": {
    "scrolled": true
   },
   "outputs": [
    {
     "data": {
      "text/html": [
       "<div>\n",
       "<style scoped>\n",
       "    .dataframe tbody tr th:only-of-type {\n",
       "        vertical-align: middle;\n",
       "    }\n",
       "\n",
       "    .dataframe tbody tr th {\n",
       "        vertical-align: top;\n",
       "    }\n",
       "\n",
       "    .dataframe thead th {\n",
       "        text-align: right;\n",
       "    }\n",
       "</style>\n",
       "<table border=\"1\" class=\"dataframe\">\n",
       "  <thead>\n",
       "    <tr style=\"text-align: right;\">\n",
       "      <th></th>\n",
       "      <th>company_name</th>\n",
       "      <th>symbol</th>\n",
       "      <th>industry</th>\n",
       "      <th>sector</th>\n",
       "      <th>dividend_date</th>\n",
       "      <th>dividend_amount</th>\n",
       "      <th>alpha</th>\n",
       "      <th>beta</th>\n",
       "      <th>price_t-5</th>\n",
       "      <th>vol_t-5</th>\n",
       "      <th>...</th>\n",
       "      <th>year</th>\n",
       "      <th>month</th>\n",
       "      <th>quarter</th>\n",
       "      <th>MV Debt Ratio</th>\n",
       "      <th>BV Debt Ratio</th>\n",
       "      <th>Effective Tax Rate</th>\n",
       "      <th>Std Deviation In Prices</th>\n",
       "      <th>EBITDA/Value</th>\n",
       "      <th>Fixed Assets/BV of Capital</th>\n",
       "      <th>Capital Spending/BV of Capital</th>\n",
       "    </tr>\n",
       "  </thead>\n",
       "  <tbody>\n",
       "    <tr>\n",
       "      <th>0</th>\n",
       "      <td>American Airlines Group, Inc.</td>\n",
       "      <td>AAL</td>\n",
       "      <td>Air Freight/Delivery Services</td>\n",
       "      <td>Transportation</td>\n",
       "      <td>2019-10-22</td>\n",
       "      <td>$0.10</td>\n",
       "      <td>-33.847291</td>\n",
       "      <td>0.020567</td>\n",
       "      <td>27.93</td>\n",
       "      <td>6709600.0</td>\n",
       "      <td>...</td>\n",
       "      <td>2019</td>\n",
       "      <td>10</td>\n",
       "      <td>4</td>\n",
       "      <td>0.229</td>\n",
       "      <td>0.558</td>\n",
       "      <td>0.084</td>\n",
       "      <td>0.385</td>\n",
       "      <td>0.1</td>\n",
       "      <td>0.319</td>\n",
       "      <td>0.047</td>\n",
       "    </tr>\n",
       "  </tbody>\n",
       "</table>\n",
       "<p>1 rows × 62 columns</p>\n",
       "</div>"
      ],
      "text/plain": [
       "                    company_name symbol                       industry  \\\n",
       "0  American Airlines Group, Inc.    AAL  Air Freight/Delivery Services   \n",
       "\n",
       "           sector dividend_date dividend_amount      alpha      beta  \\\n",
       "0  Transportation    2019-10-22           $0.10 -33.847291  0.020567   \n",
       "\n",
       "   price_t-5    vol_t-5  ...  year  month  quarter  MV Debt Ratio  \\\n",
       "0      27.93  6709600.0  ...  2019     10        4          0.229   \n",
       "\n",
       "   BV Debt Ratio  Effective Tax Rate  Std Deviation In Prices  EBITDA/Value  \\\n",
       "0          0.558               0.084                    0.385           0.1   \n",
       "\n",
       "   Fixed Assets/BV of Capital  Capital Spending/BV of Capital  \n",
       "0                       0.319                           0.047  \n",
       "\n",
       "[1 rows x 62 columns]"
      ]
     },
     "metadata": {},
     "output_type": "display_data"
    }
   ],
   "source": [
    "df = pd.read_csv(\"aggregated_data.csv\")\n",
    "display(df.head(1))"
   ]
  },
  {
   "cell_type": "markdown",
   "metadata": {},
   "source": [
    "In the data each sample is a specific dividend announcment of some company.\n",
    "For each sample we have:\n",
    "* **company_name , symbol**\n",
    "* **sector , industry** - sector is more general, while industry is more specific\n",
    "* **dividend_date** - the declaration date of the dividend.\n",
    "* **dividend_amount** - the amount (in USD) of the dividend per share.\n",
    "* **alpha, beta** - the coefficients of the CAPM (as calculated above) model (more on that in the PDF documentation)<br/>\n",
    "\n",
    "\n",
    "* **price_t-i ,price_t+i** - the actual stock price i days before/after the declaration (for $i\\in\\{0,...,5\\}$)\n",
    "* **expected_t-i ,expected_t+i** - the expected stock price (using CAPM model) i days before/after the declaration: $expected\\_i = \\alpha + \\beta*sp\\_i$ (for $i\\in\\{0,...,5\\}$)\n",
    "* **vol_t-i ,vol_t+i** - the trade volume of the stock, i days before/after the declaration (for $i\\in\\{0,...,5\\}$)\n",
    "* **sp_price_t-i ,sp_price_t+i** - the S&P500 price i days before/after the declaration (for $i\\in\\{0,...,5\\}$)\n",
    "* **sp_vol_t-i ,sp_vol_t+i** - the trade volume of S&P500, i days before/after the declaration (for $i\\in\\{0,...,5\\}$)\n",
    "\n",
    "\n",
    "* **MV Debt Ratio,BV Debt Ratio, Effective Tax Rate, Std Deviation In Prices, EBITDA/Value, Fixed Assets/BV of Capital, Capital Spending/BV of Capital** - all those are financial ratios, more on that on the PDF documentation.<br/>\n",
    "\n"
   ]
  },
  {
   "cell_type": "code",
   "execution_count": 102,
   "metadata": {},
   "outputs": [
    {
     "name": "stdout",
     "output_type": "stream",
     "text": [
      "Data Stats:\n",
      "\t#Samples: 39913\n",
      "\t#Features: 62\n",
      "\t#Samples with NaNs: 86\n"
     ]
    }
   ],
   "source": [
    "_ = main.print_basic_stats(df)"
   ]
  },
  {
   "cell_type": "markdown",
   "metadata": {},
   "source": [
    "Next - intial data pre-processing:\n",
    "1. Drop NaNs - We don't have alot of samples with NaNs, hence droping them seems like the right way to handle them.\n",
    "2. Handle data types - basic conversion from string to float.\n",
    "3. Add additional features (on top of what was previously added by the aggregate procedure function):\n",
    ">**dividend change** - $\\frac{current\\_dividend\\_amount-previous\\_dividend\\_amount}{previous\\_dividend\\_amount}$ -  In case no previous dividend exists - set as 1.<br/> **dividend change direction** - the direction of the change vs. previous announcment (1: increase, -1: decrease, 0: unchanged),  In case no previous dividend exists - set as 1 (increase).<br/>\n",
    "4. Calculate abnormal return related features:\n",
    ">**abnormal return**: $ar\\_ti = expected\\_i - price\\_i$ for $i\\in\\{-5,...,5\\}$<br/> **average abnormal return**: $aar\\_i = \\frac{\\sum_{k=-i}^i{ar_k}}{2i+1}$ for $i\\in\\{0,...,5\\}$<br/>\n",
    "\n",
    "In order to be aligned with previous empirical financial studies, we intially fix our response as \"aar_5\".<br/>\n",
    "(\"aar_i%\" will be discussed later)"
   ]
  },
  {
   "cell_type": "code",
   "execution_count": 103,
   "metadata": {},
   "outputs": [
    {
     "name": "stdout",
     "output_type": "stream",
     "text": [
      "Dropped 86 rows with NaN values\n",
      "Created: div_direction, div_change\n",
      "Created: expected_t, ar_t, aar_t, aar_t%\n",
      "\n",
      "Data Stats:\n",
      "\t#Samples: 39746\n",
      "\t#Features: 98\n",
      "\t#Samples with NaNs: 0\n"
     ]
    }
   ],
   "source": [
    "main.step1_wrapper(df, run_speed = run_speed)\n",
    "_ = main.print_basic_stats(df)"
   ]
  },
  {
   "cell_type": "markdown",
   "metadata": {},
   "source": [
    "We have ~40K samples, 98 featuers, and non missing values.<br/>\n",
    "At this point we want to point out that not all the features are valid for use in prediction of \"aar_5\", some of them already contains information about it - for example \"aar_4\". We will get back to this point later."
   ]
  },
  {
   "cell_type": "markdown",
   "metadata": {},
   "source": [
    "### Step 2: Data insights and visualization including drop outliers"
   ]
  },
  {
   "cell_type": "code",
   "execution_count": 104,
   "metadata": {},
   "outputs": [
    {
     "data": {
      "image/png": "[encoded data removed]",
      "text/plain": [
       "<Figure size 432x288 with 1 Axes>"
      ]
     },
     "metadata": {},
     "output_type": "display_data"
    }
   ],
   "source": [
    "#show dist of aar_5\n",
    "_ = sns.distplot(df['aar_5'], rug = True)"
   ]
  },
  {
   "cell_type": "code",
   "execution_count": 105,
   "metadata": {},
   "outputs": [
    {
     "name": "stdout",
     "output_type": "stream",
     "text": [
      "Removed 515 outliers\n"
     ]
    }
   ],
   "source": [
    "df_aar_5_no_outliers = main.remove_outliers(df, range_min = -50 , range_max = 10)"
   ]
  },
  {
   "cell_type": "markdown",
   "metadata": {},
   "source": [
    "We can think of aar_5 as how well the stock did on average in a day during the time-window.<br/>\n",
    "While it make sense that a stock would drop rapidly, it's unlikely for the opposite to occur, therefore we believe that an assymetrical drop around 0 would make the most sense."
   ]
  },
  {
   "cell_type": "markdown",
   "metadata": {},
   "source": [
    "**Normalizing the abnormal return**"
   ]
  },
  {
   "cell_type": "markdown",
   "metadata": {},
   "source": [
    "One more thing we had in mind is to normalize the abnormal return, that's why we created \"aar_i%\",<br/>\n",
    "which is the same as \"aar_i\" but divided by the mean of the expected values:<br/>\n",
    "$aar\\_i\\% = \\frac{aar\\_i}{(\\sum_{k=-i}^{i}{expected_k})/(2i+1)}$<br/>\n",
    "The logic behind this is that we want to 'scale' the mistake - it makes more sense to look at the abnormal return as a fraction of the expected price rather than as an absolute value.<br/>\n",
    "We will predict arr_5% instead of aar_5."
   ]
  },
  {
   "cell_type": "code",
   "execution_count": 106,
   "metadata": {},
   "outputs": [
    {
     "data": {
      "image/png": "[encoded data removed]",
      "text/plain": [
       "<Figure size 432x288 with 1 Axes>"
      ]
     },
     "metadata": {},
     "output_type": "display_data"
    }
   ],
   "source": [
    "#show dist of aar_5%\n",
    "_ = sns.distplot(df['aar_5%'], hist = False, rug = True)"
   ]
  },
  {
   "cell_type": "code",
   "execution_count": 107,
   "metadata": {},
   "outputs": [
    {
     "name": "stdout",
     "output_type": "stream",
     "text": [
      "Removed 1 outliers\n"
     ]
    }
   ],
   "source": [
    "df_aar_5_precent_no_outliers = main.remove_outliers(df, range_min = -1, range_max = 1, y_col = 'aar_5%')\n"
   ]
  },
  {
   "cell_type": "markdown",
   "metadata": {},
   "source": [
    "**Train/Test Split**<br/>\n",
    "Before we proceed we will split our data into train and test sets."
   ]
  },
  {
   "cell_type": "code",
   "execution_count": 108,
   "metadata": {},
   "outputs": [],
   "source": [
    "df_aar_5_precent_train, df_aar_5_precent_test = main.train_test_split(df_aar_5_precent_no_outliers)"
   ]
  },
  {
   "cell_type": "markdown",
   "metadata": {},
   "source": [
    "### Step 3: Base line model\n",
    "This step include two parts:\n",
    "1. Research replication\n",
    "2. Run simple linear regression to use as a baseline\n",
    "\n",
    "Recall we are trying to predict \"arr_5\", hence we will not use any related features.<br/>\n",
    "###While we are using linear regression we won't split the data into train and test, the reason we can justify it is that linear regression is relatively low-variance model, so the chance to overfit is very small.###<br/>\n",
    "The way the financial ratios were added to the model was based on the 'sector' feature. Therefore is a linear dependency between the 'sector' and 'industry' features to the rest of the financial ratios. In order to avoid avoid instabillity of the model we drop 'sector' and 'industry' features."
   ]
  },
  {
   "cell_type": "code",
   "execution_count": 109,
   "metadata": {},
   "outputs": [
    {
     "name": "stdout",
     "output_type": "stream",
     "text": [
      "Baseline model features: {'year_2006', 'month_11', 'div_amount_num', 'month_7', 'Fixed Assets/BV of Capital', 'year_2002', 'year_2004', 'beta', 'month_3', 'month_5', 'Effective Tax Rate', 'year_2007', 'year_2005', 'year_2019', 'year_2012', 'year_2010', 'month_9', 'year_2015', 'quarter', 'MV Debt Ratio', 'year_2003', 'BV Debt Ratio', 'year_2017', 'Std Deviation In Prices', 'month_6', 'year_1999', 'div_direction', 'month_8', 'alpha', 'div_change', 'EBITDA/Value', 'year_2018', 'year_2001', 'year_2008', 'year_2013', 'month_10', 'year_2009', 'year_2016', 'month_2', 'month_12', 'year_2000', 'year_2011', 'Capital Spending/BV of Capital', 'year_2014', 'month_4'}\n"
     ]
    }
   ],
   "source": [
    "_ = main.generate_bl_model_data(df, print_ = True, y_col = 'aar_5%')"
   ]
  },
  {
   "cell_type": "markdown",
   "metadata": {},
   "source": [
    "**Research replication**<br/>\n",
    "In order to validate our data and make sure it 'make sense', we will try to replicate previous research results.<br/>\n",
    "To do so - we would need to drop samples where $div\\_change = 0$. Using linear regression they recieved R^2 of about 7%, we will try to replicate it."
   ]
  },
  {
   "cell_type": "code",
   "execution_count": 110,
   "metadata": {},
   "outputs": [
    {
     "name": "stdout",
     "output_type": "stream",
     "text": [
      "R^2: 0.05810584723270629\n"
     ]
    }
   ],
   "source": [
    "#Regression model - Research\n",
    "research_baseline_model_data = main.generate_bl_model_data(df_aar_5_no_outliers, print_ = False, y_col = 'aar_5')\n",
    "research_baseline_model_data = research_baseline_model_data[research_baseline_model_data['div_direction'] != 0]\n",
    "_ = regression_models.run_linear_reg(research_baseline_model_data) "
   ]
  },
  {
   "cell_type": "markdown",
   "metadata": {},
   "source": [
    "First we can see we got close R squared to previous studies.<br/>\n",
    "The gap might be explained by the fact that previous studies implemented a more strict dividend policy assumption - a dividend change was considered as such only after two consecutive years of staying at the same level.<br/>\n",
    "The cost of implementing such a strict dividend policy is losing alot of samples."
   ]
  },
  {
   "cell_type": "markdown",
   "metadata": {},
   "source": [
    "**Linear regression as baseline**<br/>\n",
    "Use simple linear regression on our data:"
   ]
  },
  {
   "cell_type": "code",
   "execution_count": 111,
   "metadata": {},
   "outputs": [
    {
     "name": "stdout",
     "output_type": "stream",
     "text": [
      "R^2: 0.01110500151857785\n"
     ]
    }
   ],
   "source": [
    "bl_model_data = main.generate_bl_model_data(df_aar_5_precent_train, print_ = False, y_col = 'aar_5%')\n",
    "bl_model = regression_models.run_linear_reg(bl_model_data, y_col = 'aar_5%')"
   ]
  },
  {
   "cell_type": "markdown",
   "metadata": {},
   "source": [
    "The above result isn't satisfying, we would need to analyze it in two planes:\n",
    "1. Where did we do especially bad?\n",
    "2. Revisit our measurment assumption"
   ]
  },
  {
   "cell_type": "markdown",
   "metadata": {},
   "source": [
    "### Step 4: Analysis of error for the base line model + conclusions (years 2008-2009)\n",
    "TODO: visualize and discuss"
   ]
  },
  {
   "cell_type": "code",
   "execution_count": 112,
   "metadata": {},
   "outputs": [
    {
     "name": "stdout",
     "output_type": "stream",
     "text": [
      "R^2: 0.012652230413037313\n"
     ]
    }
   ],
   "source": [
    "baseline_model_data_no20089 = main.generate_bl_model_data(df_aar_5_precent_train, drop_08_09=True, print_ = False, y_col = 'aar_5%')\n",
    "_ = regression_models.run_linear_reg(baseline_model_data_no20089, y_col = \"aar_5%\")"
   ]
  },
  {
   "cell_type": "markdown",
   "metadata": {},
   "source": [
    "### Step 5: Revisiting measurment assumptions - Sensitivity analysis (size of window)"
   ]
  },
  {
   "cell_type": "markdown",
   "metadata": {},
   "source": [
    "The measurment assumption we would like to revisit is the windows size around the annoucement.<br/>\n",
    "As of now the window size if fixed to five days post and prior to the day of the dividend annoucment. There's a reason to believe that other window size (symmetrical or not) will correspond better with our goal - measuring the abnoraml return (more on that in the PDF documentation).\n",
    "Below, you can see the average normalized abnormal return (\"aar_i%\") gived the dividend change direction, for different window sizes."
   ]
  },
  {
   "cell_type": "code",
   "execution_count": 93,
   "metadata": {},
   "outputs": [
    {
     "name": "stdout",
     "output_type": "stream",
     "text": [
      "      aar_0%  aar_1%  aar_2%  aar_3%  aar_4%  aar_5%  aar_asy-1_5%\n",
      "down   -0.38   -0.40   -0.39   -0.38   -0.37   -0.37         -0.42\n",
      "flat   -0.04   -0.04   -0.03   -0.02   -0.02   -0.02          0.01\n",
      "up      0.21    0.26    0.29    0.31    0.33    0.34          0.47\n"
     ]
    }
   ],
   "source": [
    "_ =visualize.window_analysis(feature_handler.create_asymmetric_window(df, -1, 5), 'asy')"
   ]
  },
  {
   "cell_type": "markdown",
   "metadata": {},
   "source": [
    "From the table above we can see that the rightmost column - the asymmetrical window, shows the most consistent trends with our apriori believes. "
   ]
  },
  {
   "cell_type": "code",
   "execution_count": 94,
   "metadata": {},
   "outputs": [
    {
     "name": "stdout",
     "output_type": "stream",
     "text": [
      "R^2: 0.011980160901333914\n"
     ]
    }
   ],
   "source": [
    "start, end = -1 ,5\n",
    "y_col = \"aar_asy{}_{}%\".format(str(start), str(end))\n",
    "baseline_data_ws = main.generate_bl_model_data(df_aar_5_precent_no_outliers,\\\n",
    "                                                             window_size=(start, end),\\\n",
    "                                                             drop_08_09 = True,\n",
    "                                                             print_ = 0)\n",
    "_ = regression_models.run_linear_reg(baseline_data_ws, y_col = y_col)"
   ]
  },
  {
   "cell_type": "markdown",
   "metadata": {},
   "source": [
    "Although the results are not promising just yet, them major advantage is that using the new window size let us use more information closer to the announcment time (t-4 and t-5).\n",
    "Trying to fit linear regression to the other window sizes result in smiliar results:"
   ]
  },
  {
   "cell_type": "code",
   "execution_count": 97,
   "metadata": {},
   "outputs": [
    {
     "name": "stdout",
     "output_type": "stream",
     "text": [
      "Window: 1, R^2: 0.012071681078833274\n",
      "Window: 2, R^2: 0.011792889781559901\n",
      "Window: (-1, 5), R^2: 0.011980160901333914\n"
     ]
    }
   ],
   "source": [
    "for ws, y_col in [(1,'aar_1%'), (2, 'aar_2%'), ((-1,5) ,\"aar_asy{}_{}%\".format(*(-1,5)))]:\n",
    "    baseline_data_ws1 = main.generate_bl_model_data(df,\n",
    "                                                 window_size=ws,\n",
    "                                                 y_col=y_col,\n",
    "                                                 delta_precentage = False,\n",
    "                                                 drop_08_09 = True,\n",
    "                                                 print_ = 0)\n",
    "    print(\"Window: \"+str(ws), end = ', ')\n",
    "    _ = regression_models.run_linear_reg(baseline_data_ws1, y_col = y_col, print_summary= 0)"
   ]
  },
  {
   "cell_type": "markdown",
   "metadata": {},
   "source": [
    "### Step 6: Run new model (Regression) (naive + feature handler)"
   ]
  },
  {
   "cell_type": "markdown",
   "metadata": {},
   "source": [
    "We will consider two new features, since we normalized our response, it's make sense to also normalize in the same way the new features that were added from the window size change.<br/>\n",
    "$delta\\_\\%\\_{t-5}=\\frac{price_{t-5} - expected_{t-5}}{expected_{t-5}}$\n",
    "\n",
    "$delta\\_\\%\\_{t-4}=\\frac{price_{t-4} - expected_{t-4}}{expected_{t-4}}$"
   ]
  },
  {
   "cell_type": "code",
   "execution_count": 124,
   "metadata": {},
   "outputs": [
    {
     "name": "stdout",
     "output_type": "stream",
     "text": [
      "R^2: 0.38973192622120045\n"
     ]
    }
   ],
   "source": [
    "ws, y_col = ((-1,5) ,\"aar_asy{}_{}%\".format(*ws))\n",
    "baseline_data_ws = main.generate_bl_model_data(df,\n",
    "                                             window_size=ws,\n",
    "                                             y_col=y_col,\n",
    "                                             delta_precentage = True,\n",
    "                                             drop_08_09 = True,\n",
    "                                             print_ = 0)\n",
    "_ = regression_models.run_linear_reg(baseline_data_ws, y_col = y_col)"
   ]
  },
  {
   "cell_type": "markdown",
   "metadata": {},
   "source": [
    "**#TODO: ANAT**"
   ]
  },
  {
   "cell_type": "code",
   "execution_count": 125,
   "metadata": {},
   "outputs": [
    {
     "name": "stdout",
     "output_type": "stream",
     "text": [
      "Window: 1, R^2: 0.5124827747377475\n"
     ]
    }
   ],
   "source": [
    "baseline_data_ws1 = main.generate_bl_model_data(df,\n",
    "                                             window_size=1,\n",
    "                                             y_col='aar_1%',\n",
    "                                             delta_precentage = True,\n",
    "                                             drop_08_09 = True,\n",
    "                                             print_ = 0)\n",
    "print(\"Window: \"+str(1), end = ', ')\n",
    "_ = regression_models.run_linear_reg(baseline_data_ws1, y_col = 'aar_1%', print_summary= 0)"
   ]
  },
  {
   "cell_type": "markdown",
   "metadata": {},
   "source": [
    "Seems like that gave us a big improvment.<br/>\n",
    "That's raise some thoughts about the importance of the other features, using Recursive Feature Elimination gets $delta\\_\\%\\_{t-4}$ as the highest ranking feature"
   ]
  },
  {
   "cell_type": "code",
   "execution_count": 126,
   "metadata": {},
   "outputs": [
    {
     "data": {
      "text/plain": [
       "{'ar_t-5', 'delta_%_t-4', 'delta_%_t-5', 'expected_t-5', 'price_t-5'}"
      ]
     },
     "execution_count": 126,
     "metadata": {},
     "output_type": "execute_result"
    }
   ],
   "source": [
    "regression_models.rfe(baseline_data_ws, y_col, n_features_to_select=5)"
   ]
  },
  {
   "cell_type": "markdown",
   "metadata": {},
   "source": [
    "Running linear regression using only 'delta_%_t-4' support this decision:"
   ]
  },
  {
   "cell_type": "code",
   "execution_count": 132,
   "metadata": {},
   "outputs": [
    {
     "name": "stdout",
     "output_type": "stream",
     "text": [
      "R^2: 0.38595617677789495\n"
     ]
    }
   ],
   "source": [
    "_ = regression_models.run_linear_reg(baseline_data_ws[['delta_%_t-4', y_col]], y_col = y_col, print_summary= 0)"
   ]
  },
  {
   "cell_type": "markdown",
   "metadata": {},
   "source": [
    "We will issue two points:\n",
    "* The finnancial explanation behind it - since for most of our samples $div\\_direction=0$, it means that \n",
    "\n",
    "**#TODO: ANAT**"
   ]
  },
  {
   "cell_type": "markdown",
   "metadata": {},
   "source": [
    "### Step 7: Run different Regression models and compare\n",
    "Now we want to leave the linear regression model, and use more complex models.<br/>\n",
    "First we will split the data into train and test."
   ]
  },
  {
   "cell_type": "code",
   "execution_count": 324,
   "metadata": {},
   "outputs": [],
   "source": [
    "ws = (-1,5) \n",
    "y_col = \"aar_asy{}_{}%\".format(*ws)\n",
    "pred_data = main.generate_bl_model_data(df,\n",
    "                                         window_size=ws,\n",
    "                                         y_col=y_col,\n",
    "                                         delta_precentage = True,\n",
    "                                         drop_08_09 = True,\n",
    "                                         print_ = 0)\n",
    "X_train, X_test, y_train, y_test = main.split_test_train(pred_data, y_col = y_col, test_size = 0.33)"
   ]
  },
  {
   "cell_type": "markdown",
   "metadata": {},
   "source": [
    "Next we will introduce new baseline models:<br/>\n",
    "* The First one will be a simple linear regression, using only the variable 'delta_%_t-4'\n",
    "* The second one will be a constant model which always predict the mean value of y_train.<br/>\n",
    "\n",
    "In addition we will now look at the mean squared error instead of the R squared we looked at before. We want to compare models that aren't linear regression. In praticular we will examine the mse*(10^4) because the scale if very small."
   ]
  },
  {
   "cell_type": "code",
   "execution_count": 204,
   "metadata": {},
   "outputs": [
    {
     "name": "stdout",
     "output_type": "stream",
     "text": [
      "Linear Regression model mse*e+4: 15.39714828401666\n",
      "Constant model mse*e+4: 25.10803161952498\n"
     ]
    }
   ],
   "source": [
    "bl_model_lg, bl_model_const = regression_models.step7_bl_models(X_train, X_test, y_train, y_test)"
   ]
  },
  {
   "cell_type": "markdown",
   "metadata": {},
   "source": [
    "We examined few models, such as: MLP Regressor, XGBoost and Random Forest.<br/>\n",
    "We didn't get better results than our baselines, but we could see that the models that got good results 'converged' to one of the baseline models.<br/>\n",
    "We decided to first use our linear regression baseline model and then predict it's error:"
   ]
  },
  {
   "cell_type": "code",
   "execution_count": 205,
   "metadata": {},
   "outputs": [],
   "source": [
    "y_delta_train = y_train - bl_model_lg.predict(X_train[['delta_%_t-4']])\n",
    "y_delta_test = y_test - bl_model_lg.predict(X_test[['delta_%_t-4']])"
   ]
  },
  {
   "cell_type": "markdown",
   "metadata": {},
   "source": [
    "After considering few models, Random Forest gave us the best results:"
   ]
  },
  {
   "cell_type": "code",
   "execution_count": 319,
   "metadata": {},
   "outputs": [
    {
     "data": {
      "text/plain": [
       "RandomForestRegressor(bootstrap=True, criterion='mse', max_depth=None,\n",
       "                      max_features='auto', max_leaf_nodes=None,\n",
       "                      min_impurity_decrease=0.0, min_impurity_split=None,\n",
       "                      min_samples_leaf=1, min_samples_split=2,\n",
       "                      min_weight_fraction_leaf=0.0, n_estimators=10,\n",
       "                      n_jobs=None, oob_score=False, random_state=None,\n",
       "                      verbose=0, warm_start=False)"
      ]
     },
     "metadata": {},
     "output_type": "display_data"
    },
    {
     "name": "stdout",
     "output_type": "stream",
     "text": [
      "Total mse using lr+rf: 16.226109886954152\n"
     ]
    }
   ],
   "source": [
    "rf_model = main.fit_rf(X_train, y_delta_train, n_estimators=10, run_speed =1)\n",
    "display(rf_model)\n",
    "predictions = rf_model.predict(X_test) + bl_model_lg.predict(X_test[['delta_%_t-4']])\n",
    "print(\"Total mse using lr+rf: {}\".format(regression_models.mse(predictions, y_test)))"
   ]
  },
  {
   "cell_type": "markdown",
   "metadata": {},
   "source": [
    "### Step 8: Discrete Models"
   ]
  },
  {
   "cell_type": "markdown",
   "metadata": {},
   "source": [
    "### Step 9: Cross Validation, results and conclusions"
   ]
  },
  {
   "cell_type": "code",
   "execution_count": null,
   "metadata": {},
   "outputs": [],
   "source": []
  }
 ],
 "metadata": {
  "kernelspec": {
   "display_name": "Python 3",
   "language": "python",
   "name": "python3"
  },
  "language_info": {
   "codemirror_mode": {
    "name": "ipython",
    "version": 3
   },
   "file_extension": ".py",
   "mimetype": "text/x-python",
   "name": "python",
   "nbconvert_exporter": "python",
   "pygments_lexer": "ipython3",
   "version": "3.7.5"
  }
 },
 "nbformat": 4,
 "nbformat_minor": 4
}
